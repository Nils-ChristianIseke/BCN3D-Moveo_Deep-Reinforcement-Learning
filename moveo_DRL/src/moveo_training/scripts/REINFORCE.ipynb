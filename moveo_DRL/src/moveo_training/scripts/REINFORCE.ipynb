{
 "cells": [
  {
   "cell_type": "code",
   "execution_count": null,
   "source": [
    "import sys\n",
    "sys.executable\n",
    "import os\n",
    "os.getcwd()\n",
    "sys.path.append('devel/lib/python3/dist-packages/theconstruct_msgs/msg/')\n",
    "sys.path.append('/home/nils/Documents/Studium/Bachelorarbeit/praktischer_Teil/moveo_DRL/src')\n",
    "sys.path.append('/home/nils/Documents/Studium/Bachelorarbeit/praktischer_Teil/moveo_DRL/src/moveo_training/scripts')\n",
    "sys.path.append('/home/nils/Documents/Studium/Bachelorarbeit/praktischer_Teil/moveo_DRL/devel/lib/python3/dist-packages/openai_ros/msg')"
   ],
   "outputs": [],
   "metadata": {}
  },
  {
   "cell_type": "code",
   "execution_count": null,
   "source": [
    "from __future__ import absolute_import\n",
    "from __future__ import division\n",
    "from __future__ import print_function\n",
    "\n",
    "import base64\n",
    "import imageio\n",
    "import IPython\n",
    "import matplotlib.pyplot as plt\n",
    "import numpy as np\n",
    "import PIL.Image\n",
    "import pyvirtualdisplay\n",
    "\n",
    "import tensorflow as tf\n",
    "\n",
    "from tf_agents.agents.reinforce import reinforce_agent\n",
    "from tf_agents.environments import suite_gym\n",
    "from tf_agents.environments import tf_py_environment\n",
    "from tf_agents.networks import actor_distribution_network\n",
    "from tf_agents.replay_buffers import tf_uniform_replay_buffer\n",
    "from tf_agents.trajectories import trajectory\n",
    "from tf_agents.utils import common\n",
    "\n",
    "tf.compat.v1.enable_v2_behavior()\n",
    "\n",
    "import moveo_inverse_kinematic_discrete_MultiActions\n",
    "# Set up a virtual display for rendering OpenAI gym environments.\n",
    "display = pyvirtualdisplay.Display(visible=0, size=(1400, 900)).start()"
   ],
   "outputs": [
    {
     "output_type": "stream",
     "name": "stderr",
     "text": [
      "2021-08-23 12:20:25.242706: W tensorflow/stream_executor/platform/default/dso_loader.cc:64] Could not load dynamic library 'libcudart.so.11.0'; dlerror: libcudart.so.11.0: cannot open shared object file: No such file or directory; LD_LIBRARY_PATH: /home/nils/Documents/Studium/Bachelorarbeit/praktischer_Teil/moveo_DRL/devel/lib:/opt/ros/noetic/lib:/opt/ros/noetic/lib/x86_64-linux-gnu\n",
      "2021-08-23 12:20:25.242726: I tensorflow/stream_executor/cuda/cudart_stub.cc:29] Ignore above cudart dlerror if you do not have a GPU set up on your machine.\n"
     ]
    },
    {
     "output_type": "stream",
     "name": "stdout",
     "text": [
      "Failed to import pyassimp, see https://github.com/ros-planning/moveit/issues/86 for more info\n"
     ]
    }
   ],
   "metadata": {}
  },
  {
   "cell_type": "code",
   "execution_count": null,
   "source": [
    "num_iterations = 10000 # @param {type:\"integer\"}\n",
    "collect_episodes_per_iteration = 2 # @param {type:\"integer\"}\n",
    "replay_buffer_capacity = 2000 # @param {type:\"integer\"}\n",
    "\n",
    "fc_layer_params = (100,)\n",
    "\n",
    "learning_rate = 1e-3 # @param {type:\"number\"}\n",
    "log_interval = 25 # @param {type:\"integer\"}\n",
    "num_eval_episodes = 10 # @param {type:\"integer\"}\n",
    "eval_interval = 200 # @param {type:\"integer\"}"
   ],
   "outputs": [],
   "metadata": {}
  },
  {
   "cell_type": "code",
   "execution_count": null,
   "source": [],
   "outputs": [],
   "metadata": {}
  },
  {
   "cell_type": "code",
   "execution_count": null,
   "source": [
    "import rospy\n",
    "rospy.init_node(\"train_moveo_her\")\n",
    "env_name = 'MoveoIK_discrete_MultiActions-v0' # @param {type:\"string\"}\n",
    "env = suite_gym.load(env_name)"
   ],
   "outputs": [
    {
     "output_type": "stream",
     "name": "stdout",
     "text": [
      "###### Setting Group Moveit with 30 seconds wait...\n"
     ]
    },
    {
     "output_type": "stream",
     "name": "stderr",
     "text": [
      "[ERROR] [1629714031.480226, 75.603000]: NOT Initialising Simulation Physics Parameters\n",
      "[WARN] [1629714031.506127, 75.629000]: Start Init ControllersConnection\n",
      "[WARN] [1629714031.507607, 75.629000]: END Init ControllersConnection\n",
      "/home/nils/.local/lib/python3.8/site-packages/gym/logger.py:30: UserWarning: \u001b[33mWARN: Box bound precision lowered by casting to float32\u001b[0m\n",
      "  warnings.warn(colorize('%s: %s'%('WARN', msg % args), 'yellow'))\n"
     ]
    }
   ],
   "metadata": {}
  },
  {
   "cell_type": "code",
   "execution_count": null,
   "source": [
    "env.reset()\n",
    "# PIL.Image.fromarray(env.render())"
   ],
   "outputs": [
    {
     "output_type": "execute_result",
     "data": {
      "text/plain": [
       "TimeStep(\n",
       "{'discount': array(1., dtype=float32),\n",
       " 'observation': array([0.56698513, 0.3       , 0.3       , 0.3       ], dtype=float32),\n",
       " 'reward': array(0., dtype=float32),\n",
       " 'step_type': array(0, dtype=int32)})"
      ]
     },
     "metadata": {},
     "execution_count": 5
    }
   ],
   "metadata": {}
  },
  {
   "cell_type": "code",
   "execution_count": null,
   "source": [
    "print('Observation Spec:')\n",
    "print(env.time_step_spec().observation)\n",
    "print('Action Spec:')\n",
    "print(env.action_spec())"
   ],
   "outputs": [
    {
     "output_type": "stream",
     "name": "stdout",
     "text": [
      "Observation Spec:\n",
      "BoundedArraySpec(shape=(4,), dtype=dtype('float32'), name='observation', minimum=[ 0. -1. -1. -1.], maximum=[2. 1. 1. 1.])\n",
      "Action Spec:\n",
      "BoundedArraySpec(shape=(5,), dtype=dtype('int32'), name='action', minimum=0, maximum=269)\n"
     ]
    }
   ],
   "metadata": {}
  },
  {
   "cell_type": "code",
   "execution_count": null,
   "source": [
    "time_step = env.reset()\n",
    "print('Time step:')\n",
    "print(time_step)\n",
    "\n",
    "# action = np.array(1, dtype=np.int32)\n",
    "\n",
    "# next_time_step = env.step(action)\n",
    "# print('Next time step:')\n",
    "# print(next_time_step)"
   ],
   "outputs": [
    {
     "output_type": "stream",
     "name": "stdout",
     "text": [
      "Time step:\n",
      "TimeStep(\n",
      "{'discount': array(1., dtype=float32),\n",
      " 'observation': array([0.5670003, 0.3      , 0.3      , 0.3      ], dtype=float32),\n",
      " 'reward': array(0., dtype=float32),\n",
      " 'step_type': array(0, dtype=int32)})\n"
     ]
    }
   ],
   "metadata": {}
  },
  {
   "cell_type": "code",
   "execution_count": null,
   "source": [
    "train_py_env = suite_gym.load(env_name)\n",
    "eval_py_env = suite_gym.load(env_name)\n",
    "\n",
    "train_env = tf_py_environment.TFPyEnvironment(train_py_env)\n",
    "eval_env = tf_py_environment.TFPyEnvironment(eval_py_env)"
   ],
   "outputs": [
    {
     "output_type": "stream",
     "name": "stdout",
     "text": [
      "###### Setting Group Moveit with 30 seconds wait...\n",
      "###### Setting Group Moveit with 30 seconds wait...\n"
     ]
    },
    {
     "output_type": "stream",
     "name": "stderr",
     "text": [
      "[ERROR] [1629714033.399873, 77.434000]: NOT Initialising Simulation Physics Parameters\n",
      "[WARN] [1629714033.422769, 77.456000]: Start Init ControllersConnection\n",
      "[WARN] [1629714033.424022, 77.456000]: END Init ControllersConnection\n",
      "[ERROR] [1629714033.824939, 77.829000]: NOT Initialising Simulation Physics Parameters\n",
      "[WARN] [1629714033.858108, 77.854000]: Start Init ControllersConnection\n",
      "[WARN] [1629714033.859670, 77.854000]: END Init ControllersConnection\n"
     ]
    }
   ],
   "metadata": {}
  },
  {
   "cell_type": "code",
   "execution_count": null,
   "source": [
    "actor_net = actor_distribution_network.ActorDistributionNetwork(\n",
    "    train_env.observation_spec(),\n",
    "    train_env.action_spec(),\n",
    "    fc_layer_params=fc_layer_params)"
   ],
   "outputs": [],
   "metadata": {}
  },
  {
   "cell_type": "code",
   "execution_count": null,
   "source": [
    "optimizer = tf.compat.v1.train.AdamOptimizer(learning_rate=learning_rate)\n",
    "\n",
    "train_step_counter = tf.compat.v2.Variable(0)\n",
    "\n",
    "tf_agent = reinforce_agent.ReinforceAgent(\n",
    "    train_env.time_step_spec(),\n",
    "    train_env.action_spec(),\n",
    "    actor_network=actor_net,\n",
    "    optimizer=optimizer,\n",
    "    normalize_returns=True,\n",
    "    train_step_counter=train_step_counter)\n",
    "tf_agent.initialize()"
   ],
   "outputs": [
    {
     "output_type": "stream",
     "name": "stderr",
     "text": [
      "2021-08-23 12:20:34.448848: I tensorflow/stream_executor/platform/default/dso_loader.cc:53] Successfully opened dynamic library libcuda.so.1\n",
      "2021-08-23 12:20:34.474841: I tensorflow/stream_executor/cuda/cuda_gpu_executor.cc:937] successful NUMA node read from SysFS had negative value (-1), but there must be at least one NUMA node, so returning NUMA node zero\n",
      "2021-08-23 12:20:34.475352: I tensorflow/core/common_runtime/gpu/gpu_device.cc:1733] Found device 0 with properties: \n",
      "pciBusID: 0000:01:00.0 name: GeForce GTX 970 computeCapability: 5.2\n",
      "coreClock: 1.2155GHz coreCount: 13 deviceMemorySize: 3.94GiB deviceMemoryBandwidth: 208.91GiB/s\n",
      "2021-08-23 12:20:34.475521: W tensorflow/stream_executor/platform/default/dso_loader.cc:64] Could not load dynamic library 'libcudart.so.11.0'; dlerror: libcudart.so.11.0: cannot open shared object file: No such file or directory; LD_LIBRARY_PATH: /home/nils/Documents/Studium/Bachelorarbeit/praktischer_Teil/moveo_DRL/devel/lib:/opt/ros/noetic/lib:/opt/ros/noetic/lib/x86_64-linux-gnu\n",
      "2021-08-23 12:20:34.475593: W tensorflow/stream_executor/platform/default/dso_loader.cc:64] Could not load dynamic library 'libcublas.so.11'; dlerror: libcublas.so.11: cannot open shared object file: No such file or directory; LD_LIBRARY_PATH: /home/nils/Documents/Studium/Bachelorarbeit/praktischer_Teil/moveo_DRL/devel/lib:/opt/ros/noetic/lib:/opt/ros/noetic/lib/x86_64-linux-gnu\n",
      "2021-08-23 12:20:34.475657: W tensorflow/stream_executor/platform/default/dso_loader.cc:64] Could not load dynamic library 'libcublasLt.so.11'; dlerror: libcublasLt.so.11: cannot open shared object file: No such file or directory; LD_LIBRARY_PATH: /home/nils/Documents/Studium/Bachelorarbeit/praktischer_Teil/moveo_DRL/devel/lib:/opt/ros/noetic/lib:/opt/ros/noetic/lib/x86_64-linux-gnu\n",
      "2021-08-23 12:20:34.475724: W tensorflow/stream_executor/platform/default/dso_loader.cc:64] Could not load dynamic library 'libcufft.so.10'; dlerror: libcufft.so.10: cannot open shared object file: No such file or directory; LD_LIBRARY_PATH: /home/nils/Documents/Studium/Bachelorarbeit/praktischer_Teil/moveo_DRL/devel/lib:/opt/ros/noetic/lib:/opt/ros/noetic/lib/x86_64-linux-gnu\n",
      "2021-08-23 12:20:34.475810: W tensorflow/stream_executor/platform/default/dso_loader.cc:64] Could not load dynamic library 'libcurand.so.10'; dlerror: libcurand.so.10: cannot open shared object file: No such file or directory; LD_LIBRARY_PATH: /home/nils/Documents/Studium/Bachelorarbeit/praktischer_Teil/moveo_DRL/devel/lib:/opt/ros/noetic/lib:/opt/ros/noetic/lib/x86_64-linux-gnu\n",
      "2021-08-23 12:20:34.475875: W tensorflow/stream_executor/platform/default/dso_loader.cc:64] Could not load dynamic library 'libcusolver.so.11'; dlerror: libcusolver.so.11: cannot open shared object file: No such file or directory; LD_LIBRARY_PATH: /home/nils/Documents/Studium/Bachelorarbeit/praktischer_Teil/moveo_DRL/devel/lib:/opt/ros/noetic/lib:/opt/ros/noetic/lib/x86_64-linux-gnu\n",
      "2021-08-23 12:20:34.475939: W tensorflow/stream_executor/platform/default/dso_loader.cc:64] Could not load dynamic library 'libcusparse.so.11'; dlerror: libcusparse.so.11: cannot open shared object file: No such file or directory; LD_LIBRARY_PATH: /home/nils/Documents/Studium/Bachelorarbeit/praktischer_Teil/moveo_DRL/devel/lib:/opt/ros/noetic/lib:/opt/ros/noetic/lib/x86_64-linux-gnu\n",
      "2021-08-23 12:20:34.476001: W tensorflow/stream_executor/platform/default/dso_loader.cc:64] Could not load dynamic library 'libcudnn.so.8'; dlerror: libcudnn.so.8: cannot open shared object file: No such file or directory; LD_LIBRARY_PATH: /home/nils/Documents/Studium/Bachelorarbeit/praktischer_Teil/moveo_DRL/devel/lib:/opt/ros/noetic/lib:/opt/ros/noetic/lib/x86_64-linux-gnu\n",
      "2021-08-23 12:20:34.476010: W tensorflow/core/common_runtime/gpu/gpu_device.cc:1766] Cannot dlopen some GPU libraries. Please make sure the missing libraries mentioned above are installed properly if you would like to use GPU. Follow the guide at https://www.tensorflow.org/install/gpu for how to download and setup the required libraries for your platform.\n",
      "Skipping registering GPU devices...\n",
      "2021-08-23 12:20:34.478426: I tensorflow/core/platform/cpu_feature_guard.cc:142] This TensorFlow binary is optimized with oneAPI Deep Neural Network Library (oneDNN) to use the following CPU instructions in performance-critical operations:  AVX2 FMA\n",
      "To enable them in other operations, rebuild TensorFlow with the appropriate compiler flags.\n",
      "2021-08-23 12:20:34.478631: I tensorflow/core/common_runtime/gpu/gpu_device.cc:1258] Device interconnect StreamExecutor with strength 1 edge matrix:\n",
      "2021-08-23 12:20:34.478641: I tensorflow/core/common_runtime/gpu/gpu_device.cc:1264]      \n"
     ]
    }
   ],
   "metadata": {}
  },
  {
   "cell_type": "code",
   "execution_count": null,
   "source": [
    "eval_policy = tf_agent.policy\n",
    "collect_policy = tf_agent.collect_policy"
   ],
   "outputs": [],
   "metadata": {}
  },
  {
   "cell_type": "code",
   "execution_count": null,
   "source": [
    "def compute_avg_return(environment, policy, num_episodes=10):\n",
    "\n",
    "  total_return = 0.0\n",
    "  for _ in range(num_episodes):\n",
    "\n",
    "    time_step = environment.reset()\n",
    "    episode_return = 0.0\n",
    "\n",
    "    while not time_step.is_last():\n",
    "      action_step = policy.action(time_step)\n",
    "      time_step = environment.step(action_step.action)\n",
    "      episode_return += time_step.reward\n",
    "    total_return += episode_return\n",
    "\n",
    "  avg_return = total_return / num_episodes\n",
    "  return avg_return.numpy()[0]\n",
    "\n",
    "\n",
    "# Please also see the metrics module for standard implementations of different\n",
    "# metrics."
   ],
   "outputs": [],
   "metadata": {}
  },
  {
   "cell_type": "code",
   "execution_count": null,
   "source": [
    "replay_buffer = tf_uniform_replay_buffer.TFUniformReplayBuffer(\n",
    "    data_spec=tf_agent.collect_data_spec,\n",
    "    batch_size=train_env.batch_size,\n",
    "    max_length=replay_buffer_capacity)"
   ],
   "outputs": [],
   "metadata": {}
  },
  {
   "cell_type": "code",
   "execution_count": null,
   "source": [
    "def collect_episode(environment, policy, num_episodes):\n",
    "\n",
    "  episode_counter = 0\n",
    "  environment.reset()\n",
    "\n",
    "  while episode_counter < num_episodes:\n",
    "    time_step = environment.current_time_step()\n",
    "    action_step = policy.action(time_step)\n",
    "    next_time_step = environment.step(action_step.action)\n",
    "    traj = trajectory.from_transition(time_step, action_step, next_time_step)\n",
    "\n",
    "    # Add trajectory to the replay buffer\n",
    "    replay_buffer.add_batch(traj)\n",
    "\n",
    "    if traj.is_boundary():\n",
    "      episode_counter += 1\n",
    "\n",
    "\n",
    "# This loop is so common in RL, that we provide standard implementations of\n",
    "# these. For more details see the drivers module."
   ],
   "outputs": [],
   "metadata": {}
  },
  {
   "cell_type": "code",
   "execution_count": null,
   "source": [
    "try:\n",
    "  %%time\n",
    "except:\n",
    "  pass\n",
    "\n",
    "# (Optional) Optimize by wrapping some of the code in a graph using TF function.\n",
    "tf_agent.train = common.function(tf_agent.train)\n",
    "\n",
    "# Reset the train step\n",
    "tf_agent.train_step_counter.assign(0)\n",
    "\n",
    "# Evaluate the agent's policy once before training.\n",
    "avg_return = compute_avg_return(eval_env, tf_agent.policy, num_eval_episodes)\n",
    "returns = [avg_return]\n",
    "\n",
    "for _ in range(num_iterations):\n",
    "\n",
    "  # Collect a few episodes using collect_policy and save to the replay buffer.\n",
    "  collect_episode(\n",
    "      train_env, tf_agent.collect_policy, collect_episodes_per_iteration)\n",
    "\n",
    "  # Use data from the buffer and update the agent's network.\n",
    "  experience = replay_buffer.gather_all()\n",
    "  train_loss = tf_agent.train(experience)\n",
    "  replay_buffer.clear()\n",
    "\n",
    "  step = tf_agent.train_step_counter.numpy()\n",
    "\n",
    "  if step % log_interval == 0:\n",
    "    print('step = {0}: loss = {1}'.format(step, train_loss.loss))\n",
    "\n",
    "  if step % eval_interval == 0:\n",
    "    avg_return = compute_avg_return(eval_env, tf_agent.policy, num_eval_episodes)\n",
    "    print('step = {0}: Average Return = {1}'.format(step, avg_return))\n",
    "    returns.append(avg_return)"
   ],
   "outputs": [
    {
     "output_type": "stream",
     "name": "stdout",
     "text": [
      "[148  96 191 148  10]\n"
     ]
    },
    {
     "output_type": "stream",
     "name": "stderr",
     "text": [
      "\u001b[33m[ WARN] [1629714036.622299497, 80.454000000]: Fail: ABORTED: No motion plan found. No execution attempted.\u001b[0m\n"
     ]
    },
    {
     "output_type": "stream",
     "name": "stdout",
     "text": [
      "[148  96 191 148  10]\n"
     ]
    },
    {
     "output_type": "stream",
     "name": "stderr",
     "text": [
      "\u001b[33m[ WARN] [1629714037.529904001, 81.365000000]: Fail: ABORTED: No motion plan found. No execution attempted.\u001b[0m\n"
     ]
    },
    {
     "output_type": "stream",
     "name": "stdout",
     "text": [
      "[148  96 191 148  10]\n"
     ]
    },
    {
     "output_type": "stream",
     "name": "stderr",
     "text": [
      "\u001b[33m[ WARN] [1629714038.379528629, 82.208000000]: Fail: ABORTED: No motion plan found. No execution attempted.\u001b[0m\n"
     ]
    },
    {
     "output_type": "stream",
     "name": "stdout",
     "text": [
      "[148  96 191 148  10]\n"
     ]
    },
    {
     "output_type": "stream",
     "name": "stderr",
     "text": [
      "\u001b[33m[ WARN] [1629714039.204747165, 83.017000000]: Fail: ABORTED: No motion plan found. No execution attempted.\u001b[0m\n"
     ]
    },
    {
     "output_type": "stream",
     "name": "stdout",
     "text": [
      "[148  96 191 148  10]\n"
     ]
    },
    {
     "output_type": "stream",
     "name": "stderr",
     "text": [
      "\u001b[33m[ WARN] [1629714040.094400458, 83.918000000]: Fail: ABORTED: No motion plan found. No execution attempted.\u001b[0m\n"
     ]
    },
    {
     "output_type": "stream",
     "name": "stdout",
     "text": [
      "[148  96 191 148  10]\n"
     ]
    },
    {
     "output_type": "stream",
     "name": "stderr",
     "text": [
      "\u001b[33m[ WARN] [1629714040.935276236, 84.753000000]: Fail: ABORTED: No motion plan found. No execution attempted.\u001b[0m\n"
     ]
    },
    {
     "output_type": "stream",
     "name": "stdout",
     "text": [
      "[148  96 191 148  10]\n"
     ]
    },
    {
     "output_type": "stream",
     "name": "stderr",
     "text": [
      "\u001b[33m[ WARN] [1629714041.816578369, 85.594000000]: Fail: ABORTED: No motion plan found. No execution attempted.\u001b[0m\n"
     ]
    },
    {
     "output_type": "stream",
     "name": "stdout",
     "text": [
      "[148  96 191 148  10]\n"
     ]
    },
    {
     "output_type": "stream",
     "name": "stderr",
     "text": [
      "\u001b[33m[ WARN] [1629714042.646714335, 86.425000000]: Fail: ABORTED: No motion plan found. No execution attempted.\u001b[0m\n"
     ]
    },
    {
     "output_type": "stream",
     "name": "stdout",
     "text": [
      "[148  96 191 148  10]\n"
     ]
    },
    {
     "output_type": "stream",
     "name": "stderr",
     "text": [
      "\u001b[33m[ WARN] [1629714043.540985581, 87.307000000]: Fail: ABORTED: No motion plan found. No execution attempted.\u001b[0m\n"
     ]
    },
    {
     "output_type": "stream",
     "name": "stdout",
     "text": [
      "[148  96 191 148  10]\n"
     ]
    },
    {
     "output_type": "stream",
     "name": "stderr",
     "text": [
      "\u001b[33m[ WARN] [1629714044.250352805, 87.983000000]: Fail: ABORTED: No motion plan found. No execution attempted.\u001b[0m\n"
     ]
    },
    {
     "output_type": "stream",
     "name": "stdout",
     "text": [
      "[166  81 241 242  67]\n",
      "[258  46   4 239 229]\n",
      "Error setting joint target. Is the target within bounds?\n",
      "WARNING:tensorflow:From /tmp/ipykernel_2173657/3980646871.py:23: ReplayBuffer.gather_all (from tf_agents.replay_buffers.replay_buffer) is deprecated and will be removed in a future version.\n",
      "Instructions for updating:\n",
      "Use `as_dataset(..., single_deterministic_pass=True)` instead.\n"
     ]
    },
    {
     "output_type": "stream",
     "name": "stderr",
     "text": [
      "2021-08-23 12:20:54.061261: I tensorflow/compiler/mlir/mlir_graph_optimization_pass.cc:176] None of the MLIR Optimization Passes are enabled (registered 2)\n",
      "2021-08-23 12:20:54.089032: I tensorflow/core/platform/profile_utils/cpu_utils.cc:114] CPU Frequency: 3192610000 Hz\n"
     ]
    },
    {
     "output_type": "stream",
     "name": "stdout",
     "text": [
      "[185 194  48  26  17]\n"
     ]
    },
    {
     "output_type": "stream",
     "name": "stderr",
     "text": [
      "\u001b[33m[ WARN] [1629714054.998812551, 98.367000000]: Fail: ABORTED: No motion plan found. No execution attempted.\u001b[0m\n"
     ]
    },
    {
     "output_type": "stream",
     "name": "stdout",
     "text": [
      "[ 38 151 153   7 192]\n",
      "[188  63 191 264 219]\n",
      "[217 134 269 161 250]\n"
     ]
    },
    {
     "output_type": "stream",
     "name": "stderr",
     "text": [
      "\u001b[33m[ WARN] [1629714071.317324760, 115.718000000]: Fail: ABORTED: No motion plan found. No execution attempted.\u001b[0m\n"
     ]
    },
    {
     "output_type": "stream",
     "name": "stdout",
     "text": [
      "[ 15  49  76 225 149]\n",
      "Error setting joint target. Is the target within bounds?\n",
      "[217  80 197  69 254]\n"
     ]
    },
    {
     "output_type": "stream",
     "name": "stderr",
     "text": [
      "\u001b[33m[ WARN] [1629714072.616664352, 119.366000000]: Fail: ABORTED: No motion plan found. No execution attempted.\u001b[0m\n"
     ]
    },
    {
     "output_type": "stream",
     "name": "stdout",
     "text": [
      "[ 54 256 241 258  61]\n"
     ]
    },
    {
     "output_type": "stream",
     "name": "stderr",
     "text": [
      "\u001b[33m[ WARN] [1629714074.060323263, 123.755000000]: Fail: ABORTED: No motion plan found. No execution attempted.\u001b[0m\n"
     ]
    },
    {
     "output_type": "stream",
     "name": "stdout",
     "text": [
      "[269 263 217  49  98]\n",
      "Error setting joint target. Is the target within bounds?\n",
      "[ 44 112  50 194  58]\n",
      "[131 106 248 252  97]\n",
      "[  8 117 193 211  72]\n",
      "Error setting joint target. Is the target within bounds?\n",
      "[182 173 256 148 220]\n",
      "[116 137  82 120  58]\n",
      "[  9  66  95 124   4]\n",
      "Error setting joint target. Is the target within bounds?\n",
      "[190 198  97  22 146]\n",
      "[269 216 127  82 187]\n",
      "Error setting joint target. Is the target within bounds?\n",
      "[ 94 198 172 265  71]\n",
      "[189 103  64  63 142]\n",
      "[  5  82 226 141  89]\n",
      "Error setting joint target. Is the target within bounds?\n",
      "[ 81 128  80  48 138]\n",
      "[175 169  51 119  27]\n",
      "[ 63 150 115  78 150]\n",
      "[258  62 212 175  17]\n",
      "Error setting joint target. Is the target within bounds?\n",
      "[249  41 243  91 183]\n",
      "[ 64  82  87  97 215]\n",
      "[ 97 146 120 148 223]\n",
      "[127 138  45 196 267]\n"
     ]
    },
    {
     "output_type": "stream",
     "name": "stderr",
     "text": [
      "\u001b[33m[ WARN] [1629714098.043143879, 1002.214000000]: Fail: ABORTED: No motion plan found. No execution attempted.\u001b[0m\n"
     ]
    },
    {
     "output_type": "stream",
     "name": "stdout",
     "text": [
      "[ 19 240  44 165  38]\n",
      "Error setting joint target. Is the target within bounds?\n",
      "[209 224  35 127  67]\n",
      "[156 148  25 214 245]\n",
      "[185 128 218 185  44]\n",
      "[ 54 199  76  30 157]\n",
      "[ 35 205  43 265 210]\n",
      "[  2 264 130  90 167]\n",
      "Error setting joint target. Is the target within bounds?\n",
      "[142 211  12  10 209]\n",
      "[255 154 205 227 215]\n",
      "Error setting joint target. Is the target within bounds?\n",
      "[148 265 213  63  92]\n",
      "[ 25 113 105 263 191]\n",
      "[224 207  38 230 131]\n",
      "[ 14 239 116  10 125]\n",
      "Error setting joint target. Is the target within bounds?\n",
      "[ 28 257  14 199 202]\n",
      "[219 165  61 267  56]\n",
      "[  6 103 127  58 264]\n",
      "Error setting joint target. Is the target within bounds?\n",
      "[135 106 244 113  10]\n"
     ]
    },
    {
     "output_type": "stream",
     "name": "stderr",
     "text": [
      "\u001b[33m[ WARN] [1629714118.663576820, 1920.364000000]: Fail: ABORTED: No motion plan found. No execution attempted.\u001b[0m\n"
     ]
    },
    {
     "output_type": "stream",
     "name": "stdout",
     "text": [
      "[135 230 179 102 157]\n",
      "[ 96  18 261 118 253]\n"
     ]
    },
    {
     "output_type": "stream",
     "name": "stderr",
     "text": [
      "\u001b[33m[ WARN] [1629714120.879575674, 2014.414000000]: Fail: ABORTED: No motion plan found. No execution attempted.\u001b[0m\n"
     ]
    },
    {
     "output_type": "stream",
     "name": "stdout",
     "text": [
      "[105  41 205  78  69]\n",
      "[183  96  41  20 225]\n",
      "step = 25: loss = -5.695989608764648\n",
      "[ 80 183  26  95 269]\n"
     ]
    },
    {
     "output_type": "stream",
     "name": "stderr",
     "text": [
      "\u001b[33m[ WARN] [1629714125.424892054, 2156.254000000]: Fail: ABORTED: No motion plan found. No execution attempted.\u001b[0m\n"
     ]
    },
    {
     "output_type": "stream",
     "name": "stdout",
     "text": [
      "[ 54 138  37  65  82]\n",
      "[101 209 129  10  19]\n"
     ]
    },
    {
     "output_type": "stream",
     "name": "stderr",
     "text": [
      "\u001b[33m[ WARN] [1629714127.793167455, 2230.124000000]: Fail: ABORTED: No motion plan found. No execution attempted.\u001b[0m\n"
     ]
    },
    {
     "output_type": "stream",
     "name": "stdout",
     "text": [
      "[194  41 145 184   3]\n"
     ]
    },
    {
     "output_type": "stream",
     "name": "stderr",
     "text": [
      "\u001b[33m[ WARN] [1629714128.516606783, 2242.204000000]: Fail: ABORTED: No motion plan found. No execution attempted.\u001b[0m\n"
     ]
    },
    {
     "output_type": "stream",
     "name": "stdout",
     "text": [
      "[  8 101 111 155 241]\n",
      "Error setting joint target. Is the target within bounds?\n",
      "[117  40  24  94  44]\n"
     ]
    },
    {
     "output_type": "stream",
     "name": "stderr",
     "text": [
      "\u001b[33m[ WARN] [1629714130.046138906, 2278.084000000]: Fail: ABORTED: No motion plan found. No execution attempted.\u001b[0m\n"
     ]
    },
    {
     "output_type": "stream",
     "name": "stdout",
     "text": [
      "[ 16 208 133 112 175]\n",
      "Error setting joint target. Is the target within bounds?\n",
      "[251 251 251  38  10]\n",
      "Error setting joint target. Is the target within bounds?\n",
      "[ 58  72 146 238   7]\n"
     ]
    },
    {
     "output_type": "stream",
     "name": "stderr",
     "text": [
      "\u001b[33m[ WARN] [1629714132.435847696, 2359.954000000]: Fail: ABORTED: No motion plan found. No execution attempted.\u001b[0m\n"
     ]
    },
    {
     "output_type": "stream",
     "name": "stdout",
     "text": [
      "[125  57  97  56 211]\n",
      "[ 68 107  50 142 132]\n",
      "[ 48  36 142  81   0]\n",
      "\u001b[0m[ INFO] [1629714029.309319982]: Loading robot model 'moveo_description'...\u001b[0m\n",
      "\u001b[0m[ INFO] [1629714029.311749743]: No root/virtual joint specified in SRDF. Assuming fixed joint\u001b[0m\n",
      "\u001b[0m[ INFO] [1629714031.437181352, 75.561000000]: Ready to take commands for planning group arm.\u001b[0m\n",
      "\u001b[0m[ INFO] [1629714032.814292048, 76.904000000]: ABORTED: Solution found but controller failed during execution\u001b[0m\n",
      "\u001b[0m[ INFO] [1629714033.361813125, 77.404000000]: Ready to take commands for planning group arm.\u001b[0m\n",
      "\u001b[0m[ INFO] [1629714033.793553651, 77.804000000]: Ready to take commands for planning group arm.\u001b[0m\n",
      "\u001b[0m[ INFO] [1629714036.778741609, 80.613000000]: ABORTED: No motion plan found. No execution attempted.\u001b[0m\n",
      "\u001b[0m[ INFO] [1629714037.245252523, 81.074000000]: ABORTED: Solution found but controller failed during execution\u001b[0m\n",
      "\u001b[0m[ INFO] [1629714037.735389059, 81.572000000]: ABORTED: No motion plan found. No execution attempted.\u001b[0m\n",
      "\u001b[0m[ INFO] [1629714038.111863262, 81.945000000]: ABORTED: Solution found but controller failed during execution\u001b[0m\n",
      "\u001b[0m[ INFO] [1629714038.561354200, 82.385000000]: ABORTED: No motion plan found. No execution attempted.\u001b[0m\n",
      "\u001b[0m[ INFO] [1629714038.956140227, 82.786000000]: ABORTED: Solution found but controller failed during execution\u001b[0m\n",
      "\u001b[0m[ INFO] [1629714039.355186507, 83.171000000]: ABORTED: No motion plan found. No execution attempted.\u001b[0m\n",
      "\u001b[0m[ INFO] [1629714040.215296264, 84.037000000]: ABORTED: No motion plan found. No execution attempted.\u001b[0m\n",
      "\u001b[0m[ INFO] [1629714040.642750909, 84.466000000]: ABORTED: Solution found but controller failed during execution\u001b[0m\n",
      "\u001b[0m[ INFO] [1629714041.092977959, 84.906000000]: ABORTED: No motion plan found. No execution attempted.\u001b[0m\n",
      "\u001b[0m[ INFO] [1629714041.546415825, 85.354000000]: ABORTED: Solution found but controller failed during execution\u001b[0m\n",
      "\u001b[0m[ INFO] [1629714041.962492164, 85.737000000]: ABORTED: No motion plan found. No execution attempted.\u001b[0m\n",
      "\u001b[0m[ INFO] [1629714042.384387942, 86.164000000]: ABORTED: Solution found but controller failed during execution\u001b[0m\n",
      "\u001b[0m[ INFO] [1629714042.791772852, 86.572000000]: ABORTED: No motion plan found. No execution attempted.\u001b[0m\n",
      "\u001b[0m[ INFO] [1629714043.203105169, 86.964000000]: ABORTED: Solution found but controller failed during execution\u001b[0m\n",
      "\u001b[0m[ INFO] [1629714043.703012668, 87.462000000]: ABORTED: No motion plan found. No execution attempted.\u001b[0m\n",
      "\u001b[0m[ INFO] [1629714044.428155650, 88.151000000]: ABORTED: No motion plan found. No execution attempted.\u001b[0m\n",
      "\u001b[0m[ INFO] [1629714044.834191628, 88.533000000]: ABORTED: Solution found but controller failed during execution\u001b[0m\n",
      "\u001b[0m[ INFO] [1629714055.143308234, 98.514000000]: ABORTED: No motion plan found. No execution attempted.\u001b[0m\n",
      "\u001b[0m[ INFO] [1629714055.545456956, 98.905000000]: ABORTED: Solution found but controller failed during execution\u001b[0m\n",
      "\u001b[0m[ INFO] [1629714071.515246702, 116.323000000]: ABORTED: No motion plan found. No execution attempted.\u001b[0m\n",
      "\u001b[0m[ INFO] [1629714072.696809221, 119.633000000]: ABORTED: No motion plan found. No execution attempted.\u001b[0m\n",
      "\u001b[0m[ INFO] [1629714074.746951599, 126.315000000]: ABORTED: No motion plan found. No execution attempted.\u001b[0m\n",
      "\u001b[0m[ INFO] [1629714098.169691171, 1008.274000000]: ABORTED: No motion plan found. No execution attempted.\u001b[0m\n",
      "\u001b[0m[ INFO] [1629714118.797539205, 1924.214000000]: ABORTED: No motion plan found. No execution attempted.\u001b[0m\n",
      "\u001b[0m[ INFO] [1629714121.034975510, 2019.534000000]: ABORTED: No motion plan found. No execution attempted.\u001b[0m\n",
      "\u001b[0m[ INFO] [1629714125.549654831, 2160.834000000]: ABORTED: No motion plan found. No execution attempted.\u001b[0m\n",
      "\u001b[0m[ INFO] [1629714128.028266799, 2234.864000000]: ABORTED: No motion plan found. No execution attempted.\u001b[0m\n",
      "\u001b[0m[ INFO] [1629714128.622552384, 2244.074000000]: ABORTED: No motion plan found. No execution attempted.\u001b[0m\n",
      "\u001b[0m[ INFO] [1629714130.171741472, 2280.894000000]: ABORTED: No motion plan found. No execution attempted.\u001b[0m\n",
      "\u001b[0m[ INFO] [1629714132.612074612, 2363.794000000]: ABORTED: No motion plan found. No execution attempted.\u001b[0m\n",
      "\u001b[0m[ INFO] [16297141"
     ]
    },
    {
     "output_type": "stream",
     "name": "stderr",
     "text": [
      "\u001b[33m[ WARN] [1629714135.747725302, 2464.884000000]: Fail: ABORTED: No motion plan found. No execution attempted.\u001b[0m\n"
     ]
    },
    {
     "output_type": "stream",
     "name": "stdout",
     "text": [
      "[139 194  55 256 245]\n",
      "[ 43  87  37 262 100]\n",
      "[150 118  58 111 170]\n",
      "[228 181  14  79 260]\n"
     ]
    },
    {
     "output_type": "stream",
     "name": "stderr",
     "text": [
      "\u001b[33m[ WARN] [1629714143.316341755, 2669.184000000]: Fail: ABORTED: No motion plan found. No execution attempted.\u001b[0m\n"
     ]
    },
    {
     "output_type": "stream",
     "name": "stdout",
     "text": [
      "[187  95 206 114  84]\n",
      "[ 62 128 186 225  66]\n",
      "[179 201 145  48 221]\n",
      "[123 180 245  15  75]\n",
      "[ 32  15 192  55 185]\n",
      "[ 30 181  26 172 221]\n",
      "[ 14 265 183  66  24]\n",
      "Error setting joint target. Is the target within bounds?\n",
      "[ 60 233   4  41 219]\n",
      "[251  48  19 255 196]\n",
      "Error setting joint target. Is the target within bounds?\n",
      "[187 237 115 131  20]\n"
     ]
    },
    {
     "output_type": "stream",
     "name": "stderr",
     "text": [
      "\u001b[33m[ WARN] [1629714157.979707410, 3148.024000000]: Fail: ABORTED: No motion plan found. No execution attempted.\u001b[0m\n"
     ]
    },
    {
     "output_type": "stream",
     "name": "stdout",
     "text": [
      "[255   8 189 227  66]\n",
      "Error setting joint target. Is the target within bounds?\n",
      "[ 32  95 108  11  12]\n"
     ]
    },
    {
     "output_type": "stream",
     "name": "stderr",
     "text": [
      "\u001b[33m[ WARN] [1629714159.897403689, 3242.624000000]: Fail: ABORTED: No motion plan found. No execution attempted.\u001b[0m\n"
     ]
    },
    {
     "output_type": "stream",
     "name": "stdout",
     "text": [
      "[ 38 249  13 147 239]\n",
      "[103  47 128  55  72]\n",
      "[175  22 169 186 125]\n",
      "[152 226 214 191  33]\n",
      "[251 214 181  88  30]\n",
      "Error setting joint target. Is the target within bounds?\n",
      "[221 177 161 180  95]\n",
      "[72  9 59 81 38]\n"
     ]
    },
    {
     "output_type": "stream",
     "name": "stderr",
     "text": [
      "\u001b[33m[ WARN] [1629714171.052640837, 3545.484000000]: Fail: ABORTED: No motion plan found. No execution attempted.\u001b[0m\n"
     ]
    },
    {
     "output_type": "stream",
     "name": "stdout",
     "text": [
      "[151  28  43  79 232]\n",
      "[109 171 229  17  21]\n"
     ]
    },
    {
     "output_type": "stream",
     "name": "stderr",
     "text": [
      "\u001b[33m[ WARN] [1629714174.477171593, 3645.704000000]: Fail: ABORTED: No motion plan found. No execution attempted.\u001b[0m\n"
     ]
    },
    {
     "output_type": "stream",
     "name": "stdout",
     "text": [
      "[244 202 251  29 220]\n",
      "[ 48  90 200 116  55]\n",
      "[ 25 163 247  43 222]\n",
      "[  7 156 262   2 182]\n",
      "Error setting joint target. Is the target within bounds?\n",
      "[256 140 259 177 189]\n",
      "Error setting joint target. Is the target within bounds?\n",
      "[ 18  90 163 181 145]\n",
      "Error setting joint target. Is the target within bounds?\n",
      "[142 190 259  97 154]\n",
      "[196 102 100  77 137]\n",
      "[205 130 139  87 248]\n"
     ]
    },
    {
     "output_type": "stream",
     "name": "stderr",
     "text": [
      "\u001b[31m[ERROR] [1629714185.472031798, 3996.154000000]: Got a callback on a goalHandle that we're not tracking.                 This is an internal SimpleActionClient/ActionClient bug.                 This could also be a GoalID collision\u001b[0m\n"
     ]
    },
    {
     "output_type": "stream",
     "name": "stdout",
     "text": [
      "[ 36  16 115 127  75]\n",
      "[ 49 128  63  34 250]\n"
     ]
    },
    {
     "output_type": "stream",
     "name": "stderr",
     "text": [
      "\u001b[33m[ WARN] [1629714189.069368926, 4115.624000000]: Fail: ABORTED: No motion plan found. No execution attempted.\u001b[0m\n"
     ]
    },
    {
     "output_type": "stream",
     "name": "stdout",
     "text": [
      "[252  48 223 264 111]\n",
      "Error setting joint target. Is the target within bounds?\n",
      "[133 137 200 189 230]\n"
     ]
    },
    {
     "output_type": "stream",
     "name": "stderr",
     "text": [
      "\u001b[31m[ERROR] [1629714190.587038769, 4181.744000000]: Got a callback on a goalHandle that we're not tracking.                 This is an internal SimpleActionClient/ActionClient bug.                 This could also be a GoalID collision\u001b[0m\n"
     ]
    },
    {
     "output_type": "stream",
     "name": "stdout",
     "text": [
      "step = 50: loss = -16.37259292602539\n",
      "[265 260 176  40 115]\n",
      "Error setting joint target. Is the target within bounds?\n",
      "[265 260 176  40 115]\n",
      "Error setting joint target. Is the target within bounds?\n",
      "[265 260 176  40 115]\n",
      "Error setting joint target. Is the target within bounds?\n",
      "[265 260 176  40 115]\n",
      "Error setting joint target. Is the target within bounds?\n",
      "[265 260 176  40 115]\n",
      "Error setting joint target. Is the target within bounds?\n",
      "[265 260 176  40 115]\n",
      "Error setting joint target. Is the target within bounds?\n",
      "[265 260 176  40 115]\n",
      "Error setting joint target. Is the target within bounds?\n",
      "[265 260 176  40 115]\n",
      "Error setting joint target. Is the target within bounds?\n",
      "[265 260 176  40 115]\n",
      "Error setting joint target. Is the target within bounds?\n",
      "[265 260 176  40 115]\n",
      "Error setting joint target. Is the target within bounds?\n",
      "step = 50: Average Return = -1000.0\n",
      "[ 79  81  12 131 136]\n",
      "[171  16   7 176   8]\n"
     ]
    },
    {
     "output_type": "stream",
     "name": "stderr",
     "text": [
      "\u001b[33m[ WARN] [1629714197.126847358, 4439.934000000]: Fail: ABORTED: No motion plan found. No execution attempted.\u001b[0m\n"
     ]
    },
    {
     "output_type": "stream",
     "name": "stdout",
     "text": [
      "[178 170 263 250 174]\n",
      "[177  21 186 256 137]\n",
      "[178  72 188 120 244]\n",
      "[216 147 101  80 140]\n",
      "[216  38 173 222 113]\n",
      "[ 35 144  93  35 106]\n",
      "[220   8 207 193 129]\n",
      "[  8 172 231 104 101]\n",
      "Error setting joint target. Is the target within bounds?\n",
      "[154  19  94 124 107]\n",
      "[267 214 162 153  60]\n",
      "Error setting joint target. Is the target within bounds?\n",
      "[184 181 109 115  24]\n",
      "[ 52 170  19  30 236]\n",
      "[159  66 110   2  48]\n",
      "[  0 176  81 144  43]\n",
      "Error setting joint target. Is the target within bounds?\n",
      "[179 188  48  31  63]\n",
      "[231 111 242  45 249]\n"
     ]
    },
    {
     "output_type": "stream",
     "name": "stderr",
     "text": [
      "\u001b[33m[ WARN] [1629714219.619186002, 5144.994000000]: Fail: ABORTED: No motion plan found. No execution attempted.\u001b[0m\n"
     ]
    },
    {
     "output_type": "stream",
     "name": "stdout",
     "text": [
      "[ 40 134  55 132 103]\n",
      "[157  22 244 127 240]\n",
      "[ 36 184  89 128 224]\n",
      "[201  13 128  59  65]\n",
      "[  2 166 230  85 131]\n",
      "Error setting joint target. Is the target within bounds?\n",
      "[  8 181 105  32 176]\n",
      "Error setting joint target. Is the target within bounds?\n",
      "[217 127 120  90 139]\n",
      "[222  44 232 170 225]\n",
      "[202 164 222 231 110]\n",
      "[ 76 213  97  69 252]\n"
     ]
    },
    {
     "output_type": "stream",
     "name": "stderr",
     "text": [
      "\u001b[33m[ WARN] [1629714233.262888238, 5599.784000000]: Fail: ABORTED: No motion plan found. No execution attempted.\u001b[0m\n"
     ]
    },
    {
     "output_type": "stream",
     "name": "stdout",
     "text": [
      "[102  72 249  11 219]\n",
      "[171   3 165  85 148]\n",
      "[254 210 199  76  40]\n",
      "Error setting joint target. Is the target within bounds?\n",
      "[239 137   8  24 240]\n",
      "[126 120 153 145  59]\n",
      "[ 41 237  98  44  89]\n",
      "[ 61 247 190 200 192]\n",
      "[ 70 120 258  43 111]\n",
      "[ 88 161 248 203  55]\n",
      "[ 58 141 248  50  90]\n",
      "[ 85 197  13 138 216]\n",
      "[233 206  15 225 105]\n",
      "[ 11 262 227 195 124]\n",
      "Error setting joint target. Is the target within bounds?\n",
      "[222 184  18 239  62]\n",
      "[173 263 168 183 131]\n",
      "[  3 159  92 127  10]\n",
      "Error setting joint target. Is the target within bounds?\n",
      "[208 166 167  41 207]\n",
      "[218  24 170  24 108]\n",
      "[122  55 186 118 241]\n",
      "[ 82 114 215  36 114]\n",
      "[231  43 156  28 102]\n",
      "[218  18  17 187  25]\n"
     ]
    },
    {
     "output_type": "stream",
     "name": "stderr",
     "text": [
      "\u001b[33m[ WARN] [1629714265.411332076, 6637.754000000]: Fail: ABORTED: No motion plan found. No execution attempted.\u001b[0m\n"
     ]
    },
    {
     "output_type": "stream",
     "name": "stdout",
     "text": [
      "step = 75: loss = -18.86216163635254\n",
      "[239 223  90  67  78]\n",
      "[ 73 191   3 235 136]\n",
      "[ 11 266  36 240 227]\n",
      "Error setting joint target. Is the target within bounds?\n",
      "[ 74  89 131   1 188]\n",
      "[152 189 206 227  51]\n",
      "[244 162  41 233  97]\n",
      "[ 78 246  72 180 237]\n",
      "[184  30 227 216 241]\n",
      "[171 251 181  18 174]\n",
      "[ 45  53  86  87 222]\n",
      "[ 98  84 115 103  91]\n",
      "[178 102 174 173 207]\n",
      "[235  84  48  46  22]\n"
     ]
    },
    {
     "output_type": "stream",
     "name": "stderr",
     "text": [
      "\u001b[33m[ WARN] [1629714285.943564866, 7467.684000000]: Fail: ABORTED: No motion plan found. No execution attempted.\u001b[0m\n"
     ]
    },
    {
     "output_type": "stream",
     "name": "stdout",
     "text": [
      "[ 86 100 242 168 170]\n",
      "[183 191 249 237 121]\n",
      "[ 40 110 220  17 149]\n",
      "[227 114 144 265  56]\n",
      "[ 43 219 242 164 205]\n"
     ]
    },
    {
     "output_type": "stream",
     "name": "stderr",
     "text": [
      "\u001b[33m[ WARN] [1629714293.887632779, 7786.984000000]: Fail: ABORTED: No motion plan found. No execution attempted.\u001b[0m\n"
     ]
    },
    {
     "output_type": "stream",
     "name": "stdout",
     "text": [
      "[ 64 100  23 236  35]\n",
      "[149 107  42 200   8]\n"
     ]
    },
    {
     "output_type": "stream",
     "name": "stderr",
     "text": [
      "\u001b[33m[ WARN] [1629714296.980533359, 7872.454000000]: Fail: ABORTED: No motion plan found. No execution attempted.\u001b[0m\n"
     ]
    },
    {
     "output_type": "stream",
     "name": "stdout",
     "text": [
      "[144 193 120 130 140]\n",
      "[108   1   9 166  41]\n"
     ]
    },
    {
     "output_type": "stream",
     "name": "stderr",
     "text": [
      "\u001b[33m[ WARN] [1629714299.134821577, 7971.364000000]: Fail: ABORTED: No motion plan found. No execution attempted.\u001b[0m\n"
     ]
    },
    {
     "output_type": "stream",
     "name": "stdout",
     "text": [
      "[  7   3 179  77 145]\n",
      "Error setting joint target. Is the target within bounds?\n",
      "[130  56 196 242 202]\n",
      "[ 93 261  75  89 176]\n",
      "[171 193 212 241 150]\n",
      "[ 96  78 256 189 218]\n",
      "[227 107   5  65  97]\n",
      "[117 252 170  55   9]\n"
     ]
    },
    {
     "output_type": "stream",
     "name": "stderr",
     "text": [
      "\u001b[33m[ WARN] [1629714308.636139568, 8282.424000000]: Fail: ABORTED: No motion plan found. No execution attempted.\u001b[0m\n"
     ]
    },
    {
     "output_type": "stream",
     "name": "stdout",
     "text": [
      "[ 47 261 249  65 256]\n"
     ]
    },
    {
     "output_type": "stream",
     "name": "stderr",
     "text": [
      "\u001b[33m[ WARN] [1629714309.188470903, 8302.604000000]: Fail: ABORTED: No motion plan found. No execution attempted.\u001b[0m\n"
     ]
    },
    {
     "output_type": "stream",
     "name": "stdout",
     "text": [
      "[ 89  92 156 144 102]\n",
      "[230 241  57 171 250]\n"
     ]
    },
    {
     "output_type": "stream",
     "name": "stderr",
     "text": [
      "\u001b[33m[ WARN] [1629714311.398170897, 8378.004000000]: Fail: ABORTED: No motion plan found. No execution attempted.\u001b[0m\n"
     ]
    },
    {
     "output_type": "stream",
     "name": "stdout",
     "text": [
      "[194 105   7 182  42]\n",
      "[ 77 232  75  29  68]\n",
      "[ 66 220  16  34 119]\n",
      "[217 215 206 251 186]\n",
      "[165  73 193 247 204]\n",
      "[113 217 113  56 205]\n",
      "[ 38 114 204  67 261]\n"
     ]
    },
    {
     "output_type": "stream",
     "name": "stderr",
     "text": [
      "\u001b[33m[ WARN] [1629714323.641417372, 8814.754000000]: Fail: ABORTED: No motion plan found. No execution attempted.\u001b[0m\n"
     ]
    },
    {
     "output_type": "stream",
     "name": "stdout",
     "text": [
      "[236 102  90  41   5]\n"
     ]
    },
    {
     "output_type": "stream",
     "name": "stderr",
     "text": [
      "\u001b[33m[ WARN] [1629714324.385105731, 8857.764000000]: Fail: ABORTED: No motion plan found. No execution attempted.\u001b[0m\n"
     ]
    },
    {
     "output_type": "stream",
     "name": "stdout",
     "text": [
      "[151  70  52   3 108]\n",
      "[174  21 170 105 163]\n",
      "[249 122 156  93 121]\n",
      "[215 161 185 265 152]\n",
      "[199 266 258 233  72]\n"
     ]
    },
    {
     "output_type": "stream",
     "name": "stderr",
     "text": [
      "\u001b[33m[ WARN] [1629714331.140669050, 9093.254000000]: Fail: ABORTED: No motion plan found. No execution attempted.\u001b[0m\n"
     ]
    },
    {
     "output_type": "stream",
     "name": "stdout",
     "text": [
      "[119  15 155 133   8]\n"
     ]
    },
    {
     "output_type": "stream",
     "name": "stderr",
     "text": [
      "\u001b[33m[ WARN] [1629714331.928415260, 9117.414000000]: Fail: ABORTED: No motion plan found. No execution attempted.\u001b[0m\n"
     ]
    },
    {
     "output_type": "stream",
     "name": "stdout",
     "text": [
      "[ 38 105  67  95 157]\n",
      "[ 71 131 185  15  18]\n"
     ]
    },
    {
     "output_type": "stream",
     "name": "stderr",
     "text": [
      "\u001b[33m[ WARN] [1629714334.080076008, 9212.184000000]: Fail: ABORTED: No motion plan found. No execution attempted.\u001b[0m\n"
     ]
    },
    {
     "output_type": "stream",
     "name": "stdout",
     "text": [
      "[119 173  57  37 216]\n",
      "[ 95  38 185  46  22]\n"
     ]
    },
    {
     "output_type": "stream",
     "name": "stderr",
     "text": [
      "\u001b[33m[ WARN] [1629714336.509901860, 9324.244000000]: Fail: ABORTED: No motion plan found. No execution attempted.\u001b[0m\n"
     ]
    },
    {
     "output_type": "stream",
     "name": "stdout",
     "text": [
      "step = 100: loss = -14.694929122924805\n",
      "[265 260 176 245 115]\n",
      "Error setting joint target. Is the target within bounds?\n",
      "[265 260 176 245 115]\n",
      "Error setting joint target. Is the target within bounds?\n",
      "[265 260 176 245 115]\n",
      "Error setting joint target. Is the target within bounds?\n",
      "[265 260 176 245 115]\n",
      "Error setting joint target. Is the target within bounds?\n",
      "[265 260 176 245 115]\n",
      "Error setting joint target. Is the target within bounds?\n",
      "[265 260 176 245 115]\n",
      "Error setting joint target. Is the target within bounds?\n",
      "[265 260 176 245 115]\n",
      "Error setting joint target. Is the target within bounds?\n",
      "[265 260 176 245 115]\n",
      "Error setting joint target. Is the target within bounds?\n",
      "[265 260 176 245 115]\n",
      "Error setting joint target. Is the target within bounds?\n",
      "[265 260 176 245 115]\n",
      "Error setting joint target. Is the target within bounds?\n",
      "step = 100: Average Return = -1000.0\n",
      "[  2   6 202  10  73]\n",
      "Error setting joint target. Is the target within bounds?\n",
      "[114  41 139 183  25]\n",
      "[246 212 177 259 230]\n",
      "[123 173  72 110 205]\n",
      "[173 268 217 142 240]\n"
     ]
    },
    {
     "output_type": "stream",
     "name": "stderr",
     "text": [
      "\u001b[33m[ WARN] [1629714346.404121976, 9697.574000000]: Fail: ABORTED: No motion plan found. No execution attempted.\u001b[0m\n"
     ]
    },
    {
     "output_type": "stream",
     "name": "stdout",
     "text": [
      "[148 238 229 131  52]\n",
      "[80 64 68 77 70]\n",
      "[266 249 115 118 227]\n",
      "Error setting joint target. Is the target within bounds?\n",
      "[ 16 223  94   0 171]\n",
      "Error setting joint target. Is the target within bounds?\n",
      "[218 157 258 177  34]\n",
      "[ 71 173 141 131 163]\n",
      "[ 95 110  89 251   4]\n"
     ]
    },
    {
     "output_type": "stream",
     "name": "stderr",
     "text": [
      "\u001b[33m[ WARN] [1629714356.047403371, 9974.724000000]: Fail: ABORTED: No motion plan found. No execution attempted.\u001b[0m\n"
     ]
    },
    {
     "output_type": "stream",
     "name": "stdout",
     "text": [
      "[114 218 123 118 184]\n",
      "[ 26 242  13 172  17]\n"
     ]
    },
    {
     "output_type": "stream",
     "name": "stderr",
     "text": [
      "\u001b[33m[ WARN] [1629714358.550714446, 10073.984000000]: Fail: ABORTED: No motion plan found. No execution attempted.\u001b[0m\n"
     ]
    },
    {
     "output_type": "stream",
     "name": "stdout",
     "text": [
      "[ 31 267 261  11 151]\n"
     ]
    },
    {
     "output_type": "stream",
     "name": "stderr",
     "text": [
      "\u001b[33m[ WARN] [1629714359.556215828, 10127.214000000]: Fail: ABORTED: No motion plan found. No execution attempted.\u001b[0m\n"
     ]
    },
    {
     "output_type": "stream",
     "name": "stdout",
     "text": [
      "[ 21 122 196 156 180]\n"
     ]
    },
    {
     "output_type": "stream",
     "name": "stderr",
     "text": [
      "\u001b[31m[ERROR] [1629714360.003179939, 10138.484000000]: Got a callback on a goalHandle that we're not tracking.                 This is an internal SimpleActionClient/ActionClient bug.                 This could also be a GoalID collision\u001b[0m\n"
     ]
    },
    {
     "output_type": "stream",
     "name": "stdout",
     "text": [
      "[  1  61 168 216 117]\n",
      "Error setting joint target. Is the target within bounds?\n",
      "[149  78 146 259 119]\n",
      "[ 33 174 227 258 102]\n",
      "[104 112 147 201 134]\n",
      "[132  23  83 267  27]\n",
      "[214 120 134  57 115]\n",
      "[114  24  57  67 236]\n",
      "[253 185 187  86 111]\n",
      "Error setting joint target. Is the target within bounds?\n",
      "[245 109  60  92  72]\n",
      "[  2  53 171  56  12]\n",
      "Error setting joint target. Is the target within bounds?\n",
      "[ 24 209   9 177  16]\n"
     ]
    },
    {
     "output_type": "stream",
     "name": "stderr",
     "text": [
      "\u001b[33m[ WARN] [1629714375.332221315, 10704.464000000]: Fail: ABORTED: No motion plan found. No execution attempted.\u001b[0m\n"
     ]
    },
    {
     "output_type": "stream",
     "name": "stdout",
     "text": [
      "[138  70  36 199  15]\n"
     ]
    },
    {
     "output_type": "stream",
     "name": "stderr",
     "text": [
      "\u001b[33m[ WARN] [1629714376.753405086, 10771.894000000]: Fail: ABORTED: No motion plan found. No execution attempted.\u001b[0m\n"
     ]
    },
    {
     "output_type": "stream",
     "name": "stdout",
     "text": [
      "[ 96 203 131  47  20]\n"
     ]
    },
    {
     "output_type": "stream",
     "name": "stderr",
     "text": [
      "\u001b[33m[ WARN] [1629714378.177789621, 10817.514000000]: Fail: ABORTED: No motion plan found. No execution attempted.\u001b[0m\n"
     ]
    },
    {
     "output_type": "stream",
     "name": "stdout",
     "text": [
      "[ 77  86 167 143   8]\n"
     ]
    },
    {
     "output_type": "stream",
     "name": "stderr",
     "text": [
      "\u001b[33m[ WARN] [1629714378.962843261, 10844.344000000]: Fail: ABORTED: No motion plan found. No execution attempted.\u001b[0m\n"
     ]
    },
    {
     "output_type": "stream",
     "name": "stdout",
     "text": [
      "[ 95 116 225 118  99]\n"
     ]
    },
    {
     "output_type": "stream",
     "name": "stderr",
     "text": [
      "\u001b[31m[ERROR] [1629714380.440766328, 10892.524000000]: Got a callback on a goalHandle that we're not tracking.                 This is an internal SimpleActionClient/ActionClient bug.                 This could also be a GoalID collision\u001b[0m\n"
     ]
    },
    {
     "output_type": "stream",
     "name": "stdout",
     "text": [
      "[115  74 214 252 247]\n",
      "[ 82  83  89 265  65]\n",
      "[159  27 138  50  70]\n",
      "[257 265 155 261  45]\n",
      "Error setting joint target. Is the target within bounds?\n",
      "[ 51  39  53  85 198]\n"
     ]
    },
    {
     "output_type": "stream",
     "name": "stderr",
     "text": [
      "\u001b[33m[ WARN] [1629714388.587203088, 11075.954000000]: Fail: ABORTED: No motion plan found. No execution attempted.\u001b[0m\n"
     ]
    },
    {
     "output_type": "stream",
     "name": "stdout",
     "text": [
      "[232 183 177 124  36]\n",
      "[ 46 260 123 187  32]\n",
      "[138 104 101 109 223]\n",
      "[180 105  27  73  36]\n",
      "[ 63 123 158  31 130]\n",
      "[190 111 137 205  47]\n",
      "[200 231  99 219 259]\n"
     ]
    },
    {
     "output_type": "stream",
     "name": "stderr",
     "text": [
      "\u001b[33m[ WARN] [1629714399.280414119, 11456.394000000]: Fail: ABORTED: No motion plan found. No execution attempted.\u001b[0m\n"
     ]
    },
    {
     "output_type": "stream",
     "name": "stdout",
     "text": [
      "[187 197  68  74 108]\n",
      "[ 99  53 226  21 114]\n",
      "[228  47  44 266 172]\n",
      "[164 107  63  89  98]\n",
      "[206 202  56  24  49]\n",
      "[104  66 122 222 148]\n",
      "[113 116 242 230  95]\n",
      "step = 125: loss = -3.0188913345336914\n",
      "[61 32 35 23 11]\n"
     ]
    },
    {
     "output_type": "stream",
     "name": "stderr",
     "text": [
      "\u001b[33m[ WARN] [1629714411.293383713, 11846.634000000]: Fail: ABORTED: No motion plan found. No execution attempted.\u001b[0m\n"
     ]
    },
    {
     "output_type": "stream",
     "name": "stdout",
     "text": [
      "[ 12 123 138 218 246]\n",
      "Error setting joint target. Is the target within bounds?\n",
      "[ 25 142  50  70  35]\n",
      "[ 99 220 171  13   3]\n"
     ]
    },
    {
     "output_type": "stream",
     "name": "stderr",
     "text": [
      "\u001b[33m[ WARN] [1629714413.942834164, 11953.774000000]: Fail: ABORTED: No motion plan found. No execution attempted.\u001b[0m\n"
     ]
    },
    {
     "output_type": "stream",
     "name": "stdout",
     "text": [
      "[146 161 253 121   6]\n"
     ]
    },
    {
     "output_type": "stream",
     "name": "stderr",
     "text": [
      "\u001b[33m[ WARN] [1629714414.781238948, 11981.844000000]: Fail: ABORTED: No motion plan found. No execution attempted.\u001b[0m\n"
     ]
    },
    {
     "output_type": "stream",
     "name": "stdout",
     "text": [
      "35.835624943, 2468.134000000]: ABORTED: No motion plan found. No execution attempted.\u001b[0m\n",
      "\u001b[0m[ INFO] [1629714143.411455518, 2671.004000000]: ABORTED: No motion plan found. No execution attempted.\u001b[0m\n",
      "\u001b[0m[ INFO] [1629714158.236446460, 3154.434000000]: ABORTED: No motion plan found. No execution attempted.\u001b[0m\n",
      "\u001b[0m[ INFO] [1629714160.045196398, 3249.324000000]: ABORTED: No motion plan found. No execution attempted.\u001b[0m\n",
      "\u001b[0m[ INFO] [1629714171.525473487, 3558.464000000]: ABORTED: No motion plan found. No execution attempted.\u001b[0m\n",
      "\u001b[0m[ INFO] [1629714174.702368588, 3650.534000000]: ABORTED: No motion plan found. No execution attempted.\u001b[0m\n",
      "\u001b[0m[ INFO] [1629714189.467475769, 4141.564000000]: ABORTED: No motion plan found. No execution attempted.\u001b[0m\n",
      "\u001b[0m[ INFO] [1629714197.201867885, 4441.644000000]: ABORTED: No motion plan found. No execution attempted.\u001b[0m\n",
      "\u001b[0m[ INFO] [1629714220.176162895, 5171.294000000]: ABORTED: No motion plan found. No execution attempted.\u001b[0m\n",
      "\u001b[0m[ INFO] [1629714233.710047879, 5608.964000000]: ABORTED: No motion plan found. No execution attempted.\u001b[0m\n",
      "\u001b[0m[ INFO] [1629714266.582818811, 6679.824000000]: ABORTED: No motion plan found. No execution attempted.\u001b[0m\n",
      "\u001b[0m[ INFO] [1629714286.148323559, 7474.354000000]: ABORTED: No motion plan found. No execution attempted.\u001b[0m\n",
      "\u001b[0m[ INFO] [1629714294.608026471, 7812.334000000]: ABORTED: No motion plan found. No execution attempted.\u001b[0m\n",
      "\u001b[0m[ INFO] [1629714297.185264260, 7879.124000000]: ABORTED: No motion plan found. No execution attempted.\u001b[0m\n",
      "\u001b[0m[ INFO] [1629714299.319128946, 7983.124000000]: ABORTED: No motion plan found. No execution attempted.\u001b[0m\n",
      "\u001b[0m[ INFO] [1629714308.790186843, 8289.744000000]: ABORTED: No motion plan found. No execution attempted.\u001b[0m\n",
      "\u001b[0m[ INFO] [1629714309.281574171, 8306.304000000]: ABORTED: No motion plan found. No execution attempted.\u001b[0m\n",
      "\u001b[0m[ INFO] [1629714311.965798670, 8397.024000000]: ABORTED: No motion plan found. No execution attempted.\u001b[0m\n",
      "\u001b[0m[ INFO] [1629714323.730168115, 8818.144000000]: ABORTED: No motion plan found. No execution attempted.\u001b[0m\n",
      "\u001b[0m[ INFO] [1629714324.694421264, 8868.604000000]: ABORTED: No motion plan found. No execution attempted.\u001b[0m\n",
      "\u001b[0m[ INFO] [1629714331.236583681, 9095.714000000]: ABORTED: No motion plan found. No execution attempted.\u001b[0m\n",
      "\u001b[0m[ INFO] [1629714332.094331074, 9123.104000000]: ABORTED: No motion plan found. No execution attempted.\u001b[0m\n",
      "\u001b[0m[ INFO] [1629714334.238965396, 9220.554000000]: ABORTED: No motion plan found. No execution attempted.\u001b[0m\n",
      "\u001b[0m[ INFO] [1629714336.636015029, 9328.854000000]: ABORTED: No motion plan found. No execution attempted.\u001b[0m\n",
      "\u001b[0m[ INFO] [1629714347.163319134, 9727.114000000]: ABORTED: No motion plan found. No execution attempted.\u001b[0m\n",
      "\u001b[0m[ INFO] [1629714356.314849962, 9983.124000000]: ABORTED: No motion plan found. No execution attempted.\u001b[0m\n",
      "\u001b[0m[ INFO] [1629714358.698491260, 10081.924000000]: ABORTED: No motion plan found. No execution attempted.\u001b[0m\n",
      "\u001b[0m[ INFO] [1629714359.692517559, 10129.844000000]: ABORTED: No motion plan found. No execution attempted.\u001b[0m\n",
      "\u001b[0m[ INFO] [1629714375.632344019, 10712.694000000]: ABORTED: No motion plan found. No execution attempted.\u001b[0m\n",
      "\u001b[0m[ INFO] [1629714377.167147598, 10778.784000000]: ABORTED: No motion plan found. No execution attempted.\u001b[0m\n",
      "\u001b[0m[ INFO] [1629714378.426622260, 10825.584000000]: ABORTED: No motion plan found. No execution attempted.\u001b[0m\n",
      "\u001b[0m[ INFO] [1629714379.106958578, 10850.574000000]: ABORTED: No motion plan found. No execution attempted.\u001b[0m\n",
      "\u001b[0m[ INFO] [1629714388.866358558, 11084.114000000]: ABORTED: No motion plan found. No execution attempted.\u001b[0m\n",
      "\u001b[0m[ INFO] [1629714399.378399292, 11458.444000000]: ABORTED: No motion plan found. No execution attempted.\u001b[0m\n",
      "\u001b[0m[ INFO] [1629714411.409635277, 11853.504000000]: ABORTED: No motion plan found. No execution attempted.\u001b[0m\n",
      "\u001b[0m[ INFO] [1629714414.010986743, 11955.794000000]: ABORTED: No motion plan found. No execution attempted.\u001b[0m\n",
      "\u001b[0m[ INFO] [1629714415.088400229, 11990.824000000]: ABORTED: No motion plan found. No execution attempted.\u001b[0m[146 185 221  96 255]\n"
     ]
    },
    {
     "output_type": "stream",
     "name": "stderr",
     "text": [
      "\u001b[33m[ WARN] [1629714415.738276139, 12010.254000000]: Fail: ABORTED: No motion plan found. No execution attempted.\u001b[0m\n"
     ]
    },
    {
     "output_type": "stream",
     "name": "stdout",
     "text": [
      "[214  74 237 119 143]\n",
      "[ 84  85  22 260  41]\n",
      "[113 262 223  89  31]\n"
     ]
    },
    {
     "output_type": "stream",
     "name": "stderr",
     "text": [
      "\u001b[33m[ WARN] [1629714420.462156815, 12221.494000000]: Fail: ABORTED: No motion plan found. No execution attempted.\u001b[0m\n"
     ]
    },
    {
     "output_type": "stream",
     "name": "stdout",
     "text": [
      "[268 107 162 267  69]\n",
      "Error setting joint target. Is the target within bounds?\n",
      "[ 60  32 235   0 163]\n",
      "[240 101 169 112 266]\n"
     ]
    },
    {
     "output_type": "stream",
     "name": "stderr",
     "text": [
      "\u001b[33m[ WARN] [1629714423.582659741, 12395.914000000]: Fail: ABORTED: No motion plan found. No execution attempted.\u001b[0m\n"
     ]
    },
    {
     "output_type": "stream",
     "name": "stdout",
     "text": [
      "[124  12 142 178  98]\n",
      "[149 254   4 258 109]\n",
      "[110 110 216 257  49]\n",
      "[ 82 209 104  99   3]\n"
     ]
    },
    {
     "output_type": "stream",
     "name": "stderr",
     "text": [
      "\u001b[33m[ WARN] [1629714429.020783602, 12590.344000000]: Fail: ABORTED: No motion plan found. No execution attempted.\u001b[0m\n"
     ]
    },
    {
     "output_type": "stream",
     "name": "stdout",
     "text": [
      "[122 229 229 178  65]\n",
      "[175  83 178 241 260]\n"
     ]
    },
    {
     "output_type": "stream",
     "name": "stderr",
     "text": [
      "\u001b[33m[ WARN] [1629714431.914817765, 12658.204000000]: Fail: ABORTED: No motion plan found. No execution attempted.\u001b[0m\n"
     ]
    },
    {
     "output_type": "stream",
     "name": "stdout",
     "text": [
      "[ 89 236 167  42  70]\n",
      "[157 178 207 130 122]\n",
      "[158 136 232 173 199]\n",
      "[226 136  28 132  34]\n",
      "[ 52  66 107 129 120]\n",
      "[ 81 241  95  85  40]\n",
      "[214  79 180 110 214]\n",
      "[168 110 225  71  46]\n",
      "[ 27  51 137  35  47]\n",
      "[143 165 255  73 252]\n"
     ]
    },
    {
     "output_type": "stream",
     "name": "stderr",
     "text": [
      "\u001b[33m[ WARN] [1629714446.247503682, 13156.554000000]: Fail: ABORTED: No motion plan found. No execution attempted.\u001b[0m\n"
     ]
    },
    {
     "output_type": "stream",
     "name": "stdout",
     "text": [
      "[106  76 257  77 137]\n",
      "[ 24 133 157 192 135]\n",
      "[174  12 239 158   9]\n"
     ]
    },
    {
     "output_type": "stream",
     "name": "stderr",
     "text": [
      "\u001b[33m[ WARN] [1629714450.675225662, 13345.584000000]: Fail: ABORTED: No motion plan found. No execution attempted.\u001b[0m\n"
     ]
    },
    {
     "output_type": "stream",
     "name": "stdout",
     "text": [
      "[114 179 218  32 173]\n",
      "[237   0 239 126  59]\n",
      "[237 137 200 255 134]\n",
      "[160 181  86   6 210]\n",
      "[198 201 154  13  31]\n",
      "[135 184  11  90  61]\n",
      "[218 152  36 232 223]\n",
      "[ 71  22 170  68 247]\n",
      "[244 240  52 111 170]\n",
      "[143 223 174  89  48]\n",
      "[195 219 144 224 264]\n"
     ]
    },
    {
     "output_type": "stream",
     "name": "stderr",
     "text": [
      "\u001b[33m[ WARN] [1629714468.372753886, 14043.814000000]: Fail: ABORTED: No motion plan found. No execution attempted.\u001b[0m\n"
     ]
    },
    {
     "output_type": "stream",
     "name": "stdout",
     "text": [
      "[ 65  14 199 218 253]\n"
     ]
    },
    {
     "output_type": "stream",
     "name": "stderr",
     "text": [
      "\u001b[33m[ WARN] [1629714469.216279234, 14064.394000000]: Fail: ABORTED: No motion plan found. No execution attempted.\u001b[0m\n"
     ]
    },
    {
     "output_type": "stream",
     "name": "stdout",
     "text": [
      "[125  75 263  90 174]\n",
      "[213  11 121 123 235]\n",
      "[102 117  39  57 171]\n",
      "[113 210 221 193 249]\n"
     ]
    },
    {
     "output_type": "stream",
     "name": "stderr",
     "text": [
      "\u001b[33m[ WARN] [1629714474.911981909, 14253.674000000]: Fail: ABORTED: No motion plan found. No execution attempted.\u001b[0m\n"
     ]
    },
    {
     "output_type": "stream",
     "name": "stdout",
     "text": [
      "[117 256 230  51 160]\n"
     ]
    },
    {
     "output_type": "stream",
     "name": "stderr",
     "text": [
      "\u001b[33m[ WARN] [1629714476.030242348, 14305.894000000]: Fail: ABORTED: No motion plan found. No execution attempted.\u001b[0m\n"
     ]
    },
    {
     "output_type": "stream",
     "name": "stdout",
     "text": [
      "[208  30 176  14  32]\n",
      "[159  30 263 233 248]\n",
      "step = 150: loss = -19.39781379699707\n",
      "[248 187 159 245 208]\n",
      "[248 187 159 245 208]\n",
      "[248 187 159 245 208]\n",
      "[248 187 159 245 208]\n",
      "[248 187 159 245 208]\n",
      "[248 187 159 245 208]\n",
      "[248 187 159 245 208]\n",
      "[248 187 159 245 208]\n",
      "[248 187 159 245 208]\n",
      "[248 187 159 245 208]\n",
      "step = 150: Average Return = -2.0067121982574463\n",
      "[244  94  20 154   7]\n"
     ]
    },
    {
     "output_type": "stream",
     "name": "stderr",
     "text": [
      "\u001b[33m[ WARN] [1629714495.419898714, 14906.664000000]: Fail: ABORTED: No motion plan found. No execution attempted.\u001b[0m\n"
     ]
    },
    {
     "output_type": "stream",
     "name": "stdout",
     "text": [
      "[226 171 171 155 208]\n",
      "[149 209  53  99 246]\n",
      "[136  34 229 233 112]\n",
      "[183  35 217  45 178]\n",
      "[234  28 215 108  53]\n",
      "[169 190  92 120 193]\n",
      "[ 45  69 141 149 250]\n"
     ]
    },
    {
     "output_type": "stream",
     "name": "stderr",
     "text": [
      "\u001b[33m[ WARN] [1629714505.012011031, 15267.704000000]: Fail: ABORTED: No motion plan found. No execution attempted.\u001b[0m\n"
     ]
    },
    {
     "output_type": "stream",
     "name": "stdout",
     "text": [
      "[139  91  54 211  95]\n",
      "[220  60  46   4 165]\n",
      "[182 157  20  57  62]\n",
      "[113 135   4 227  63]\n",
      "[215 160 132 258  69]\n",
      "[ 39 237   9 162  16]\n"
     ]
    },
    {
     "output_type": "stream",
     "name": "stderr",
     "text": [
      "\u001b[33m[ WARN] [1629714513.823139470, 15583.594000000]: Fail: ABORTED: No motion plan found. No execution attempted.\u001b[0m\n"
     ]
    },
    {
     "output_type": "stream",
     "name": "stdout",
     "text": [
      "[185  97  94 150   6]\n"
     ]
    },
    {
     "output_type": "stream",
     "name": "stderr",
     "text": [
      "\u001b[33m[ WARN] [1629714515.194168539, 15619.304000000]: Fail: ABORTED: No motion plan found. No execution attempted.\u001b[0m\n"
     ]
    },
    {
     "output_type": "stream",
     "name": "stdout",
     "text": [
      "[253  10  94  50 252]\n",
      "Error setting joint target. Is the target within bounds?\n",
      "[230 141 224 269 201]\n",
      "[207 224 215  39 164]\n",
      "[110 227  21 153  96]\n",
      "[ 61 174 199 141 199]\n",
      "[213 180 121  94 230]\n",
      "[118 232  15 251 157]\n",
      "[ 23 131 228 241  79]\n",
      "[ 11 257  31 198 145]\n",
      "Error setting joint target. Is the target within bounds?\n",
      "[144 187  65 139 205]\n",
      "[157 198  95 159 198]\n",
      "[214 254 205 226 120]\n"
     ]
    },
    {
     "output_type": "stream",
     "name": "stderr",
     "text": [
      "\u001b[33m[ WARN] [1629714535.745319770, 16064.754000000]: Fail: ABORTED: No motion plan found. No execution attempted.\u001b[0m\n"
     ]
    },
    {
     "output_type": "stream",
     "name": "stdout",
     "text": [
      "[ 87 162  13 144 206]\n",
      "[223  52  23 170  23]\n"
     ]
    },
    {
     "output_type": "stream",
     "name": "stderr",
     "text": [
      "\u001b[33m[ WARN] [1629714538.560727792, 16190.874000000]: Fail: ABORTED: No motion plan found. No execution attempted.\u001b[0m\n"
     ]
    },
    {
     "output_type": "stream",
     "name": "stdout",
     "text": [
      "[ 12  25 220  71 206]\n",
      "Error setting joint target. Is the target within bounds?\n",
      "[ 68  77 219 188  59]\n",
      "[265 235 164 179   0]\n",
      "Error setting joint target. Is the target within bounds?\n",
      "[178 134 135  52 127]\n",
      "[111 174 202 244  79]\n",
      "[ 82 198 215 241  44]\n",
      "[ 20 241 189  96 155]\n",
      "Error setting joint target. Is the target within bounds?\n",
      "[172 115 227 102 242]\n",
      "[ 85  53  98 237  28]\n",
      "[237  99  75 259 232]\n",
      "[170 192  21 238  74]\n",
      "[158  53 204 157   8]\n"
     ]
    },
    {
     "output_type": "stream",
     "name": "stderr",
     "text": [
      "\u001b[33m[ WARN] [1629714554.655618188, 16795.314000000]: Fail: ABORTED: No motion plan found. No execution attempted.\u001b[0m\n"
     ]
    },
    {
     "output_type": "stream",
     "name": "stdout",
     "text": [
      "[259 198 238 205 194]\n",
      "Error setting joint target. Is the target within bounds?\n",
      "[ 65 266 205  93 203]\n",
      "[166  29 208  36 137]\n",
      "[233  63  73 155 146]\n",
      "[ 31 215  24  39 252]\n"
     ]
    },
    {
     "output_type": "stream",
     "name": "stderr",
     "text": [
      "\u001b[33m[ WARN] [1629714561.404972740, 16979.244000000]: Fail: ABORTED: No motion plan found. No execution attempted.\u001b[0m\n"
     ]
    },
    {
     "output_type": "stream",
     "name": "stdout",
     "text": [
      "[213 113 246  56   9]\n"
     ]
    },
    {
     "output_type": "stream",
     "name": "stderr",
     "text": [
      "\u001b[33m[ WARN] [1629714563.588319623, 17019.994000000]: Fail: ABORTED: No motion plan found. No execution attempted.\u001b[0m\n"
     ]
    },
    {
     "output_type": "stream",
     "name": "stdout",
     "text": [
      "[161  45 255 162  54]\n",
      "[  6 117 127 215 217]\n",
      "Error setting joint target. Is the target within bounds?\n",
      "[171  97 246 186 170]\n",
      "step = 175: loss = -16.60852813720703\n",
      "[260 268 167  91 119]\n",
      "Error setting joint target. Is the target within bounds?\n",
      "[ 99 101  66  81 181]\n",
      "[237 179  57  42 197]\n",
      "[122 224 181   5  95]\n",
      "[267 259  93 222 269]\n",
      "Error setting joint target. Is the target within bounds?\n",
      "[ 48 250  44 247 135]\n",
      "[ 22 104 196 169  73]\n",
      "[ 17   0 254 229 109]\n",
      "Error setting joint target. Is the target within bounds?\n",
      "[149 221  22  78 130]\n",
      "[136  80 220  54  98]\n",
      "[ 88  20 118 218 253]\n"
     ]
    },
    {
     "output_type": "stream",
     "name": "stderr",
     "text": [
      "\u001b[33m[ WARN] [1629714582.430675912, 17687.364000000]: Fail: ABORTED: No motion plan found. No execution attempted.\u001b[0m\n"
     ]
    },
    {
     "output_type": "stream",
     "name": "stdout",
     "text": [
      "[176  30  33  97 238]\n"
     ]
    },
    {
     "output_type": "stream",
     "name": "stderr",
     "text": [
      "\u001b[33m[ WARN] [1629714583.229327552, 17705.694000000]: Fail: ABORTED: No motion plan found. No execution attempted.\u001b[0m\n"
     ]
    },
    {
     "output_type": "stream",
     "name": "stdout",
     "text": [
      "[207  35  27 182 245]\n"
     ]
    },
    {
     "output_type": "stream",
     "name": "stderr",
     "text": [
      "\u001b[33m[ WARN] [1629714585.013399005, 17783.814000000]: Fail: ABORTED: No motion plan found. No execution attempted.\u001b[0m\n"
     ]
    },
    {
     "output_type": "stream",
     "name": "stdout",
     "text": [
      "[ 89 262 258   5 215]\n"
     ]
    },
    {
     "output_type": "stream",
     "name": "stderr",
     "text": [
      "\u001b[33m[ WARN] [1629714586.595081147, 17866.624000000]: Fail: ABORTED: No motion plan found. No execution attempted.\u001b[0m\n"
     ]
    },
    {
     "output_type": "stream",
     "name": "stdout",
     "text": [
      "[ 49 179  59 119  58]\n",
      "[133 111 264 127 236]\n"
     ]
    },
    {
     "output_type": "stream",
     "name": "stderr",
     "text": [
      "\u001b[33m[ WARN] [1629714589.951406026, 17982.024000000]: Fail: ABORTED: No motion plan found. No execution attempted.\u001b[0m\n"
     ]
    },
    {
     "output_type": "stream",
     "name": "stdout",
     "text": [
      "[ 31 197 113 154  95]\n",
      "[107  46 219 159  44]\n",
      "[221 155 240 160  48]\n",
      "[ 28 245  74 151 173]\n",
      "[ 32 175  34  63 104]\n",
      "[137  62  39 141 140]\n",
      "[162 241 124 210  93]\n",
      "[ 90  56  70  61 162]\n",
      "[232 245 136 216 260]\n"
     ]
    },
    {
     "output_type": "stream",
     "name": "stderr",
     "text": [
      "\u001b[33m[ WARN] [1629714604.414170357, 18515.554000000]: Fail: ABORTED: No motion plan found. No execution attempted.\u001b[0m\n"
     ]
    },
    {
     "output_type": "stream",
     "name": "stdout",
     "text": [
      "[186 111 201  60 130]\n",
      "[225 120   1 203 264]\n"
     ]
    },
    {
     "output_type": "stream",
     "name": "stderr",
     "text": [
      "\u001b[33m[ WARN] [1629714606.502952402, 18565.064000000]: Fail: ABORTED: No motion plan found. No execution attempted.\u001b[0m\n"
     ]
    },
    {
     "output_type": "stream",
     "name": "stdout",
     "text": [
      "[ 91 247 171 138 154]\n",
      "[ 57 218 264 174 153]\n"
     ]
    },
    {
     "output_type": "stream",
     "name": "stderr",
     "text": [
      "\u001b[33m[ WARN] [1629714608.941156145, 18618.114000000]: Fail: ABORTED: No motion plan found. No execution attempted.\u001b[0m\n"
     ]
    },
    {
     "output_type": "stream",
     "name": "stdout",
     "text": [
      "[154 173 235   6 102]\n",
      "[ 31   1 151  33  64]\n"
     ]
    },
    {
     "output_type": "stream",
     "name": "stderr",
     "text": [
      "\u001b[33m[ WARN] [1629714612.040722124, 18679.194000000]: Fail: ABORTED: No motion plan found. No execution attempted.\u001b[0m\n"
     ]
    },
    {
     "output_type": "stream",
     "name": "stdout",
     "text": [
      "[243 110  93 198 255]\n"
     ]
    },
    {
     "output_type": "stream",
     "name": "stderr",
     "text": [
      "\u001b[33m[ WARN] [1629714612.890822898, 18696.624000000]: Fail: ABORTED: No motion plan found. No execution attempted.\u001b[0m\n"
     ]
    },
    {
     "output_type": "stream",
     "name": "stdout",
     "text": [
      "[219  12   8 145 252]\n"
     ]
    },
    {
     "output_type": "stream",
     "name": "stderr",
     "text": [
      "\u001b[33m[ WARN] [1629714613.778990558, 18714.984000000]: Fail: ABORTED: No motion plan found. No execution attempted.\u001b[0m\n"
     ]
    },
    {
     "output_type": "stream",
     "name": "stdout",
     "text": [
      "[172  63 248  85  68]\n",
      "[251  37  93  23 235]\n",
      "Error setting joint target. Is the target within bounds?\n",
      "[128 254 268 263 159]\n"
     ]
    },
    {
     "output_type": "stream",
     "name": "stderr",
     "text": [
      "\u001b[33m[ WARN] [1629714616.638379242, 18810.514000000]: Fail: ABORTED: No motion plan found. No execution attempted.\u001b[0m\n"
     ]
    },
    {
     "output_type": "stream",
     "name": "stdout",
     "text": [
      "[ 68  90 264  62  74]\n",
      "[111 137 222 137 240]\n",
      "[ 10 257  57 134 101]\n",
      "Error setting joint target. Is the target within bounds?\n",
      "[ 55 101 224 102 215]\n",
      "[185 129 230 108 226]\n",
      "[248  39   5  26 188]\n"
     ]
    },
    {
     "output_type": "stream",
     "name": "stderr",
     "text": [
      "\u001b[33m[ WARN] [1629714623.649193075, 19121.264000000]: Fail: ABORTED: No motion plan found. No execution attempted.\u001b[0m\n"
     ]
    },
    {
     "output_type": "stream",
     "name": "stdout",
     "text": [
      "[252 158   1  13 167]\n",
      "Error setting joint target. Is the target within bounds?\n",
      "[160   4 265 101 101]\n",
      "[163 210 188   9  74]\n",
      "[229  71 252  54 155]\n",
      "[207 109  61 114 226]\n",
      "[ 50  42 215 207   4]\n"
     ]
    },
    {
     "output_type": "stream",
     "name": "stderr",
     "text": [
      "\u001b[33m[ WARN] [1629714631.571317339, 19351.674000000]: Fail: ABORTED: No motion plan found. No execution attempted.\u001b[0m\n"
     ]
    },
    {
     "output_type": "stream",
     "name": "stdout",
     "text": [
      "[ 98  71  84 134  43]\n",
      "[ 53 228 228 252 226]\n",
      "step = 200: loss = -1.864302635192871\n",
      "[145 125 159 107 158]\n",
      "[145 125 159 107 158]\n",
      "[145 125 159 107 158]\n",
      "[145 125 159 107 158]\n",
      "[145 125 159 107 158]\n",
      "[145 125 159 107 158]\n",
      "[145 125 159 107 158]\n",
      "[145 125 159 107 158]\n",
      "[145 125 159 107 158]\n",
      "[145 125 159 107 158]\n",
      "step = 200: Average Return = -5.672918796539307\n",
      "[ 78  16  84 171  31]\n",
      "[196  56  67  22 127]\n",
      "[ 50 229 160 188 133]\n",
      "[118 231  89 138 243]\n",
      "[ 96 174  94 127 262]\n"
     ]
    },
    {
     "output_type": "stream",
     "name": "stderr",
     "text": [
      "\u001b[33m[ WARN] [1629714652.670389042, 20061.074000000]: Fail: ABORTED: No motion plan found. No execution attempted.\u001b[0m\n"
     ]
    },
    {
     "output_type": "stream",
     "name": "stdout",
     "text": [
      "[256 158 243 228 120]\n",
      "Error setting joint target. Is the target within bounds?\n",
      "[162 232  29 167  76]\n",
      "[213 187  71 136 261]\n",
      "\n",
      "\u001b[0m[ INFO] [1629714415.822677184, 12012.674000000]: ABORTED: No motion plan found. No execution attempted.\u001b[0m\n",
      "\u001b[0m[ INFO] [1629714421.118385729, 12270.664000000]: ABORTED: No motion plan found. No execution attempted.\u001b[0m\n",
      "\u001b[0m[ INFO] [1629714423.711731342, 12402.464000000]: ABORTED: No motion plan found. No execution attempted.\u001b[0m\n",
      "\u001b[0m[ INFO] [1629714429.096009318, 12592.524000000]: ABORTED: No motion plan found. No execution attempted.\u001b[0m\n",
      "\u001b[0m[ INFO] [1629714432.018788317, 12660.344000000]: ABORTED: No motion plan found. No execution attempted.\u001b[0m\n",
      "\u001b[0m[ INFO] [1629714446.767196202, 13178.904000000]: ABORTED: No motion plan found. No execution attempted.\u001b[0m\n",
      "\u001b[0m[ INFO] [1629714450.831096051, 13350.854000000]: ABORTED: No motion plan found. No execution attempted.\u001b[0m\n",
      "\u001b[0m[ INFO] [1629714468.456004853, 14045.714000000]: ABORTED: No motion plan found. No execution attempted.\u001b[0m\n",
      "\u001b[0m[ INFO] [1629714469.723977042, 14085.554000000]: ABORTED: No motion plan found. No execution attempted.\u001b[0m\n",
      "\u001b[0m[ INFO] [1629714475.249068662, 14266.124000000]: ABORTED: No motion plan found. No execution attempted.\u001b[0m\n",
      "\u001b[0m[ INFO] [1629714476.096296726, 14307.534000000]: ABORTED: No motion plan found. No execution attempted.\u001b[0m\n",
      "\u001b[0m[ INFO] [1629714495.670251503, 14915.384000000]: ABORTED: No motion plan found. No execution attempted.\u001b[0m\n",
      "\u001b[0m[ INFO] [1629714505.364460656, 15281.004000000]: ABORTED: No motion plan found. No execution attempted.\u001b[0m\n",
      "\u001b[0m[ INFO] [1629714514.030352574, 15587.964000000]: ABORTED: No motion plan found. No execution attempted.\u001b[0m\n",
      "\u001b[0m[ INFO] [1629714515.502527440, 15624.194000000]: ABORTED: No motion plan found. No execution attempted.\u001b[0m\n",
      "\u001b[0m[ INFO] [1629714535.839771123, 16066.494000000]: ABORTED: No motion plan found. No execution attempted.\u001b[0m\n",
      "\u001b[0m[ INFO] [1629714538.883621429, 16212.974000000]: ABORTED: No motion plan found. No execution attempted.\u001b[0m\n",
      "\u001b[0m[ INFO] [1629714554.832592791, 16800.184000000]: ABORTED: No motion plan found. No execution attempted.\u001b[0m\n",
      "\u001b[0m[ INFO] [1629714561.948916670, 16990.344000000]: ABORTED: No motion plan found. No execution attempted.\u001b[0m\n",
      "\u001b[0m[ INFO] [1629714563.757904493, 17022.564000000]: ABORTED: No motion plan found. No execution attempted.\u001b[0m\n",
      "\u001b[0m[ INFO] [1629714582.694732786, 17693.744000000]: ABORTED: No motion plan found. No execution attempted.\u001b[0m\n",
      "\u001b[0m[ INFO] [1629714583.285740047, 17706.964000000]: ABORTED: No motion plan found. No execution attempted.\u001b[0m\n",
      "\u001b[0m[ INFO] [1629714585.682796389, 17823.504000000]: ABORTED: No motion plan found. No execution attempted.\u001b[0m\n",
      "\u001b[0m[ INFO] [1629714586.953752228, 17884.504000000]: ABORTED: No motion plan found. No execution attempted.\u001b[0m\n",
      "\u001b[0m[ INFO] [1629714590.860669360, 18006.924000000]: ABORTED: No motion plan found. No execution attempted.\u001b[0m\n",
      "\u001b[0m[ INFO] [1629714594.556548641, 18127.044000000]: ABORTED: Timeout reached\u001b[0m\n",
      "\u001b[0m[ INFO] [1629714604.468672496, 18516.934000000]: ABORTED: No motion plan found. No execution attempted.\u001b[0m\n",
      "\u001b[0m[ INFO] [1629714606.575862536, 18566.764000000]: ABORTED: No motion plan found. No execution attempted.\u001b[0m\n",
      "\u001b[0m[ INFO] [1629714609.146454474, 18622.444000000]: ABORTED: No motion plan found. No execution attempted.\u001b[0m\n",
      "\u001b[0m[ INFO] [1629714612.335997092, 18685.264000000]: ABORTED: No motion plan found. No execution attempted.\u001b[0m\n",
      "\u001b[0m[ INFO] [1629714612.966100755, 18698.184000000]: ABORTED: No motion plan found. No execution attempted.\u001b[0m\n",
      "\u001b[0m[ INFO] [1629714613.903348390, 18717.684000000]: ABORTED: No motion plan found. No execution attempted.\u001b[0m\n",
      "\u001b[0m[ INFO] [1629714616.783147813, 18814.224000000]: ABORTED: No motion plan found. No execution attempted.\u001b[0m\n",
      "\u001b[0m[ INFO] [1629714623.775932643, 19129.484000000]: ABORTED: No motion plan found. No execution attempted.\u001b[0m\n",
      "\u001b[0m[ INFO] [1629714631.818242900, 19357.554000000]: ABORTED: No motion plan found. No execution attempted.\u001b[0m\n",
      "\u001b[0m[ INFO] [1629714652.786976465, 20065.034000000]: ABORTED: No motion plan found. No execution attempted.\u001b[0m\n",
      "\u001b[0m[ INFO] [1629714655.774120483, 20151.934000000]: ABORTED: No motion plan found. No execut"
     ]
    },
    {
     "output_type": "stream",
     "name": "stderr",
     "text": [
      "\u001b[33m[ WARN] [1629714655.689440876, 20150.134000000]: Fail: ABORTED: No motion plan found. No execution attempted.\u001b[0m\n"
     ]
    },
    {
     "output_type": "stream",
     "name": "stdout",
     "text": [
      "[ 34 195  27  89 179]\n",
      "[138 161 176  61 123]\n",
      "[ 86  15 154  49  28]\n",
      "[118 176 260  90 179]\n",
      "[238  36  62  46  99]\n",
      "[203 132  32 249  32]\n",
      "[177  77  72  64  79]\n",
      "[223  21 245 215 127]\n",
      "[240  86 255 199 162]\n",
      "[ 91 153  74  39 197]\n",
      "[110  19 126 101 116]\n",
      "[125  68 154 261  41]\n",
      "[192 226 219 213  37]\n",
      "[204 120 165 256  43]\n",
      "[245  14  32 186 107]\n"
     ]
    },
    {
     "output_type": "stream",
     "name": "stderr",
     "text": [
      "\u001b[33m[ WARN] [1629714680.666570909, 20886.264000000]: Fail: ABORTED: No motion plan found. No execution attempted.\u001b[0m\n"
     ]
    },
    {
     "output_type": "stream",
     "name": "stdout",
     "text": [
      "[191 200 235 108 171]\n",
      "[106 221 258 143  39]\n"
     ]
    },
    {
     "output_type": "stream",
     "name": "stderr",
     "text": [
      "\u001b[33m[ WARN] [1629714683.447751429, 20942.924000000]: Fail: ABORTED: No motion plan found. No execution attempted.\u001b[0m\n"
     ]
    },
    {
     "output_type": "stream",
     "name": "stdout",
     "text": [
      "[128  97 238 146  93]\n",
      "[ 37  11 159  12  26]\n"
     ]
    },
    {
     "output_type": "stream",
     "name": "stderr",
     "text": [
      "\u001b[33m[ WARN] [1629714686.264512333, 21035.254000000]: Fail: ABORTED: No motion plan found. No execution attempted.\u001b[0m\n"
     ]
    },
    {
     "output_type": "stream",
     "name": "stdout",
     "text": [
      "[233 114 237 169 208]\n",
      "[107 102 105  35 181]\n",
      "[21 66 47 93  0]\n"
     ]
    },
    {
     "output_type": "stream",
     "name": "stderr",
     "text": [
      "\u001b[33m[ WARN] [1629714689.809208978, 21208.064000000]: Fail: ABORTED: No motion plan found. No execution attempted.\u001b[0m\n"
     ]
    },
    {
     "output_type": "stream",
     "name": "stdout",
     "text": [
      "[263  13 150 158  99]\n",
      "Error setting joint target. Is the target within bounds?\n",
      "[ 50 241  14 112  12]\n"
     ]
    },
    {
     "output_type": "stream",
     "name": "stderr",
     "text": [
      "\u001b[33m[ WARN] [1629714691.029938117, 21296.744000000]: Fail: ABORTED: No motion plan found. No execution attempted.\u001b[0m\n"
     ]
    },
    {
     "output_type": "stream",
     "name": "stdout",
     "text": [
      "[ 39 261 240  92  17]\n"
     ]
    },
    {
     "output_type": "stream",
     "name": "stderr",
     "text": [
      "\u001b[33m[ WARN] [1629714691.962757403, 21320.884000000]: Fail: ABORTED: No motion plan found. No execution attempted.\u001b[0m\n"
     ]
    },
    {
     "output_type": "stream",
     "name": "stdout",
     "text": [
      "[138 125  53 160  57]\n",
      "[ 86 159  80 133  44]\n",
      "[168  37  40  11  85]\n",
      "[247 153 256 179 168]\n",
      "[186 182 254 156   2]\n"
     ]
    },
    {
     "output_type": "stream",
     "name": "stderr",
     "text": [
      "\u001b[33m[ WARN] [1629714698.541733466, 21617.364000000]: Fail: ABORTED: No motion plan found. No execution attempted.\u001b[0m\n"
     ]
    },
    {
     "output_type": "stream",
     "name": "stdout",
     "text": [
      "[ 62 168  84  12 234]\n",
      "[ 97  98 178 245 254]\n"
     ]
    },
    {
     "output_type": "stream",
     "name": "stderr",
     "text": [
      "\u001b[33m[ WARN] [1629714700.808695755, 21701.314000000]: Fail: ABORTED: No motion plan found. No execution attempted.\u001b[0m\n"
     ]
    },
    {
     "output_type": "stream",
     "name": "stdout",
     "text": [
      "[158 151 182  61  50]\n",
      "[261 170 108  49   3]\n",
      "Error setting joint target. Is the target within bounds?\n",
      "[ 78  54  72  73 132]\n",
      "[139 136  12 114 103]\n",
      "[ 93 258 166 219 234]\n",
      "[177 232 121  34 255]\n"
     ]
    },
    {
     "output_type": "stream",
     "name": "stderr",
     "text": [
      "\u001b[33m[ WARN] [1629714708.170079280, 21977.124000000]: Fail: ABORTED: No motion plan found. No execution attempted.\u001b[0m\n"
     ]
    },
    {
     "output_type": "stream",
     "name": "stdout",
     "text": [
      "[223 172 146 185  90]\n",
      "[242 131 254 228  11]\n"
     ]
    },
    {
     "output_type": "stream",
     "name": "stderr",
     "text": [
      "\u001b[33m[ WARN] [1629714710.492401625, 22098.044000000]: Fail: ABORTED: No motion plan found. No execution attempted.\u001b[0m\n"
     ]
    },
    {
     "output_type": "stream",
     "name": "stdout",
     "text": [
      "[ 65 168  50 250   1]\n"
     ]
    },
    {
     "output_type": "stream",
     "name": "stderr",
     "text": [
      "\u001b[33m[ WARN] [1629714711.417775681, 22142.304000000]: Fail: ABORTED: No motion plan found. No execution attempted.\u001b[0m\n"
     ]
    },
    {
     "output_type": "stream",
     "name": "stdout",
     "text": [
      "[261  12 152  72  81]\n",
      "Error setting joint target. Is the target within bounds?\n",
      "step = 225: loss = 0.7144031524658203\n",
      "[ 70 196 184  14 103]\n",
      "[154 258  68 262  60]\n",
      "[ 13 186  99  61 151]\n",
      "Error setting joint target. Is the target within bounds?\n",
      "[ 80 201 243 189 128]\n",
      "[ 92 140 251 220  42]\n",
      "[ 85 169 237 106 141]\n",
      "[ 74 221  97 190  95]\n",
      "[ 10 121 268  12  70]\n",
      "Error setting joint target. Is the target within bounds?\n",
      "[163  42  35  23 265]\n"
     ]
    },
    {
     "output_type": "stream",
     "name": "stderr",
     "text": [
      "\u001b[31m[ERROR] [1629714723.503897090, 22587.294000000]: Got a callback on a goalHandle that we're not tracking.                 This is an internal SimpleActionClient/ActionClient bug.                 This could also be a GoalID collision\u001b[0m\n",
      "\u001b[33m[ WARN] [1629714723.608300191, 22590.844000000]: Fail: ABORTED: No motion plan found. No execution attempted.\u001b[0m\n"
     ]
    },
    {
     "output_type": "stream",
     "name": "stdout",
     "text": [
      "[265 205   1  46 121]\n",
      "Error setting joint target. Is the target within bounds?\n",
      "[213  33 158  49  72]\n",
      "[ 57 117  74 124 219]\n",
      "[ 90  87 158 216 134]\n",
      "[ 16 210 199  49  62]\n",
      "Error setting joint target. Is the target within bounds?\n",
      "[ 59 136   3 249 194]\n",
      "[110   6 183  52  41]\n",
      "[107  59  17 243  19]\n"
     ]
    },
    {
     "output_type": "stream",
     "name": "stderr",
     "text": [
      "\u001b[33m[ WARN] [1629714732.812919540, 22911.744000000]: Fail: ABORTED: No motion plan found. No execution attempted.\u001b[0m\n"
     ]
    },
    {
     "output_type": "stream",
     "name": "stdout",
     "text": [
      "[167 166  97  70  46]\n",
      "[156  53 170  37  29]\n",
      "[129 194  73 150 107]\n",
      "[232 153 201 171  81]\n",
      "[112 247 233  98  41]\n"
     ]
    },
    {
     "output_type": "stream",
     "name": "stderr",
     "text": [
      "\u001b[33m[ WARN] [1629714739.536540098, 23119.114000000]: Fail: ABORTED: No motion plan found. No execution attempted.\u001b[0m\n"
     ]
    },
    {
     "output_type": "stream",
     "name": "stdout",
     "text": [
      "[213 208  48 210 209]\n",
      "[162 234  11  41 118]\n",
      "[267 178  98 201  82]\n",
      "Error setting joint target. Is the target within bounds?\n",
      "[264  62  45 147  30]\n",
      "Error setting joint target. Is the target within bounds?\n",
      "[ 24 221  83 174  22]\n"
     ]
    },
    {
     "output_type": "stream",
     "name": "stderr",
     "text": [
      "\u001b[31m[ERROR] [1629714746.520638436, 23351.754000000]: Got a callback on a goalHandle that we're not tracking.                 This is an internal SimpleActionClient/ActionClient bug.                 This could also be a GoalID collision\u001b[0m\n",
      "\u001b[33m[ WARN] [1629714746.675227595, 23357.194000000]: Fail: ABORTED: No motion plan found. No execution attempted.\u001b[0m\n"
     ]
    },
    {
     "output_type": "stream",
     "name": "stdout",
     "text": [
      "[151  76 240  88 255]\n"
     ]
    },
    {
     "output_type": "stream",
     "name": "stderr",
     "text": [
      "\u001b[33m[ WARN] [1629714747.316753947, 23382.924000000]: Fail: ABORTED: No motion plan found. No execution attempted.\u001b[0m\n"
     ]
    },
    {
     "output_type": "stream",
     "name": "stdout",
     "text": [
      "[246 108  31 255  65]\n",
      "[105 142 249 118 256]\n"
     ]
    },
    {
     "output_type": "stream",
     "name": "stderr",
     "text": [
      "\u001b[33m[ WARN] [1629714749.869925621, 23502.894000000]: Fail: ABORTED: No motion plan found. No execution attempted.\u001b[0m\n"
     ]
    },
    {
     "output_type": "stream",
     "name": "stdout",
     "text": [
      "[214  14 229 197  77]\n",
      "[244   5  35 106 141]\n"
     ]
    },
    {
     "output_type": "stream",
     "name": "stderr",
     "text": [
      "\u001b[33m[ WARN] [1629714752.461957448, 23576.894000000]: Fail: ABORTED: No motion plan found. No execution attempted.\u001b[0m\n"
     ]
    },
    {
     "output_type": "stream",
     "name": "stdout",
     "text": [
      "[137  33   2  98 242]\n"
     ]
    },
    {
     "output_type": "stream",
     "name": "stderr",
     "text": [
      "\u001b[33m[ WARN] [1629714753.559430709, 23601.044000000]: Fail: ABORTED: No motion plan found. No execution attempted.\u001b[0m\n"
     ]
    },
    {
     "output_type": "stream",
     "name": "stdout",
     "text": [
      "[ 92 202  96  36  80]\n",
      "[ 86 249 236 125 121]\n"
     ]
    },
    {
     "output_type": "stream",
     "name": "stderr",
     "text": [
      "\u001b[33m[ WARN] [1629714756.083354708, 23686.354000000]: Fail: ABORTED: No motion plan found. No execution attempted.\u001b[0m\n"
     ]
    },
    {
     "output_type": "stream",
     "name": "stdout",
     "text": [
      "[228  80  20  61 235]\n",
      "[240 140 178  53 152]\n",
      "[219 211 264 130  28]\n"
     ]
    },
    {
     "output_type": "stream",
     "name": "stderr",
     "text": [
      "\u001b[33m[ WARN] [1629714759.972817719, 23787.554000000]: Fail: ABORTED: No motion plan found. No execution attempted.\u001b[0m\n"
     ]
    },
    {
     "output_type": "stream",
     "name": "stdout",
     "text": [
      "[ 34 215  73 251 153]\n",
      "[150 243  43 108 144]\n",
      "[  4  89 259  14 242]\n",
      "Error setting joint target. Is the target within bounds?\n",
      "[127  88 195 182 245]\n"
     ]
    },
    {
     "output_type": "stream",
     "name": "stderr",
     "text": [
      "\u001b[31m[ERROR] [1629714764.383541078, 23932.614000000]: Got a callback on a goalHandle that we're not tracking.                 This is an internal SimpleActionClient/ActionClient bug.                 This could also be a GoalID collision\u001b[0m\n"
     ]
    },
    {
     "output_type": "stream",
     "name": "stdout",
     "text": [
      "[264 167  49  96 182]\n",
      "Error setting joint target. Is the target within bounds?\n",
      "[113  73 119  12  87]\n",
      "[ 30   3 219 202 126]\n"
     ]
    },
    {
     "output_type": "stream",
     "name": "stderr",
     "text": [
      "\u001b[33m[ WARN] [1629714768.789241545, 24074.234000000]: Fail: ABORTED: No motion plan found. No execution attempted.\u001b[0m\n"
     ]
    },
    {
     "output_type": "stream",
     "name": "stdout",
     "text": [
      "[221  84 182  45 267]\n"
     ]
    },
    {
     "output_type": "stream",
     "name": "stderr",
     "text": [
      "\u001b[33m[ WARN] [1629714769.618940831, 24094.244000000]: Fail: ABORTED: No motion plan found. No execution attempted.\u001b[0m\n"
     ]
    },
    {
     "output_type": "stream",
     "name": "stdout",
     "text": [
      "[ 75 109 108 224 118]\n",
      "[ 68 155 222  59  88]\n",
      "[ 24 195  67   1  96]\n",
      "[ 51 243 250 255 205]\n"
     ]
    },
    {
     "output_type": "stream",
     "name": "stderr",
     "text": [
      "\u001b[33m[ WARN] [1629714775.196265344, 24315.554000000]: Fail: ABORTED: No motion plan found. No execution attempted.\u001b[0m\n"
     ]
    },
    {
     "output_type": "stream",
     "name": "stdout",
     "text": [
      "step = 250: loss = -16.022750854492188\n",
      "[145 149 148 107 158]\n",
      "[145 149 148 107 158]\n",
      "[145 149 148 107 158]\n",
      "[145 149 148 107 158]\n",
      "[145 149 148 107 158]\n",
      "[145 149 148 107 158]\n",
      "[145 149 148 107 158]\n",
      "[145 149 148 107 158]\n",
      "[145 149 148 107 158]\n",
      "[145 149 148 107 158]\n",
      "step = 250: Average Return = -6.311154365539551\n"
     ]
    }
   ],
   "metadata": {}
  },
  {
   "cell_type": "code",
   "execution_count": null,
   "source": [
    "steps = range(0, num_iterations + 1, eval_interval)\n",
    "plt.plot(steps, returns)\n",
    "plt.ylabel('Average Return')\n",
    "plt.xlabel('Step')\n",
    "plt.ylim(top=250)"
   ],
   "outputs": [
    {
     "output_type": "execute_result",
     "data": {
      "text/plain": [
       "(-1049.899664390087, 250.0)"
      ]
     },
     "metadata": {},
     "execution_count": 16
    },
    {
     "output_type": "display_data",
     "data": {
      "text/plain": [
       "<Figure size 432x288 with 1 Axes>"
      ],
      "image/png": "[encoded data removed]"
     },
     "metadata": {
      "needs_background": "light"
     }
    }
   ],
   "metadata": {}
  }
 ],
 "metadata": {
  "orig_nbformat": 4,
  "kernelspec": {
   "name": "python3",
   "display_name": "Python 3 (ipykernel)",
   "language": "python"
  },
  "language_info": {
   "name": "python",
   "version": "3.8.8",
   "mimetype": "text/x-python",
   "codemirror_mode": {
    "name": "ipython",
    "version": 3
   },
   "pygments_lexer": "ipython3",
   "nbconvert_exporter": "python",
   "file_extension": ".py"
  }
 },
 "nbformat": 4,
 "nbformat_minor": 2
}