{
 "cells": [
  {
   "cell_type": "code",
   "execution_count": null,
   "source": [],
   "outputs": [],
   "metadata": {}
  },
  {
   "cell_type": "code",
   "execution_count": null,
   "source": [
    "import abc\n",
    "import numpy as np\n",
    "import tensorflow as tf\n",
    "\n",
    "from tf_agents.agents import tf_agent\n",
    "from tf_agents.drivers import driver\n",
    "from tf_agents.environments import py_environment\n",
    "from tf_agents.environments import tf_environment\n",
    "from tf_agents.environments import tf_py_environment\n",
    "from tf_agents.policies import tf_policy\n",
    "from tf_agents.specs import array_spec\n",
    "from tf_agents.specs import tensor_spec\n",
    "from tf_agents.trajectories import time_step as ts\n",
    "from tf_agents.trajectories import trajectory\n",
    "from tf_agents.trajectories import policy_step\n",
    "\n",
    "# Clear any leftover state from previous colabs run.\n",
    "# (This is not necessary for normal programs.)\n",
    "tf.compat.v1.reset_default_graph()\n",
    "\n",
    "tf.compat.v1.enable_resource_variables()\n",
    "tf.compat.v1.enable_v2_behavior()\n",
    "nest = tf.compat.v2.nest\n"
   ],
   "outputs": [],
   "metadata": {}
  },
  {
   "cell_type": "code",
   "execution_count": null,
   "source": [],
   "outputs": [],
   "metadata": {}
  },
  {
   "cell_type": "code",
   "execution_count": null,
   "source": [
    "from gym.envs.registration import register\n",
    "import gym\n",
    "env_name = 'MoveoIK-v0'\n",
    "if env_name in gym.envs.registry.env_specs:\n",
    "    del gym.envs.registry.env_specs[env_name]\n",
    "\n",
    "register(\n",
    "        id=env_name ,\n",
    "        entry_point='moveo_inverse_kinematic:MoveoIKEnv',\n",
    "        max_episode_steps=max_episode_steps,\n",
    "    )"
   ],
   "outputs": [],
   "metadata": {}
  }
 ],
 "metadata": {
  "orig_nbformat": 4,
  "language_info": {
   "name": "python"
  }
 },
 "nbformat": 4,
 "nbformat_minor": 2
}