{
 "cells": [
  {
   "cell_type": "code",
   "execution_count": null,
   "source": [
    "# import sys\n",
    "# sys.executable\n",
    "# import os\n",
    "# os.getcwd()\n",
    "# sys.path.append('devel/lib/python3/dist-packages/theconstruct_msgs/msg/')\n",
    "# sys.path.append('/home/nils/Documents/Studium/Bachelorarbeit/praktischer_Teil/moveo_DRL/src')\n",
    "# sys.path.append('/home/nils/Documents/Studium/Bachelorarbeit/praktischer_Teil/moveo_DRL/src/moveo_training/scripts')\n",
    "# sys.path.append('/home/nils/Documents/Studium/Bachelorarbeit/praktischer_Teil/moveo_DRL/devel/lib/python3/dist-packages/openai_ros/msg')"
   ],
   "outputs": [],
   "metadata": {}
  },
  {
   "cell_type": "code",
   "execution_count": 1,
   "source": [
    "from __future__ import absolute_import\n",
    "from __future__ import division\n",
    "from __future__ import print_function\n",
    "\n",
    "import base64\n",
    "import imageio\n",
    "import IPython\n",
    "import matplotlib.pyplot as plt\n",
    "import numpy as np\n",
    "import PIL.Image\n",
    "import pyvirtualdisplay\n",
    "\n",
    "import tensorflow as tf\n",
    "\n",
    "from tf_agents.agents.reinforce import reinforce_agent\n",
    "from tf_agents.environments import suite_gym\n",
    "from tf_agents.environments import tf_py_environment\n",
    "from tf_agents.networks import actor_distribution_network\n",
    "from tf_agents.replay_buffers import tf_uniform_replay_buffer\n",
    "from tf_agents.trajectories import trajectory\n",
    "from tf_agents.utils import common\n",
    "\n",
    "tf.compat.v1.enable_v2_behavior()\n",
    "\n",
    "from src.moveo_training.src.moveo_training import moveo_inverse_kinematic_discrete_MultiActions\n",
    "# Set up a virtual display for rendering OpenAI gym environments.\n",
    "display = pyvirtualdisplay.Display(visible=0, size=(1400, 900)).start()"
   ],
   "outputs": [
    {
     "output_type": "stream",
     "name": "stderr",
     "text": [
      "2021-08-31 18:28:40.928970: W tensorflow/stream_executor/platform/default/dso_loader.cc:64] Could not load dynamic library 'libcudart.so.11.0'; dlerror: libcudart.so.11.0: cannot open shared object file: No such file or directory; LD_LIBRARY_PATH: /home/nils/Documents/Studium/Bachelorarbeit/praktischer_Teil/moveo_DRL/devel/lib:/opt/ros/noetic/lib:/opt/ros/noetic/lib/x86_64-linux-gnu\n",
      "2021-08-31 18:28:40.929008: I tensorflow/stream_executor/cuda/cudart_stub.cc:29] Ignore above cudart dlerror if you do not have a GPU set up on your machine.\n"
     ]
    },
    {
     "output_type": "stream",
     "name": "stdout",
     "text": [
      "Failed to import pyassimp, see https://github.com/ros-planning/moveit/issues/86 for more info\n"
     ]
    }
   ],
   "metadata": {}
  },
  {
   "cell_type": "code",
   "execution_count": 2,
   "source": [
    "num_iterations = 10000 # @param {type:\"integer\"}\n",
    "collect_episodes_per_iteration = 2 # @param {type:\"integer\"}\n",
    "replay_buffer_capacity = 2000 # @param {type:\"integer\"}\n",
    "\n",
    "fc_layer_params = (100,)\n",
    "\n",
    "learning_rate = 1e-3 # @param {type:\"number\"}\n",
    "log_interval = 25 # @param {type:\"integer\"}\n",
    "num_eval_episodes = 10 # @param {type:\"integer\"}\n",
    "eval_interval = 200 # @param {type:\"integer\"}"
   ],
   "outputs": [],
   "metadata": {}
  },
  {
   "cell_type": "code",
   "execution_count": null,
   "source": [],
   "outputs": [],
   "metadata": {}
  },
  {
   "cell_type": "code",
   "execution_count": 3,
   "source": [
    "import rospy\n",
    "rospy.init_node(\"train_moveo_her\")\n",
    "env_name = 'MoveoIK_discrete_MultiActions-v0' # @param {type:\"string\"}\n",
    "env = suite_gym.load(env_name)"
   ],
   "outputs": [
    {
     "output_type": "stream",
     "name": "stderr",
     "text": [
      "[ERROR] [1630427330.014531, 691096.842000]: NOT Initialising Simulation Physics Parameters\n",
      "[WARN] [1630427330.030262, 691098.042000]: Start Init ControllersConnection\n",
      "[WARN] [1630427330.031687, 691098.042000]: END Init ControllersConnection\n",
      "/home/nils/.local/lib/python3.8/site-packages/gym/logger.py:30: UserWarning: \u001b[33mWARN: Box bound precision lowered by casting to float32\u001b[0m\n",
      "  warnings.warn(colorize('%s: %s'%('WARN', msg % args), 'yellow'))\n"
     ]
    }
   ],
   "metadata": {}
  },
  {
   "cell_type": "code",
   "execution_count": 4,
   "source": [
    "env.reset()\n",
    "# PIL.Image.fromarray(env.render())"
   ],
   "outputs": [
    {
     "output_type": "execute_result",
     "data": {
      "text/plain": [
       "TimeStep(\n",
       "{'discount': array(1., dtype=float32),\n",
       " 'observation': array([0.5669996, 0.3      , 0.3      , 0.3      ], dtype=float32),\n",
       " 'reward': array(0., dtype=float32),\n",
       " 'step_type': array(0, dtype=int32)})"
      ]
     },
     "metadata": {},
     "execution_count": 4
    }
   ],
   "metadata": {}
  },
  {
   "cell_type": "code",
   "execution_count": 5,
   "source": [
    "print('Observation Spec:')\n",
    "print(env.time_step_spec().observation)\n",
    "print('Action Spec:')\n",
    "print(env.action_spec())"
   ],
   "outputs": [
    {
     "output_type": "stream",
     "name": "stdout",
     "text": [
      "Observation Spec:\n",
      "BoundedArraySpec(shape=(4,), dtype=dtype('float32'), name='observation', minimum=[ 0. -1. -1. -1.], maximum=[2. 1. 1. 1.])\n",
      "Action Spec:\n",
      "BoundedArraySpec(shape=(5,), dtype=dtype('int32'), name='action', minimum=0, maximum=269)\n"
     ]
    }
   ],
   "metadata": {}
  },
  {
   "cell_type": "code",
   "execution_count": 6,
   "source": [
    "time_step = env.reset()\n",
    "print('Time step:')\n",
    "print(time_step)\n",
    "\n",
    "# action = np.array(1, dtype=np.int32)\n",
    "\n",
    "# next_time_step = env.step(action)\n",
    "# print('Next time step:')\n",
    "# print(next_time_step)"
   ],
   "outputs": [
    {
     "output_type": "stream",
     "name": "stdout",
     "text": [
      "Time step:\n",
      "TimeStep(\n",
      "{'discount': array(1., dtype=float32),\n",
      " 'observation': array([0.5669996, 0.3      , 0.3      , 0.3      ], dtype=float32),\n",
      " 'reward': array(0., dtype=float32),\n",
      " 'step_type': array(0, dtype=int32)})\n"
     ]
    }
   ],
   "metadata": {}
  },
  {
   "cell_type": "code",
   "execution_count": 7,
   "source": [
    "train_py_env = suite_gym.load(env_name)\n",
    "eval_py_env = suite_gym.load(env_name)\n",
    "\n",
    "train_env = tf_py_environment.TFPyEnvironment(train_py_env)\n",
    "eval_env = tf_py_environment.TFPyEnvironment(eval_py_env)"
   ],
   "outputs": [
    {
     "output_type": "stream",
     "name": "stderr",
     "text": [
      "[ERROR] [1630427340.185363, 692094.142000]: NOT Initialising Simulation Physics Parameters\n",
      "[WARN] [1630427340.193072, 692095.042000]: Start Init ControllersConnection\n",
      "[WARN] [1630427340.196178, 692095.042000]: END Init ControllersConnection\n",
      "[ERROR] [1630427340.265709, 692101.042000]: NOT Initialising Simulation Physics Parameters\n",
      "[WARN] [1630427340.276244, 692102.242000]: Start Init ControllersConnection\n",
      "[WARN] [1630427340.277596, 692102.242000]: END Init ControllersConnection\n"
     ]
    }
   ],
   "metadata": {}
  },
  {
   "cell_type": "code",
   "execution_count": 8,
   "source": [
    "actor_net = actor_distribution_network.ActorDistributionNetwork(\n",
    "    train_env.observation_spec(),\n",
    "    train_env.action_spec(),\n",
    "    fc_layer_params=fc_layer_params)"
   ],
   "outputs": [],
   "metadata": {}
  },
  {
   "cell_type": "code",
   "execution_count": 9,
   "source": [
    "optimizer = tf.compat.v1.train.AdamOptimizer(learning_rate=learning_rate)\n",
    "\n",
    "train_step_counter = tf.compat.v2.Variable(0)\n",
    "\n",
    "tf_agent = reinforce_agent.ReinforceAgent(\n",
    "    train_env.time_step_spec(),\n",
    "    train_env.action_spec(),\n",
    "    actor_network=actor_net,\n",
    "    optimizer=optimizer,\n",
    "    normalize_returns=True,\n",
    "    train_step_counter=train_step_counter)\n",
    "tf_agent.initialize()"
   ],
   "outputs": [
    {
     "output_type": "stream",
     "name": "stderr",
     "text": [
      "2021-08-31 18:29:04.787489: I tensorflow/stream_executor/platform/default/dso_loader.cc:53] Successfully opened dynamic library libcuda.so.1\n",
      "2021-08-31 18:29:04.830868: I tensorflow/stream_executor/cuda/cuda_gpu_executor.cc:937] successful NUMA node read from SysFS had negative value (-1), but there must be at least one NUMA node, so returning NUMA node zero\n",
      "2021-08-31 18:29:04.836255: I tensorflow/core/common_runtime/gpu/gpu_device.cc:1733] Found device 0 with properties: \n",
      "pciBusID: 0000:01:00.0 name: GeForce GTX 970 computeCapability: 5.2\n",
      "coreClock: 1.2155GHz coreCount: 13 deviceMemorySize: 3.94GiB deviceMemoryBandwidth: 208.91GiB/s\n",
      "2021-08-31 18:29:04.837377: W tensorflow/stream_executor/platform/default/dso_loader.cc:64] Could not load dynamic library 'libcudart.so.11.0'; dlerror: libcudart.so.11.0: cannot open shared object file: No such file or directory; LD_LIBRARY_PATH: /home/nils/Documents/Studium/Bachelorarbeit/praktischer_Teil/moveo_DRL/devel/lib:/opt/ros/noetic/lib:/opt/ros/noetic/lib/x86_64-linux-gnu\n",
      "2021-08-31 18:29:04.837576: W tensorflow/stream_executor/platform/default/dso_loader.cc:64] Could not load dynamic library 'libcublas.so.11'; dlerror: libcublas.so.11: cannot open shared object file: No such file or directory; LD_LIBRARY_PATH: /home/nils/Documents/Studium/Bachelorarbeit/praktischer_Teil/moveo_DRL/devel/lib:/opt/ros/noetic/lib:/opt/ros/noetic/lib/x86_64-linux-gnu\n",
      "2021-08-31 18:29:04.837714: W tensorflow/stream_executor/platform/default/dso_loader.cc:64] Could not load dynamic library 'libcublasLt.so.11'; dlerror: libcublasLt.so.11: cannot open shared object file: No such file or directory; LD_LIBRARY_PATH: /home/nils/Documents/Studium/Bachelorarbeit/praktischer_Teil/moveo_DRL/devel/lib:/opt/ros/noetic/lib:/opt/ros/noetic/lib/x86_64-linux-gnu\n",
      "2021-08-31 18:29:04.837842: W tensorflow/stream_executor/platform/default/dso_loader.cc:64] Could not load dynamic library 'libcufft.so.10'; dlerror: libcufft.so.10: cannot open shared object file: No such file or directory; LD_LIBRARY_PATH: /home/nils/Documents/Studium/Bachelorarbeit/praktischer_Teil/moveo_DRL/devel/lib:/opt/ros/noetic/lib:/opt/ros/noetic/lib/x86_64-linux-gnu\n",
      "2021-08-31 18:29:04.837955: W tensorflow/stream_executor/platform/default/dso_loader.cc:64] Could not load dynamic library 'libcurand.so.10'; dlerror: libcurand.so.10: cannot open shared object file: No such file or directory; LD_LIBRARY_PATH: /home/nils/Documents/Studium/Bachelorarbeit/praktischer_Teil/moveo_DRL/devel/lib:/opt/ros/noetic/lib:/opt/ros/noetic/lib/x86_64-linux-gnu\n",
      "2021-08-31 18:29:04.838074: W tensorflow/stream_executor/platform/default/dso_loader.cc:64] Could not load dynamic library 'libcusolver.so.11'; dlerror: libcusolver.so.11: cannot open shared object file: No such file or directory; LD_LIBRARY_PATH: /home/nils/Documents/Studium/Bachelorarbeit/praktischer_Teil/moveo_DRL/devel/lib:/opt/ros/noetic/lib:/opt/ros/noetic/lib/x86_64-linux-gnu\n",
      "2021-08-31 18:29:04.839323: W tensorflow/stream_executor/platform/default/dso_loader.cc:64] Could not load dynamic library 'libcusparse.so.11'; dlerror: libcusparse.so.11: cannot open shared object file: No such file or directory; LD_LIBRARY_PATH: /home/nils/Documents/Studium/Bachelorarbeit/praktischer_Teil/moveo_DRL/devel/lib:/opt/ros/noetic/lib:/opt/ros/noetic/lib/x86_64-linux-gnu\n",
      "2021-08-31 18:29:04.839897: W tensorflow/stream_executor/platform/default/dso_loader.cc:64] Could not load dynamic library 'libcudnn.so.8'; dlerror: libcudnn.so.8: cannot open shared object file: No such file or directory; LD_LIBRARY_PATH: /home/nils/Documents/Studium/Bachelorarbeit/praktischer_Teil/moveo_DRL/devel/lib:/opt/ros/noetic/lib:/opt/ros/noetic/lib/x86_64-linux-gnu\n",
      "2021-08-31 18:29:04.839915: W tensorflow/core/common_runtime/gpu/gpu_device.cc:1766] Cannot dlopen some GPU libraries. Please make sure the missing libraries mentioned above are installed properly if you would like to use GPU. Follow the guide at https://www.tensorflow.org/install/gpu for how to download and setup the required libraries for your platform.\n",
      "Skipping registering GPU devices...\n",
      "2021-08-31 18:29:04.844577: I tensorflow/core/platform/cpu_feature_guard.cc:142] This TensorFlow binary is optimized with oneAPI Deep Neural Network Library (oneDNN) to use the following CPU instructions in performance-critical operations:  AVX2 FMA\n",
      "To enable them in other operations, rebuild TensorFlow with the appropriate compiler flags.\n",
      "2021-08-31 18:29:04.844804: I tensorflow/core/common_runtime/gpu/gpu_device.cc:1258] Device interconnect StreamExecutor with strength 1 edge matrix:\n",
      "2021-08-31 18:29:04.844819: I tensorflow/core/common_runtime/gpu/gpu_device.cc:1264]      \n"
     ]
    }
   ],
   "metadata": {}
  },
  {
   "cell_type": "code",
   "execution_count": 10,
   "source": [
    "eval_policy = tf_agent.policy\n",
    "collect_policy = tf_agent.collect_policy"
   ],
   "outputs": [],
   "metadata": {}
  },
  {
   "cell_type": "code",
   "execution_count": 11,
   "source": [
    "def compute_avg_return(environment, policy, num_episodes=10):\n",
    "\n",
    "  total_return = 0.0\n",
    "  for _ in range(num_episodes):\n",
    "\n",
    "    time_step = environment.reset()\n",
    "    episode_return = 0.0\n",
    "\n",
    "    while not time_step.is_last():\n",
    "      action_step = policy.action(time_step)\n",
    "      time_step = environment.step(action_step.action)\n",
    "      episode_return += time_step.reward\n",
    "    total_return += episode_return\n",
    "\n",
    "  avg_return = total_return / num_episodes\n",
    "  return avg_return.numpy()[0]\n",
    "\n",
    "\n",
    "# Please also see the metrics module for standard implementations of different\n",
    "# metrics."
   ],
   "outputs": [],
   "metadata": {}
  },
  {
   "cell_type": "code",
   "execution_count": 12,
   "source": [
    "replay_buffer = tf_uniform_replay_buffer.TFUniformReplayBuffer(\n",
    "    data_spec=tf_agent.collect_data_spec,\n",
    "    batch_size=train_env.batch_size,\n",
    "    max_length=replay_buffer_capacity)"
   ],
   "outputs": [],
   "metadata": {}
  },
  {
   "cell_type": "code",
   "execution_count": 13,
   "source": [
    "def collect_episode(environment, policy, num_episodes):\n",
    "\n",
    "  episode_counter = 0\n",
    "  environment.reset()\n",
    "\n",
    "  while episode_counter < num_episodes:\n",
    "    time_step = environment.current_time_step()\n",
    "    action_step = policy.action(time_step)\n",
    "    next_time_step = environment.step(action_step.action)\n",
    "    traj = trajectory.from_transition(time_step, action_step, next_time_step)\n",
    "\n",
    "    # Add trajectory to the replay buffer\n",
    "    replay_buffer.add_batch(traj)\n",
    "\n",
    "    if traj.is_boundary():\n",
    "      episode_counter += 1\n",
    "\n",
    "\n",
    "# This loop is so common in RL, that we provide standard implementations of\n",
    "# these. For more details see the drivers module."
   ],
   "outputs": [],
   "metadata": {}
  },
  {
   "cell_type": "code",
   "execution_count": 14,
   "source": [
    "try:\n",
    "  %%time\n",
    "except:\n",
    "  pass\n",
    "\n",
    "# (Optional) Optimize by wrapping some of the code in a graph using TF function.\n",
    "tf_agent.train = common.function(tf_agent.train)\n",
    "\n",
    "# Reset the train step\n",
    "tf_agent.train_step_counter.assign(0)\n",
    "\n",
    "# Evaluate the agent's policy once before training.\n",
    "avg_return = compute_avg_return(eval_env, tf_agent.policy, num_eval_episodes)\n",
    "returns = [avg_return]\n",
    "\n",
    "for _ in range(num_iterations):\n",
    "\n",
    "  # Collect a few episodes using collect_policy and save to the replay buffer.\n",
    "  collect_episode(\n",
    "      train_env, tf_agent.collect_policy, collect_episodes_per_iteration)\n",
    "\n",
    "  # Use data from the buffer and update the agent's network.\n",
    "  experience = replay_buffer.gather_all()\n",
    "  train_loss = tf_agent.train(experience)\n",
    "  replay_buffer.clear()\n",
    "\n",
    "  step = tf_agent.train_step_counter.numpy()\n",
    "\n",
    "  if step % log_interval == 0:\n",
    "    print('step = {0}: loss = {1}'.format(step, train_loss.loss))\n",
    "\n",
    "  if step % eval_interval == 0:\n",
    "    avg_return = compute_avg_return(eval_env, tf_agent.policy, num_eval_episodes)\n",
    "    print('step = {0}: Average Return = {1}'.format(step, avg_return))\n",
    "    returns.append(avg_return)"
   ],
   "outputs": [
    {
     "output_type": "stream",
     "name": "stdout",
     "text": [
      "WARNING:tensorflow:From /tmp/ipykernel_374601/3980646871.py:23: ReplayBuffer.gather_all (from tf_agents.replay_buffers.replay_buffer) is deprecated and will be removed in a future version.\n",
      "Instructions for updating:\n",
      "Use `as_dataset(..., single_deterministic_pass=True)` instead.\n"
     ]
    },
    {
     "output_type": "stream",
     "name": "stderr",
     "text": [
      "2021-08-31 18:29:32.429199: I tensorflow/compiler/mlir/mlir_graph_optimization_pass.cc:176] None of the MLIR Optimization Passes are enabled (registered 2)\n",
      "2021-08-31 18:29:32.456184: I tensorflow/core/platform/profile_utils/cpu_utils.cc:114] CPU Frequency: 3192625000 Hz\n",
      "\u001b[33m[ WARN] [1630427374.392211991, 695450.942000000]: Fail: ABORTED: No motion plan found. No execution attempted.\u001b[0m\n",
      "\u001b[33m[ WARN] [1630427374.885687378, 695499.642000000]: Fail: ABORTED: No motion plan found. No execution attempted.\u001b[0m\n",
      "\u001b[33m[ WARN] [1630427376.266402043, 695633.842000000]: Fail: ABORTED: No motion plan found. No execution attempted.\u001b[0m\n",
      "\u001b[33m[ WARN] [1630427376.633662924, 695669.342000000]: Fail: ABORTED: No motion plan found. No execution attempted.\u001b[0m\n",
      "\u001b[33m[ WARN] [1630427378.413492702, 695844.942000000]: Fail: ABORTED: No motion plan found. No execution attempted.\u001b[0m\n",
      "\u001b[33m[ WARN] [1630427381.588048887, 696153.842000000]: Fail: ABORTED: No motion plan found. No execution attempted.\u001b[0m\n",
      "\u001b[33m[ WARN] [1630427382.475158844, 696238.942000000]: Fail: ABORTED: No motion plan found. No execution attempted.\u001b[0m\n",
      "\u001b[33m[ WARN] [1630427388.070605952, 696778.242000000]: Fail: ABORTED: No motion plan found. No execution attempted.\u001b[0m\n",
      "\u001b[33m[ WARN] [1630427390.561006431, 697023.142000000]: Fail: ABORTED: No motion plan found. No execution attempted.\u001b[0m\n"
     ]
    },
    {
     "output_type": "stream",
     "name": "stdout",
     "text": [
      "Ziel wurde erreicht Reward=  1000\n"
     ]
    },
    {
     "output_type": "stream",
     "name": "stderr",
     "text": [
      "\u001b[33m[ WARN] [1630427395.329635495, 697488.342000000]: Fail: ABORTED: No motion plan found. No execution attempted.\u001b[0m\n",
      "\u001b[33m[ WARN] [1630427395.718677200, 697526.442000000]: Fail: ABORTED: No motion plan found. No execution attempted.\u001b[0m\n",
      "\u001b[33m[ WARN] [1630427396.001772565, 697554.242000000]: Fail: ABORTED: No motion plan found. No execution attempted.\u001b[0m\n"
     ]
    },
    {
     "output_type": "stream",
     "name": "stdout",
     "text": [
      "step = 25: loss = -16.187305450439453\n"
     ]
    },
    {
     "output_type": "stream",
     "name": "stderr",
     "text": [
      "\u001b[33m[ WARN] [1630427397.414678055, 697692.342000000]: Fail: ABORTED: No motion plan found. No execution attempted.\u001b[0m\n",
      "\u001b[33m[ WARN] [1630427398.515189801, 697797.842000000]: Fail: ABORTED: No motion plan found. No execution attempted.\u001b[0m\n",
      "\u001b[33m[ WARN] [1630427402.700591425, 698205.442000000]: Fail: ABORTED: No motion plan found. No execution attempted.\u001b[0m\n"
     ]
    },
    {
     "output_type": "stream",
     "name": "stdout",
     "text": [
      "Ziel wurde erreicht Reward=  1000\n"
     ]
    },
    {
     "output_type": "stream",
     "name": "stderr",
     "text": [
      "\u001b[33m[ WARN] [1630427404.860382149, 698415.242000000]: Fail: ABORTED: No motion plan found. No execution attempted.\u001b[0m\n",
      "\u001b[33m[ WARN] [1630427405.201071027, 698448.542000000]: Fail: ABORTED: No motion plan found. No execution attempted.\u001b[0m\n",
      "\u001b[31m[ERROR] [1630427405.201885100, 698448.642000000]: Got a callback on a goalHandle that we're not tracking.                 This is an internal SimpleActionClient/ActionClient bug.                 This could also be a GoalID collision\u001b[0m\n",
      "\u001b[33m[ WARN] [1630427406.091004123, 698536.442000000]: Fail: ABORTED: No motion plan found. No execution attempted.\u001b[0m\n",
      "\u001b[33m[ WARN] [1630427406.403425618, 698567.442000000]: Fail: ABORTED: No motion plan found. No execution attempted.\u001b[0m\n",
      "\u001b[33m[ WARN] [1630427407.339948986, 698660.242000000]: Fail: ABORTED: No motion plan found. No execution attempted.\u001b[0m\n",
      "\u001b[33m[ WARN] [1630427409.327138545, 698853.842000000]: Fail: ABORTED: No motion plan found. No execution attempted.\u001b[0m\n",
      "\u001b[33m[ WARN] [1630427411.694402296, 699085.442000000]: Fail: ABORTED: No motion plan found. No execution attempted.\u001b[0m\n",
      "\u001b[33m[ WARN] [1630427411.960887325, 699111.442000000]: Fail: ABORTED: No motion plan found. No execution attempted.\u001b[0m\n",
      "\u001b[31m[ERROR] [1630427413.716441520, 699282.442000000]: Got a callback on a goalHandle that we're not tracking.                 This is an internal SimpleActionClient/ActionClient bug.                 This could also be a GoalID collision\u001b[0m\n",
      "\u001b[33m[ WARN] [1630427414.877380249, 699398.842000000]: Fail: ABORTED: No motion plan found. No execution attempted.\u001b[0m\n",
      "\u001b[33m[ WARN] [1630427416.882677853, 699595.942000000]: Fail: ABORTED: No motion plan found. No execution attempted.\u001b[0m\n"
     ]
    },
    {
     "output_type": "stream",
     "name": "stdout",
     "text": [
      "step = 50: loss = -14.832271575927734\n"
     ]
    },
    {
     "output_type": "stream",
     "name": "stderr",
     "text": [
      "\u001b[33m[ WARN] [1630427420.395773282, 699937.242000000]: Fail: ABORTED: No motion plan found. No execution attempted.\u001b[0m\n",
      "\u001b[33m[ WARN] [1630427425.316745933, 700418.342000000]: Fail: ABORTED: No motion plan found. No execution attempted.\u001b[0m\n",
      "\u001b[33m[ WARN] [1630427429.737554706, 700847.442000000]: Fail: ABORTED: No motion plan found. No execution attempted.\u001b[0m\n",
      "\u001b[33m[ WARN] [1630427433.150727671, 701182.342000000]: Fail: ABORTED: No motion plan found. No execution attempted.\u001b[0m\n",
      "\u001b[33m[ WARN] [1630427434.045612082, 701269.742000000]: Fail: ABORTED: No motion plan found. No execution attempted.\u001b[0m\n",
      "\u001b[33m[ WARN] [1630427434.956788526, 701356.242000000]: Fail: ABORTED: No motion plan found. No execution attempted.\u001b[0m\n",
      "\u001b[33m[ WARN] [1630427436.586184367, 701517.042000000]: Fail: ABORTED: No motion plan found. No execution attempted.\u001b[0m\n"
     ]
    },
    {
     "output_type": "stream",
     "name": "stdout",
     "text": [
      "\u001b[0m[ INFO] [1630427328.585143750]: Loading robot model 'moveo_description'...\u001b[0m\n",
      "\u001b[0m[ INFO] [1630427328.585978145]: No root/virtual joint specified in SRDF. Assuming fixed joint\u001b[0m\n",
      "\u001b[0m[ INFO] [1630427330.004336672, 691095.842000000]: Ready to take commands for planning group arm.\u001b[0m\n",
      "\u001b[0m[ INFO] [1630427340.157374934, 692092.242000000]: Ready to take commands for planning group arm.\u001b[0m\n",
      "\u001b[0m[ INFO] [1630427340.253117134, 692099.642000000]: Ready to take commands for planning group arm.\u001b[0m\n",
      "\u001b[0m[ INFO] [1630427374.529569530, 695464.142000000]: ABORTED: No motion plan found. No execution attempted.\u001b[0m\n",
      "\u001b[0m[ INFO] [1630427374.959016745, 695506.442000000]: ABORTED: No motion plan found. No execution attempted.\u001b[0m\n",
      "\u001b[0m[ INFO] [1630427376.310365357, 695638.342000000]: ABORTED: No motion plan found. No execution attempted.\u001b[0m\n",
      "\u001b[0m[ INFO] [1630427376.716372832, 695677.742000000]: ABORTED: No motion plan found. No execution attempted.\u001b[0m\n",
      "\u001b[0m[ INFO] [1630427378.487315310, 695851.842000000]: ABORTED: No motion plan found. No execution attempted.\u001b[0m\n",
      "\u001b[0m[ INFO] [1630427381.630415558, 696158.542000000]: ABORTED: No motion plan found. No execution attempted.\u001b[0m\n",
      "\u001b[0m[ INFO] [1630427382.539470594, 696244.242000000]: ABORTED: No motion plan found. No execution attempted.\u001b[0m\n",
      "\u001b[0m[ INFO] [1630427388.124114200, 696783.542000000]: ABORTED: No motion plan found. No execution attempted.\u001b[0m\n",
      "\u001b[0m[ INFO] [1630427390.625658435, 697029.642000000]: ABORTED: No motion plan found. No execution attempted.\u001b[0m\n",
      "\u001b[0m[ INFO] [1630427395.403019044, 697495.442000000]: ABORTED: No motion plan found. No execution attempted.\u001b[0m\n",
      "\u001b[0m[ INFO] [1630427395.792345681, 697533.842000000]: ABORTED: No motion plan found. No execution attempted.\u001b[0m\n",
      "\u001b[0m[ INFO] [1630427396.045823107, 697558.142000000]: ABORTED: No motion plan found. No execution attempted.\u001b[0m\n",
      "\u001b[0m[ INFO] [1630427397.457088475, 697696.742000000]: ABORTED: No motion plan found. No execution attempted.\u001b[0m\n",
      "\u001b[0m[ INFO] [1630427398.902522572, 697835.142000000]: ABORTED: No motion plan found. No execution attempted.\u001b[0m\n",
      "\u001b[0m[ INFO] [1630427402.758898357, 698211.142000000]: ABORTED: No motion plan found. No execution attempted.\u001b[0m\n",
      "\u001b[0m[ INFO] [1630427404.906055870, 698419.642000000]: ABORTED: No motion plan found. No execution attempted.\u001b[0m\n",
      "\u001b[0m[ INFO] [1630427405.280630410, 698456.742000000]: ABORTED: No motion plan found. No execution attempted.\u001b[0m\n",
      "\u001b[0m[ INFO] [1630427406.124172501, 698539.642000000]: ABORTED: No motion plan found. No execution attempted.\u001b[0m\n",
      "\u001b[0m[ INFO] [1630427406.520840321, 698579.042000000]: ABORTED: No motion plan found. No execution attempted.\u001b[0m\n",
      "\u001b[0m[ INFO] [1630427407.392799511, 698665.642000000]: ABORTED: No motion plan found. No execution attempted.\u001b[0m\n",
      "\u001b[0m[ INFO] [1630427409.370141863, 698858.042000000]: ABORTED: No motion plan found. No execution attempted.\u001b[0m\n",
      "\u001b[0m[ INFO] [1630427411.757331347, 699091.642000000]: ABORTED: No motion plan found. No execution attempted.\u001b[0m\n",
      "\u001b[0m[ INFO] [1630427412.036940569, 699119.142000000]: ABORTED: No motion plan found. No execution attempted.\u001b[0m\n",
      "\u001b[0m[ INFO] [1630427414.920454600, 699403.242000000]: ABORTED: No motion plan found. No execution attempted.\u001b[0m\n",
      "\u001b[0m[ INFO] [1630427416.947666457, 699602.242000000]: ABORTED: No motion plan found. No execution attempted.\u001b[0m\n",
      "\u001b[0m[ INFO] [1630427420.482814661, 699945.742000000]: ABORTED: No motion plan found. No execution attempted.\u001b[0m\n",
      "\u001b[0m[ INFO] [1630427425.391052806, 700425.642000000]: ABORTED: No motion plan found. No execution attempted.\u001b[0m\n",
      "\u001b[0m[ INFO] [1630427429.801591930, 700853.342000000]: ABORTED: No motion plan found. No execution attempted.\u001b[0m\n",
      "\u001b[0m[ INFO] [1630427433.214680016, 701188.942000000]: ABORTED: No motion plan found. No execution attempted.\u001b[0m\n",
      "\u001b[0m[ INFO] [1630427434.121014058, 701275.642000000]: ABORTED: No motion plan found. No execution attempted.\u001b[0m\n",
      "\u001b[0m[ INFO] [1630427434.999147529, 701360.442000000]: ABORTED: No motion plan found. No execution attempted.\u001b[0m\n",
      "\u001b[0m[ INFO] [1630427436.638578736, 701522.042000000]: ABORTED: No motion plan found. No execu"
     ]
    },
    {
     "output_type": "stream",
     "name": "stderr",
     "text": [
      "\u001b[33m[ WARN] [1630427437.542345416, 701610.842000000]: Fail: ABORTED: No motion plan found. No execution attempted.\u001b[0m\n",
      "\u001b[33m[ WARN] [1630427437.785322039, 701634.542000000]: Fail: ABORTED: No motion plan found. No execution attempted.\u001b[0m\n"
     ]
    },
    {
     "output_type": "stream",
     "name": "stdout",
     "text": [
      "Ziel wurde erreicht Reward=  1000\n"
     ]
    },
    {
     "output_type": "stream",
     "name": "stderr",
     "text": [
      "\u001b[33m[ WARN] [1630427440.366004315, 701886.342000000]: Fail: ABORTED: No motion plan found. No execution attempted.\u001b[0m\n",
      "\u001b[33m[ WARN] [1630427442.920798951, 702140.342000000]: Fail: ABORTED: No motion plan found. No execution attempted.\u001b[0m\n",
      "\u001b[33m[ WARN] [1630427444.740756857, 702318.542000000]: Fail: ABORTED: No motion plan found. No execution attempted.\u001b[0m\n"
     ]
    },
    {
     "output_type": "stream",
     "name": "stdout",
     "text": [
      "step = 75: loss = -15.464795112609863\n"
     ]
    },
    {
     "output_type": "stream",
     "name": "stderr",
     "text": [
      "\u001b[33m[ WARN] [1630427445.128511253, 702357.342000000]: Fail: ABORTED: No motion plan found. No execution attempted.\u001b[0m\n",
      "\u001b[33m[ WARN] [1630427448.872922564, 702724.742000000]: Fail: ABORTED: No motion plan found. No execution attempted.\u001b[0m\n",
      "\u001b[33m[ WARN] [1630427452.942924817, 703127.842000000]: Fail: ABORTED: No motion plan found. No execution attempted.\u001b[0m\n",
      "\u001b[33m[ WARN] [1630427454.512198807, 703283.242000000]: Fail: ABORTED: No motion plan found. No execution attempted.\u001b[0m\n",
      "\u001b[33m[ WARN] [1630427457.388762262, 703567.242000000]: Fail: ABORTED: No motion plan found. No execution attempted.\u001b[0m\n",
      "\u001b[33m[ WARN] [1630427458.823854952, 703708.242000000]: Fail: ABORTED: No motion plan found. No execution attempted.\u001b[0m\n",
      "\u001b[33m[ WARN] [1630427460.667215775, 703889.742000000]: Fail: ABORTED: No motion plan found. No execution attempted.\u001b[0m\n",
      "\u001b[33m[ WARN] [1630427461.946897856, 704015.942000000]: Fail: ABORTED: No motion plan found. No execution attempted.\u001b[0m\n",
      "\u001b[33m[ WARN] [1630427464.776952400, 704296.142000000]: Fail: ABORTED: No motion plan found. No execution attempted.\u001b[0m\n"
     ]
    },
    {
     "output_type": "stream",
     "name": "stdout",
     "text": [
      "step = 100: loss = -16.90677833557129\n"
     ]
    },
    {
     "output_type": "stream",
     "name": "stderr",
     "text": [
      "\u001b[33m[ WARN] [1630427469.608432528, 704767.842000000]: Fail: ABORTED: No motion plan found. No execution attempted.\u001b[0m\n",
      "\u001b[33m[ WARN] [1630427480.896619633, 705857.642000000]: Fail: ABORTED: No motion plan found. No execution attempted.\u001b[0m\n",
      "\u001b[33m[ WARN] [1630427481.642446616, 705929.742000000]: Fail: ABORTED: No motion plan found. No execution attempted.\u001b[0m\n",
      "\u001b[33m[ WARN] [1630427486.094959263, 706368.342000000]: Fail: ABORTED: No motion plan found. No execution attempted.\u001b[0m\n",
      "\u001b[33m[ WARN] [1630427487.337182764, 706490.042000000]: Fail: ABORTED: No motion plan found. No execution attempted.\u001b[0m\n",
      "\u001b[33m[ WARN] [1630427489.232158821, 706678.242000000]: Fail: ABORTED: No motion plan found. No execution attempted.\u001b[0m\n"
     ]
    },
    {
     "output_type": "stream",
     "name": "stdout",
     "text": [
      "step = 125: loss = -11.293200492858887\n"
     ]
    },
    {
     "output_type": "stream",
     "name": "stderr",
     "text": [
      "\u001b[33m[ WARN] [1630427494.887212102, 707237.942000000]: Fail: ABORTED: No motion plan found. No execution attempted.\u001b[0m\n",
      "\u001b[33m[ WARN] [1630427498.462956165, 707590.542000000]: Fail: ABORTED: No motion plan found. No execution attempted.\u001b[0m\n",
      "\u001b[33m[ WARN] [1630427499.277402417, 707671.742000000]: Fail: ABORTED: No motion plan found. No execution attempted.\u001b[0m\n",
      "\u001b[33m[ WARN] [1630427501.527662448, 707893.242000000]: Fail: ABORTED: No motion plan found. No execution attempted.\u001b[0m\n",
      "\u001b[33m[ WARN] [1630427502.345915312, 707974.242000000]: Fail: ABORTED: No motion plan found. No execution attempted.\u001b[0m\n",
      "\u001b[33m[ WARN] [1630427504.658332789, 708202.642000000]: Fail: ABORTED: No motion plan found. No execution attempted.\u001b[0m\n",
      "\u001b[33m[ WARN] [1630427506.545175298, 708389.842000000]: Fail: ABORTED: No motion plan found. No execution attempted.\u001b[0m\n",
      "\u001b[33m[ WARN] [1630427508.422275052, 708575.642000000]: Fail: ABORTED: No motion plan found. No execution attempted.\u001b[0m\n",
      "\u001b[33m[ WARN] [1630427509.357808005, 708668.142000000]: Fail: ABORTED: No motion plan found. No execution attempted.\u001b[0m\n",
      "\u001b[33m[ WARN] [1630427512.552136423, 708977.242000000]: Fail: ABORTED: No motion plan found. No execution attempted.\u001b[0m\n",
      "\u001b[33m[ WARN] [1630427513.770496997, 709093.042000000]: Fail: ABORTED: No motion plan found. No execution attempted.\u001b[0m\n",
      "\u001b[33m[ WARN] [1630427514.141974543, 709129.142000000]: Fail: ABORTED: No motion plan found. No execution attempted.\u001b[0m\n",
      "\u001b[33m[ WARN] [1630427516.080962552, 709321.842000000]: Fail: ABORTED: No motion plan found. No execution attempted.\u001b[0m\n",
      "\u001b[33m[ WARN] [1630427517.431398801, 709453.342000000]: Fail: ABORTED: No motion plan found. No execution attempted.\u001b[0m\n"
     ]
    },
    {
     "output_type": "stream",
     "name": "stdout",
     "text": [
      "step = 150: loss = -17.787616729736328\n"
     ]
    },
    {
     "output_type": "stream",
     "name": "stderr",
     "text": [
      "\u001b[33m[ WARN] [1630427518.200138795, 709528.642000000]: Fail: ABORTED: No motion plan found. No execution attempted.\u001b[0m\n",
      "\u001b[33m[ WARN] [1630427519.013819925, 709607.942000000]: Fail: ABORTED: No motion plan found. No execution attempted.\u001b[0m\n",
      "\u001b[33m[ WARN] [1630427520.933267500, 709797.842000000]: Fail: ABORTED: No motion plan found. No execution attempted.\u001b[0m\n"
     ]
    },
    {
     "output_type": "stream",
     "name": "stdout",
     "text": [
      "tion attempted.\u001b[0m\n",
      "\u001b[0m[ INFO] [1630427437.616916380, 701618.542000000]: ABORTED: No motion plan found. No execution attempted.\u001b[0m\n",
      "\u001b[0m[ INFO] [1630427437.818018520, 701637.942000000]: ABORTED: No motion plan found. No execution attempted.\u001b[0m\n",
      "\u001b[0m[ INFO] [1630427440.489568814, 701899.042000000]: ABORTED: No motion plan found. No execution attempted.\u001b[0m\n",
      "\u001b[0m[ INFO] [1630427443.085025695, 702155.742000000]: ABORTED: No motion plan found. No execution attempted.\u001b[0m\n",
      "\u001b[0m[ INFO] [1630427444.794689775, 702324.142000000]: ABORTED: No motion plan found. No execution attempted.\u001b[0m\n",
      "\u001b[0m[ INFO] [1630427445.171119562, 702361.442000000]: ABORTED: No motion plan found. No execution attempted.\u001b[0m\n",
      "\u001b[0m[ INFO] [1630427448.918351969, 702728.742000000]: ABORTED: No motion plan found. No execution attempted.\u001b[0m\n",
      "\u001b[0m[ INFO] [1630427452.979720635, 703131.542000000]: ABORTED: No motion plan found. No execution attempted.\u001b[0m\n",
      "\u001b[0m[ INFO] [1630427454.551732763, 703287.342000000]: ABORTED: No motion plan found. No execution attempted.\u001b[0m\n",
      "\u001b[0m[ INFO] [1630427457.452841136, 703573.742000000]: ABORTED: No motion plan found. No execution attempted.\u001b[0m\n",
      "\u001b[0m[ INFO] [1630427458.947354710, 703720.742000000]: ABORTED: No motion plan found. No execution attempted.\u001b[0m\n",
      "\u001b[0m[ INFO] [1630427460.711600002, 703894.342000000]: ABORTED: No motion plan found. No execution attempted.\u001b[0m\n",
      "\u001b[0m[ INFO] [1630427461.989399311, 704020.242000000]: ABORTED: No motion plan found. No execution attempted.\u001b[0m\n",
      "\u001b[0m[ INFO] [1630427464.869804078, 704305.242000000]: ABORTED: No motion plan found. No execution attempted.\u001b[0m\n",
      "\u001b[0m[ INFO] [1630427469.655250137, 704772.742000000]: ABORTED: No motion plan found. No execution attempted.\u001b[0m\n",
      "\u001b[0m[ INFO] [1630427480.939999392, 705862.042000000]: ABORTED: No motion plan found. No execution attempted.\u001b[0m\n",
      "\u001b[0m[ INFO] [1630427481.695482329, 705933.742000000]: ABORTED: No motion plan found. No execution attempted.\u001b[0m\n",
      "\u001b[0m[ INFO] [1630427486.139047032, 706372.642000000]: ABORTED: No motion plan found. No execution attempted.\u001b[0m\n",
      "\u001b[0m[ INFO] [1630427487.399801170, 706496.442000000]: ABORTED: No motion plan found. No execution attempted.\u001b[0m\n",
      "\u001b[0m[ INFO] [1630427489.290157875, 706684.042000000]: ABORTED: No motion plan found. No execution attempted.\u001b[0m\n",
      "\u001b[0m[ INFO] [1630427494.934997908, 707242.642000000]: ABORTED: No motion plan found. No execution attempted.\u001b[0m\n",
      "\u001b[0m[ INFO] [1630427498.496957780, 707594.142000000]: ABORTED: No motion plan found. No execution attempted.\u001b[0m\n",
      "\u001b[0m[ INFO] [1630427499.320145179, 707675.942000000]: ABORTED: No motion plan found. No execution attempted.\u001b[0m\n",
      "\u001b[0m[ INFO] [1630427501.584394177, 707898.542000000]: ABORTED: No motion plan found. No execution attempted.\u001b[0m\n",
      "\u001b[0m[ INFO] [1630427502.398456536, 707979.742000000]: ABORTED: No motion plan found. No execution attempted.\u001b[0m\n",
      "\u001b[0m[ INFO] [1630427504.822845264, 708218.942000000]: ABORTED: No motion plan found. No execution attempted.\u001b[0m\n",
      "\u001b[0m[ INFO] [1630427506.595010568, 708394.742000000]: ABORTED: No motion plan found. No execution attempted.\u001b[0m\n",
      "\u001b[0m[ INFO] [1630427508.575244015, 708590.842000000]: ABORTED: No motion plan found. No execution attempted.\u001b[0m\n",
      "\u001b[0m[ INFO] [1630427509.410288948, 708673.342000000]: ABORTED: No motion plan found. No execution attempted.\u001b[0m\n",
      "\u001b[0m[ INFO] [1630427512.666118891, 708988.642000000]: ABORTED: No motion plan found. No execution attempted.\u001b[0m\n",
      "\u001b[0m[ INFO] [1630427513.843796538, 709100.842000000]: ABORTED: No motion plan found. No execution attempted.\u001b[0m\n",
      "\u001b[0m[ INFO] [1630427514.184514960, 709133.142000000]: ABORTED: No motion plan found. No execution attempted.\u001b[0m\n",
      "\u001b[0m[ INFO] [1630427516.123646141, 709325.942000000]: ABORTED: No motion plan found. No execution attempted.\u001b[0m\n",
      "\u001b[0m[ INFO] [1630427517.546243855, 709464.642000000]: ABORTED: No motion plan found. No execution attempted.\u001b[0m\n",
      "\u001b[0m[ INFO] [1630427518.238465293, 709532.542000000]: ABORTED: No motion plan found. No execution attempted.\u001b[0m\n",
      "\u001b[0m[ INFO] [1630427519.086063100, 709615.442000000]: ABORTED: No motion plan found. No execution attempted.\u001b[0m\n",
      "\u001b[0m[ IN"
     ]
    },
    {
     "output_type": "stream",
     "name": "stderr",
     "text": [
      "\u001b[33m[ WARN] [1630427524.019501081, 710104.242000000]: Fail: ABORTED: No motion plan found. No execution attempted.\u001b[0m\n",
      "\u001b[33m[ WARN] [1630427531.566028484, 710852.142000000]: Fail: ABORTED: No motion plan found. No execution attempted.\u001b[0m\n",
      "\u001b[33m[ WARN] [1630427532.218516019, 710916.242000000]: Fail: ABORTED: No motion plan found. No execution attempted.\u001b[0m\n",
      "\u001b[33m[ WARN] [1630427532.976108716, 710991.342000000]: Fail: ABORTED: No motion plan found. No execution attempted.\u001b[0m\n",
      "\u001b[33m[ WARN] [1630427533.716139103, 711064.142000000]: Fail: ABORTED: No motion plan found. No execution attempted.\u001b[0m\n",
      "\u001b[33m[ WARN] [1630427534.920311189, 711184.442000000]: Fail: ABORTED: No motion plan found. No execution attempted.\u001b[0m\n",
      "\u001b[33m[ WARN] [1630427536.658237385, 711356.442000000]: Fail: ABORTED: No motion plan found. No execution attempted.\u001b[0m\n",
      "\u001b[33m[ WARN] [1630427540.459547378, 711731.442000000]: Fail: ABORTED: No motion plan found. No execution attempted.\u001b[0m\n"
     ]
    },
    {
     "output_type": "stream",
     "name": "stdout",
     "text": [
      "step = 175: loss = -4.100080490112305\n"
     ]
    },
    {
     "output_type": "stream",
     "name": "stderr",
     "text": [
      "\u001b[33m[ WARN] [1630427540.832280849, 711767.742000000]: Fail: ABORTED: No motion plan found. No execution attempted.\u001b[0m\n",
      "\u001b[33m[ WARN] [1630427541.156371603, 711799.042000000]: Fail: ABORTED: No motion plan found. No execution attempted.\u001b[0m\n",
      "\u001b[33m[ WARN] [1630427542.077566529, 711890.342000000]: Fail: ABORTED: No motion plan found. No execution attempted.\u001b[0m\n",
      "\u001b[33m[ WARN] [1630427542.933903916, 711974.542000000]: Fail: ABORTED: No motion plan found. No execution attempted.\u001b[0m\n",
      "\u001b[33m[ WARN] [1630427545.327203469, 712210.042000000]: Fail: ABORTED: No motion plan found. No execution attempted.\u001b[0m\n",
      "\u001b[33m[ WARN] [1630427548.230912708, 712495.842000000]: Fail: ABORTED: No motion plan found. No execution attempted.\u001b[0m\n",
      "\u001b[33m[ WARN] [1630427550.386226448, 712708.042000000]: Fail: ABORTED: No motion plan found. No execution attempted.\u001b[0m\n",
      "\u001b[33m[ WARN] [1630427550.723267215, 712740.942000000]: Fail: ABORTED: No motion plan found. No execution attempted.\u001b[0m\n",
      "\u001b[33m[ WARN] [1630427552.437173274, 712911.142000000]: Fail: ABORTED: No motion plan found. No execution attempted.\u001b[0m\n",
      "\u001b[33m[ WARN] [1630427553.339025431, 713000.742000000]: Fail: ABORTED: No motion plan found. No execution attempted.\u001b[0m\n",
      "\u001b[33m[ WARN] [1630427554.183706440, 713084.442000000]: Fail: ABORTED: No motion plan found. No execution attempted.\u001b[0m\n",
      "\u001b[33m[ WARN] [1630427555.095709412, 713172.942000000]: Fail: ABORTED: No motion plan found. No execution attempted.\u001b[0m\n",
      "\u001b[33m[ WARN] [1630427559.567780852, 713615.742000000]: Fail: ABORTED: No motion plan found. No execution attempted.\u001b[0m\n",
      "\u001b[33m[ WARN] [1630427561.086587862, 713762.942000000]: Fail: ABORTED: No motion plan found. No execution attempted.\u001b[0m\n",
      "\u001b[33m[ WARN] [1630427562.602725765, 713910.042000000]: Fail: ABORTED: No motion plan found. No execution attempted.\u001b[0m\n"
     ]
    },
    {
     "output_type": "stream",
     "name": "stdout",
     "text": [
      "step = 200: loss = -16.0831298828125\n",
      "step = 200: Average Return = -3.7958133220672607\n"
     ]
    },
    {
     "output_type": "stream",
     "name": "stderr",
     "text": [
      "\u001b[33m[ WARN] [1630427568.337903249, 714476.742000000]: Fail: ABORTED: No motion plan found. No execution attempted.\u001b[0m\n",
      "\u001b[33m[ WARN] [1630427573.711577844, 715001.942000000]: Fail: ABORTED: No motion plan found. No execution attempted.\u001b[0m\n",
      "\u001b[33m[ WARN] [1630427575.114502989, 715139.742000000]: Fail: ABORTED: No motion plan found. No execution attempted.\u001b[0m\n",
      "\u001b[33m[ WARN] [1630427577.215490850, 715344.842000000]: Fail: ABORTED: No motion plan found. No execution attempted.\u001b[0m\n",
      "\u001b[33m[ WARN] [1630427578.309836918, 715452.042000000]: Fail: ABORTED: No motion plan found. No execution attempted.\u001b[0m\n",
      "\u001b[33m[ WARN] [1630427578.896913102, 715507.042000000]: Fail: ABORTED: No motion plan found. No execution attempted.\u001b[0m\n",
      "\u001b[33m[ WARN] [1630427579.287272182, 715545.342000000]: Fail: ABORTED: No motion plan found. No execution attempted.\u001b[0m\n",
      "\u001b[33m[ WARN] [1630427579.666260722, 715583.042000000]: Fail: ABORTED: No motion plan found. No execution attempted.\u001b[0m\n",
      "\u001b[33m[ WARN] [1630427579.945307102, 715610.342000000]: Fail: ABORTED: No motion plan found. No execution attempted.\u001b[0m\n",
      "\u001b[33m[ WARN] [1630427580.876513170, 715701.942000000]: Fail: ABORTED: No motion plan found. No execution attempted.\u001b[0m\n",
      "\u001b[33m[ WARN] [1630427582.056661380, 715814.342000000]: Fail: ABORTED: No motion plan found. No execution attempted.\u001b[0m\n",
      "\u001b[33m[ WARN] [1630427584.512302294, 716054.342000000]: Fail: ABORTED: No motion plan found. No execution attempted.\u001b[0m\n",
      "\u001b[33m[ WARN] [1630427584.760852316, 716078.742000000]: Fail: ABORTED: No motion plan found. No execution attempted.\u001b[0m\n"
     ]
    },
    {
     "output_type": "stream",
     "name": "stdout",
     "text": [
      "FO] [1630427521.036078044, 709807.842000000]: ABORTED: No motion plan found. No execution attempted.\u001b[0m\n",
      "\u001b[0m[ INFO] [1630427524.062346096, 710108.242000000]: ABORTED: No motion plan found. No execution attempted.\u001b[0m\n",
      "\u001b[0m[ INFO] [1630427531.602778212, 710855.742000000]: ABORTED: No motion plan found. No execution attempted.\u001b[0m\n",
      "\u001b[0m[ INFO] [1630427532.685377243, 710962.542000000]: ABORTED: No motion plan found. No execution attempted.\u001b[0m\n",
      "\u001b[0m[ INFO] [1630427533.032934204, 710996.842000000]: ABORTED: No motion plan found. No execution attempted.\u001b[0m\n",
      "\u001b[0m[ INFO] [1630427533.761451089, 711068.242000000]: ABORTED: No motion plan found. No execution attempted.\u001b[0m\n",
      "\u001b[0m[ INFO] [1630427534.974329971, 711189.442000000]: ABORTED: No motion plan found. No execution attempted.\u001b[0m\n",
      "\u001b[0m[ INFO] [1630427536.712073243, 711361.442000000]: ABORTED: No motion plan found. No execution attempted.\u001b[0m\n",
      "\u001b[0m[ INFO] [1630427540.534117514, 711738.542000000]: ABORTED: No motion plan found. No execution attempted.\u001b[0m\n",
      "\u001b[0m[ INFO] [1630427540.876772886, 711771.842000000]: ABORTED: No motion plan found. No execution attempted.\u001b[0m\n",
      "\u001b[0m[ INFO] [1630427541.269498749, 711810.242000000]: ABORTED: No motion plan found. No execution attempted.\u001b[0m\n",
      "\u001b[0m[ INFO] [1630427542.141194131, 711896.142000000]: ABORTED: No motion plan found. No execution attempted.\u001b[0m\n",
      "\u001b[0m[ INFO] [1630427543.018105396, 711982.942000000]: ABORTED: No motion plan found. No execution attempted.\u001b[0m\n",
      "\u001b[0m[ INFO] [1630427545.382309181, 712215.642000000]: ABORTED: No motion plan found. No execution attempted.\u001b[0m\n",
      "\u001b[0m[ INFO] [1630427548.294309202, 712501.742000000]: ABORTED: No motion plan found. No execution attempted.\u001b[0m\n",
      "\u001b[0m[ INFO] [1630427550.428548110, 712711.842000000]: ABORTED: No motion plan found. No execution attempted.\u001b[0m\n",
      "\u001b[0m[ INFO] [1630427550.777559850, 712745.942000000]: ABORTED: No motion plan found. No execution attempted.\u001b[0m\n",
      "\u001b[0m[ INFO] [1630427552.501970409, 712917.642000000]: ABORTED: No motion plan found. No execution attempted.\u001b[0m\n",
      "\u001b[0m[ INFO] [1630427553.451935774, 713011.942000000]: ABORTED: No motion plan found. No execution attempted.\u001b[0m\n",
      "\u001b[0m[ INFO] [1630427554.247077099, 713090.742000000]: ABORTED: No motion plan found. No execution attempted.\u001b[0m\n",
      "\u001b[0m[ INFO] [1630427555.300570376, 713192.842000000]: ABORTED: No motion plan found. No execution attempted.\u001b[0m\n",
      "\u001b[0m[ INFO] [1630427559.632011338, 713621.842000000]: ABORTED: No motion plan found. No execution attempted.\u001b[0m\n",
      "\u001b[0m[ INFO] [1630427561.163448266, 713770.242000000]: ABORTED: No motion plan found. No execution attempted.\u001b[0m\n",
      "\u001b[0m[ INFO] [1630427562.645917127, 713913.642000000]: ABORTED: No motion plan found. No execution attempted.\u001b[0m\n",
      "\u001b[0m[ INFO] [1630427568.447967089, 714486.842000000]: ABORTED: No motion plan found. No execution attempted.\u001b[0m\n",
      "\u001b[0m[ INFO] [1630427573.898115664, 715020.242000000]: ABORTED: No motion plan found. No execution attempted.\u001b[0m\n",
      "\u001b[0m[ INFO] [1630427575.158227851, 715144.042000000]: ABORTED: No motion plan found. No execution attempted.\u001b[0m\n",
      "\u001b[0m[ INFO] [1630427577.350549874, 715357.042000000]: ABORTED: No motion plan found. No execution attempted.\u001b[0m\n",
      "\u001b[0m[ INFO] [1630427578.487410820, 715467.142000000]: ABORTED: No motion plan found. No execution attempted.\u001b[0m\n",
      "\u001b[0m[ INFO] [1630427578.941073164, 715510.942000000]: ABORTED: No motion plan found. No execution attempted.\u001b[0m\n",
      "\u001b[0m[ INFO] [1630427579.350521712, 715551.242000000]: ABORTED: No motion plan found. No execution attempted.\u001b[0m\n",
      "\u001b[0m[ INFO] [1630427579.729567052, 715589.042000000]: ABORTED: No motion plan found. No execution attempted.\u001b[0m\n",
      "\u001b[0m[ INFO] [1630427579.997506485, 715615.342000000]: ABORTED: No motion plan found. No execution attempted.\u001b[0m\n",
      "\u001b[0m[ INFO] [1630427581.082812143, 715721.942000000]: ABORTED: No motion plan found. No execution attempted.\u001b[0m\n",
      "\u001b[0m[ INFO] [1630427582.092155152, 715817.842000000]: ABORTED: No motion plan found. No execution attempted.\u001b[0m\n",
      "\u001b[0m[ INFO] [1630427584.575646523, 716060.542000000]: ABORTED: No motion plan found. No execution attempted.\u001b[0m\n",
      "\u001b[0m[ INFO] [1630427584.813662023, 7"
     ]
    },
    {
     "output_type": "stream",
     "name": "stderr",
     "text": [
      "\u001b[33m[ WARN] [1630427589.682422495, 716562.442000000]: Fail: ABORTED: No motion plan found. No execution attempted.\u001b[0m\n",
      "\u001b[33m[ WARN] [1630427590.385272283, 716631.442000000]: Fail: ABORTED: No motion plan found. No execution attempted.\u001b[0m\n",
      "\u001b[33m[ WARN] [1630427591.240462539, 716716.742000000]: Fail: ABORTED: No motion plan found. No execution attempted.\u001b[0m\n"
     ]
    },
    {
     "output_type": "stream",
     "name": "stdout",
     "text": [
      "step = 225: loss = -14.279934883117676\n"
     ]
    },
    {
     "output_type": "stream",
     "name": "stderr",
     "text": [
      "\u001b[31m[ERROR] [1630427592.955646629, 716884.942000000]: Got a callback on a goalHandle that we're not tracking.                 This is an internal SimpleActionClient/ActionClient bug.                 This could also be a GoalID collision\u001b[0m\n",
      "\u001b[33m[ WARN] [1630427594.544863103, 717041.842000000]: Fail: ABORTED: No motion plan found. No execution attempted.\u001b[0m\n",
      "\u001b[31m[ERROR] [1630427594.806738915, 717066.742000000]: Got a callback on a goalHandle that we're not tracking.                 This is an internal SimpleActionClient/ActionClient bug.                 This could also be a GoalID collision\u001b[0m\n",
      "\u001b[33m[ WARN] [1630427594.888991947, 717074.842000000]: Fail: ABORTED: No motion plan found. No execution attempted.\u001b[0m\n",
      "\u001b[33m[ WARN] [1630427595.323724606, 717116.842000000]: Fail: ABORTED: No motion plan found. No execution attempted.\u001b[0m\n",
      "\u001b[33m[ WARN] [1630427598.941462500, 717475.842000000]: Fail: ABORTED: No motion plan found. No execution attempted.\u001b[0m\n",
      "\u001b[33m[ WARN] [1630427599.654164278, 717546.342000000]: Fail: ABORTED: No motion plan found. No execution attempted.\u001b[0m\n",
      "\u001b[33m[ WARN] [1630427599.958097577, 717576.042000000]: Fail: ABORTED: No motion plan found. No execution attempted.\u001b[0m\n",
      "\u001b[33m[ WARN] [1630427600.372573347, 717617.542000000]: Fail: ABORTED: No motion plan found. No execution attempted.\u001b[0m\n",
      "\u001b[33m[ WARN] [1630427605.758497281, 718151.342000000]: Fail: ABORTED: No motion plan found. No execution attempted.\u001b[0m\n",
      "\u001b[33m[ WARN] [1630427606.871702468, 718260.842000000]: Fail: ABORTED: No motion plan found. No execution attempted.\u001b[0m\n",
      "\u001b[33m[ WARN] [1630427607.234086053, 718296.342000000]: Fail: ABORTED: No motion plan found. No execution attempted.\u001b[0m\n",
      "\u001b[33m[ WARN] [1630427608.609001556, 718431.842000000]: Fail: ABORTED: No motion plan found. No execution attempted.\u001b[0m\n",
      "\u001b[33m[ WARN] [1630427609.466549617, 718516.942000000]: Fail: ABORTED: No motion plan found. No execution attempted.\u001b[0m\n",
      "\u001b[33m[ WARN] [1630427611.237949616, 718691.242000000]: Fail: ABORTED: No motion plan found. No execution attempted.\u001b[0m\n",
      "\u001b[33m[ WARN] [1630427611.634881005, 718730.042000000]: Fail: ABORTED: No motion plan found. No execution attempted.\u001b[0m\n",
      "\u001b[33m[ WARN] [1630427611.882651305, 718753.942000000]: Fail: ABORTED: No motion plan found. No execution attempted.\u001b[0m\n"
     ]
    },
    {
     "output_type": "error",
     "ename": "KeyboardInterrupt",
     "evalue": "",
     "traceback": [
      "\u001b[0;31m---------------------------------------------------------------------------\u001b[0m",
      "\u001b[0;31mKeyboardInterrupt\u001b[0m                         Traceback (most recent call last)",
      "\u001b[0;32m/tmp/ipykernel_374601/3980646871.py\u001b[0m in \u001b[0;36m<module>\u001b[0;34m\u001b[0m\n\u001b[1;32m     17\u001b[0m \u001b[0;34m\u001b[0m\u001b[0m\n\u001b[1;32m     18\u001b[0m   \u001b[0;31m# Collect a few episodes using collect_policy and save to the replay buffer.\u001b[0m\u001b[0;34m\u001b[0m\u001b[0;34m\u001b[0m\u001b[0;34m\u001b[0m\u001b[0m\n\u001b[0;32m---> 19\u001b[0;31m   collect_episode(\n\u001b[0m\u001b[1;32m     20\u001b[0m       train_env, tf_agent.collect_policy, collect_episodes_per_iteration)\n\u001b[1;32m     21\u001b[0m \u001b[0;34m\u001b[0m\u001b[0m\n",
      "\u001b[0;32m/tmp/ipykernel_374601/1422355529.py\u001b[0m in \u001b[0;36mcollect_episode\u001b[0;34m(environment, policy, num_episodes)\u001b[0m\n\u001b[1;32m      7\u001b[0m     \u001b[0mtime_step\u001b[0m \u001b[0;34m=\u001b[0m \u001b[0menvironment\u001b[0m\u001b[0;34m.\u001b[0m\u001b[0mcurrent_time_step\u001b[0m\u001b[0;34m(\u001b[0m\u001b[0;34m)\u001b[0m\u001b[0;34m\u001b[0m\u001b[0;34m\u001b[0m\u001b[0m\n\u001b[1;32m      8\u001b[0m     \u001b[0maction_step\u001b[0m \u001b[0;34m=\u001b[0m \u001b[0mpolicy\u001b[0m\u001b[0;34m.\u001b[0m\u001b[0maction\u001b[0m\u001b[0;34m(\u001b[0m\u001b[0mtime_step\u001b[0m\u001b[0;34m)\u001b[0m\u001b[0;34m\u001b[0m\u001b[0;34m\u001b[0m\u001b[0m\n\u001b[0;32m----> 9\u001b[0;31m     \u001b[0mnext_time_step\u001b[0m \u001b[0;34m=\u001b[0m \u001b[0menvironment\u001b[0m\u001b[0;34m.\u001b[0m\u001b[0mstep\u001b[0m\u001b[0;34m(\u001b[0m\u001b[0maction_step\u001b[0m\u001b[0;34m.\u001b[0m\u001b[0maction\u001b[0m\u001b[0;34m)\u001b[0m\u001b[0;34m\u001b[0m\u001b[0;34m\u001b[0m\u001b[0m\n\u001b[0m\u001b[1;32m     10\u001b[0m     \u001b[0mtraj\u001b[0m \u001b[0;34m=\u001b[0m \u001b[0mtrajectory\u001b[0m\u001b[0;34m.\u001b[0m\u001b[0mfrom_transition\u001b[0m\u001b[0;34m(\u001b[0m\u001b[0mtime_step\u001b[0m\u001b[0;34m,\u001b[0m \u001b[0maction_step\u001b[0m\u001b[0;34m,\u001b[0m \u001b[0mnext_time_step\u001b[0m\u001b[0;34m)\u001b[0m\u001b[0;34m\u001b[0m\u001b[0;34m\u001b[0m\u001b[0m\n\u001b[1;32m     11\u001b[0m \u001b[0;34m\u001b[0m\u001b[0m\n",
      "\u001b[0;32m~/.local/lib/python3.8/site-packages/tf_agents/environments/tf_environment.py\u001b[0m in \u001b[0;36mstep\u001b[0;34m(self, action)\u001b[0m\n\u001b[1;32m    239\u001b[0m           \u001b[0mcorresponding\u001b[0m \u001b[0mto\u001b[0m\u001b[0;31m \u001b[0m\u001b[0;31m`\u001b[0m\u001b[0mobservation_spec\u001b[0m\u001b[0;34m(\u001b[0m\u001b[0;34m)\u001b[0m\u001b[0;31m`\u001b[0m\u001b[0;34m.\u001b[0m\u001b[0;34m\u001b[0m\u001b[0;34m\u001b[0m\u001b[0m\n\u001b[1;32m    240\u001b[0m     \"\"\"\n\u001b[0;32m--> 241\u001b[0;31m     \u001b[0;32mreturn\u001b[0m \u001b[0mself\u001b[0m\u001b[0;34m.\u001b[0m\u001b[0m_step\u001b[0m\u001b[0;34m(\u001b[0m\u001b[0maction\u001b[0m\u001b[0;34m)\u001b[0m\u001b[0;34m\u001b[0m\u001b[0;34m\u001b[0m\u001b[0m\n\u001b[0m\u001b[1;32m    242\u001b[0m \u001b[0;34m\u001b[0m\u001b[0m\n\u001b[1;32m    243\u001b[0m   \u001b[0;32mdef\u001b[0m \u001b[0mrender\u001b[0m\u001b[0;34m(\u001b[0m\u001b[0mself\u001b[0m\u001b[0;34m)\u001b[0m\u001b[0;34m:\u001b[0m\u001b[0;34m\u001b[0m\u001b[0;34m\u001b[0m\u001b[0m\n",
      "\u001b[0;32m~/.local/lib/python3.8/site-packages/tf_agents/environments/tf_py_environment.py\u001b[0m in \u001b[0;36m_step\u001b[0;34m(self, actions)\u001b[0m\n\u001b[1;32m    314\u001b[0m                 \u001b[0;34m'but saw action with shape %s:\\n   %s'\u001b[0m \u001b[0;34m%\u001b[0m\u001b[0;34m\u001b[0m\u001b[0;34m\u001b[0m\u001b[0m\n\u001b[1;32m    315\u001b[0m                 (self.batch_size, action.shape, action))\n\u001b[0;32m--> 316\u001b[0;31m       outputs = tf.numpy_function(\n\u001b[0m\u001b[1;32m    317\u001b[0m           \u001b[0m_isolated_step_py\u001b[0m\u001b[0;34m,\u001b[0m\u001b[0;34m\u001b[0m\u001b[0;34m\u001b[0m\u001b[0m\n\u001b[1;32m    318\u001b[0m           \u001b[0mflat_actions\u001b[0m\u001b[0;34m,\u001b[0m\u001b[0;34m\u001b[0m\u001b[0;34m\u001b[0m\u001b[0m\n",
      "\u001b[0;32m~/.local/lib/python3.8/site-packages/tensorflow/python/util/dispatch.py\u001b[0m in \u001b[0;36mwrapper\u001b[0;34m(*args, **kwargs)\u001b[0m\n\u001b[1;32m    204\u001b[0m     \u001b[0;34m\"\"\"Call target, and fall back on dispatchers if there is a TypeError.\"\"\"\u001b[0m\u001b[0;34m\u001b[0m\u001b[0;34m\u001b[0m\u001b[0m\n\u001b[1;32m    205\u001b[0m     \u001b[0;32mtry\u001b[0m\u001b[0;34m:\u001b[0m\u001b[0;34m\u001b[0m\u001b[0;34m\u001b[0m\u001b[0m\n\u001b[0;32m--> 206\u001b[0;31m       \u001b[0;32mreturn\u001b[0m \u001b[0mtarget\u001b[0m\u001b[0;34m(\u001b[0m\u001b[0;34m*\u001b[0m\u001b[0margs\u001b[0m\u001b[0;34m,\u001b[0m \u001b[0;34m**\u001b[0m\u001b[0mkwargs\u001b[0m\u001b[0;34m)\u001b[0m\u001b[0;34m\u001b[0m\u001b[0;34m\u001b[0m\u001b[0m\n\u001b[0m\u001b[1;32m    207\u001b[0m     \u001b[0;32mexcept\u001b[0m \u001b[0;34m(\u001b[0m\u001b[0mTypeError\u001b[0m\u001b[0;34m,\u001b[0m \u001b[0mValueError\u001b[0m\u001b[0;34m)\u001b[0m\u001b[0;34m:\u001b[0m\u001b[0;34m\u001b[0m\u001b[0;34m\u001b[0m\u001b[0m\n\u001b[1;32m    208\u001b[0m       \u001b[0;31m# Note: convert_to_eager_tensor currently raises a ValueError, not a\u001b[0m\u001b[0;34m\u001b[0m\u001b[0;34m\u001b[0m\u001b[0;34m\u001b[0m\u001b[0m\n",
      "\u001b[0;32m~/.local/lib/python3.8/site-packages/tensorflow/python/ops/script_ops.py\u001b[0m in \u001b[0;36mnumpy_function\u001b[0;34m(func, inp, Tout, name)\u001b[0m\n\u001b[1;32m    708\u001b[0m     \u001b[0mSingle\u001b[0m \u001b[0;32mor\u001b[0m \u001b[0mlist\u001b[0m \u001b[0mof\u001b[0m\u001b[0;31m \u001b[0m\u001b[0;31m`\u001b[0m\u001b[0mtf\u001b[0m\u001b[0;34m.\u001b[0m\u001b[0mTensor\u001b[0m\u001b[0;31m`\u001b[0m \u001b[0mwhich\u001b[0m\u001b[0;31m \u001b[0m\u001b[0;31m`\u001b[0m\u001b[0mfunc\u001b[0m\u001b[0;31m`\u001b[0m \u001b[0mcomputes\u001b[0m\u001b[0;34m.\u001b[0m\u001b[0;34m\u001b[0m\u001b[0;34m\u001b[0m\u001b[0m\n\u001b[1;32m    709\u001b[0m   \"\"\"\n\u001b[0;32m--> 710\u001b[0;31m   \u001b[0;32mreturn\u001b[0m \u001b[0mpy_func_common\u001b[0m\u001b[0;34m(\u001b[0m\u001b[0mfunc\u001b[0m\u001b[0;34m,\u001b[0m \u001b[0minp\u001b[0m\u001b[0;34m,\u001b[0m \u001b[0mTout\u001b[0m\u001b[0;34m,\u001b[0m \u001b[0mstateful\u001b[0m\u001b[0;34m=\u001b[0m\u001b[0;32mTrue\u001b[0m\u001b[0;34m,\u001b[0m \u001b[0mname\u001b[0m\u001b[0;34m=\u001b[0m\u001b[0mname\u001b[0m\u001b[0;34m)\u001b[0m\u001b[0;34m\u001b[0m\u001b[0;34m\u001b[0m\u001b[0m\n\u001b[0m\u001b[1;32m    711\u001b[0m \u001b[0;34m\u001b[0m\u001b[0m\n\u001b[1;32m    712\u001b[0m \u001b[0;34m\u001b[0m\u001b[0m\n",
      "\u001b[0;32m~/.local/lib/python3.8/site-packages/tensorflow/python/ops/script_ops.py\u001b[0m in \u001b[0;36mpy_func_common\u001b[0;34m(func, inp, Tout, stateful, name)\u001b[0m\n\u001b[1;32m    595\u001b[0m   \"\"\"\n\u001b[1;32m    596\u001b[0m   \u001b[0;32mif\u001b[0m \u001b[0mcontext\u001b[0m\u001b[0;34m.\u001b[0m\u001b[0mexecuting_eagerly\u001b[0m\u001b[0;34m(\u001b[0m\u001b[0;34m)\u001b[0m\u001b[0;34m:\u001b[0m\u001b[0;34m\u001b[0m\u001b[0;34m\u001b[0m\u001b[0m\n\u001b[0;32m--> 597\u001b[0;31m     \u001b[0mresult\u001b[0m \u001b[0;34m=\u001b[0m \u001b[0mfunc\u001b[0m\u001b[0;34m(\u001b[0m\u001b[0;34m*\u001b[0m\u001b[0;34m[\u001b[0m\u001b[0mnp\u001b[0m\u001b[0;34m.\u001b[0m\u001b[0marray\u001b[0m\u001b[0;34m(\u001b[0m\u001b[0mx\u001b[0m\u001b[0;34m)\u001b[0m \u001b[0;32mfor\u001b[0m \u001b[0mx\u001b[0m \u001b[0;32min\u001b[0m \u001b[0minp\u001b[0m\u001b[0;34m]\u001b[0m\u001b[0;34m)\u001b[0m\u001b[0;34m\u001b[0m\u001b[0;34m\u001b[0m\u001b[0m\n\u001b[0m\u001b[1;32m    598\u001b[0m     \u001b[0mresult\u001b[0m \u001b[0;34m=\u001b[0m \u001b[0mnest\u001b[0m\u001b[0;34m.\u001b[0m\u001b[0mflatten\u001b[0m\u001b[0;34m(\u001b[0m\u001b[0mresult\u001b[0m\u001b[0;34m)\u001b[0m\u001b[0;34m\u001b[0m\u001b[0;34m\u001b[0m\u001b[0m\n\u001b[1;32m    599\u001b[0m \u001b[0;34m\u001b[0m\u001b[0m\n",
      "\u001b[0;32m~/.local/lib/python3.8/site-packages/tf_agents/environments/tf_py_environment.py\u001b[0m in \u001b[0;36m_isolated_step_py\u001b[0;34m(*flattened_actions)\u001b[0m\n\u001b[1;32m    301\u001b[0m \u001b[0;34m\u001b[0m\u001b[0m\n\u001b[1;32m    302\u001b[0m     \u001b[0;32mdef\u001b[0m \u001b[0m_isolated_step_py\u001b[0m\u001b[0;34m(\u001b[0m\u001b[0;34m*\u001b[0m\u001b[0mflattened_actions\u001b[0m\u001b[0;34m)\u001b[0m\u001b[0;34m:\u001b[0m\u001b[0;34m\u001b[0m\u001b[0;34m\u001b[0m\u001b[0m\n\u001b[0;32m--> 303\u001b[0;31m       \u001b[0;32mreturn\u001b[0m \u001b[0mself\u001b[0m\u001b[0;34m.\u001b[0m\u001b[0m_execute\u001b[0m\u001b[0;34m(\u001b[0m\u001b[0m_step_py\u001b[0m\u001b[0;34m,\u001b[0m \u001b[0;34m*\u001b[0m\u001b[0mflattened_actions\u001b[0m\u001b[0;34m)\u001b[0m\u001b[0;34m\u001b[0m\u001b[0;34m\u001b[0m\u001b[0m\n\u001b[0m\u001b[1;32m    304\u001b[0m \u001b[0;34m\u001b[0m\u001b[0m\n\u001b[1;32m    305\u001b[0m     \u001b[0;32mwith\u001b[0m \u001b[0mtf\u001b[0m\u001b[0;34m.\u001b[0m\u001b[0mname_scope\u001b[0m\u001b[0;34m(\u001b[0m\u001b[0;34m'step'\u001b[0m\u001b[0;34m)\u001b[0m\u001b[0;34m:\u001b[0m\u001b[0;34m\u001b[0m\u001b[0;34m\u001b[0m\u001b[0m\n",
      "\u001b[0;32m~/.local/lib/python3.8/site-packages/tf_agents/environments/tf_py_environment.py\u001b[0m in \u001b[0;36m_execute\u001b[0;34m(self, fn, *args, **kwargs)\u001b[0m\n\u001b[1;32m    210\u001b[0m   \u001b[0;32mdef\u001b[0m \u001b[0m_execute\u001b[0m\u001b[0;34m(\u001b[0m\u001b[0mself\u001b[0m\u001b[0;34m,\u001b[0m \u001b[0mfn\u001b[0m\u001b[0;34m,\u001b[0m \u001b[0;34m*\u001b[0m\u001b[0margs\u001b[0m\u001b[0;34m,\u001b[0m \u001b[0;34m**\u001b[0m\u001b[0mkwargs\u001b[0m\u001b[0;34m)\u001b[0m\u001b[0;34m:\u001b[0m\u001b[0;34m\u001b[0m\u001b[0;34m\u001b[0m\u001b[0m\n\u001b[1;32m    211\u001b[0m     \u001b[0;32mif\u001b[0m \u001b[0;32mnot\u001b[0m \u001b[0mself\u001b[0m\u001b[0;34m.\u001b[0m\u001b[0m_pool\u001b[0m\u001b[0;34m:\u001b[0m\u001b[0;34m\u001b[0m\u001b[0;34m\u001b[0m\u001b[0m\n\u001b[0;32m--> 212\u001b[0;31m       \u001b[0;32mreturn\u001b[0m \u001b[0mfn\u001b[0m\u001b[0;34m(\u001b[0m\u001b[0;34m*\u001b[0m\u001b[0margs\u001b[0m\u001b[0;34m,\u001b[0m \u001b[0;34m**\u001b[0m\u001b[0mkwargs\u001b[0m\u001b[0;34m)\u001b[0m\u001b[0;34m\u001b[0m\u001b[0;34m\u001b[0m\u001b[0m\n\u001b[0m\u001b[1;32m    213\u001b[0m     \u001b[0;32mreturn\u001b[0m \u001b[0mself\u001b[0m\u001b[0;34m.\u001b[0m\u001b[0m_pool\u001b[0m\u001b[0;34m.\u001b[0m\u001b[0mapply\u001b[0m\u001b[0;34m(\u001b[0m\u001b[0mfn\u001b[0m\u001b[0;34m,\u001b[0m \u001b[0margs\u001b[0m\u001b[0;34m=\u001b[0m\u001b[0margs\u001b[0m\u001b[0;34m,\u001b[0m \u001b[0mkwds\u001b[0m\u001b[0;34m=\u001b[0m\u001b[0mkwargs\u001b[0m\u001b[0;34m)\u001b[0m\u001b[0;34m\u001b[0m\u001b[0;34m\u001b[0m\u001b[0m\n\u001b[1;32m    214\u001b[0m \u001b[0;34m\u001b[0m\u001b[0m\n",
      "\u001b[0;32m~/.local/lib/python3.8/site-packages/tf_agents/environments/tf_py_environment.py\u001b[0m in \u001b[0;36m_step_py\u001b[0;34m(*flattened_actions)\u001b[0m\n\u001b[1;32m    297\u001b[0m         packed = tf.nest.pack_sequence_as(\n\u001b[1;32m    298\u001b[0m             structure=self.action_spec(), flat_sequence=flattened_actions)\n\u001b[0;32m--> 299\u001b[0;31m         \u001b[0mself\u001b[0m\u001b[0;34m.\u001b[0m\u001b[0m_time_step\u001b[0m \u001b[0;34m=\u001b[0m \u001b[0mself\u001b[0m\u001b[0;34m.\u001b[0m\u001b[0m_env\u001b[0m\u001b[0;34m.\u001b[0m\u001b[0mstep\u001b[0m\u001b[0;34m(\u001b[0m\u001b[0mpacked\u001b[0m\u001b[0;34m)\u001b[0m\u001b[0;34m\u001b[0m\u001b[0;34m\u001b[0m\u001b[0m\n\u001b[0m\u001b[1;32m    300\u001b[0m         \u001b[0;32mreturn\u001b[0m \u001b[0mtf\u001b[0m\u001b[0;34m.\u001b[0m\u001b[0mnest\u001b[0m\u001b[0;34m.\u001b[0m\u001b[0mflatten\u001b[0m\u001b[0;34m(\u001b[0m\u001b[0mself\u001b[0m\u001b[0;34m.\u001b[0m\u001b[0m_time_step\u001b[0m\u001b[0;34m)\u001b[0m\u001b[0;34m\u001b[0m\u001b[0;34m\u001b[0m\u001b[0m\n\u001b[1;32m    301\u001b[0m \u001b[0;34m\u001b[0m\u001b[0m\n",
      "\u001b[0;32m~/.local/lib/python3.8/site-packages/tf_agents/environments/py_environment.py\u001b[0m in \u001b[0;36mstep\u001b[0;34m(self, action)\u001b[0m\n\u001b[1;32m    201\u001b[0m       \u001b[0;32mreturn\u001b[0m \u001b[0mself\u001b[0m\u001b[0;34m.\u001b[0m\u001b[0mreset\u001b[0m\u001b[0;34m(\u001b[0m\u001b[0;34m)\u001b[0m\u001b[0;34m\u001b[0m\u001b[0;34m\u001b[0m\u001b[0m\n\u001b[1;32m    202\u001b[0m \u001b[0;34m\u001b[0m\u001b[0m\n\u001b[0;32m--> 203\u001b[0;31m     \u001b[0mself\u001b[0m\u001b[0;34m.\u001b[0m\u001b[0m_current_time_step\u001b[0m \u001b[0;34m=\u001b[0m \u001b[0mself\u001b[0m\u001b[0;34m.\u001b[0m\u001b[0m_step\u001b[0m\u001b[0;34m(\u001b[0m\u001b[0maction\u001b[0m\u001b[0;34m)\u001b[0m\u001b[0;34m\u001b[0m\u001b[0;34m\u001b[0m\u001b[0m\n\u001b[0m\u001b[1;32m    204\u001b[0m     \u001b[0;32mreturn\u001b[0m \u001b[0mself\u001b[0m\u001b[0;34m.\u001b[0m\u001b[0m_current_time_step\u001b[0m\u001b[0;34m\u001b[0m\u001b[0;34m\u001b[0m\u001b[0m\n\u001b[1;32m    205\u001b[0m \u001b[0;34m\u001b[0m\u001b[0m\n",
      "\u001b[0;32m~/.local/lib/python3.8/site-packages/tf_agents/environments/batched_py_environment.py\u001b[0m in \u001b[0;36m_step\u001b[0;34m(self, actions)\u001b[0m\n\u001b[1;32m    164\u001b[0m     \u001b[0;32mif\u001b[0m \u001b[0mself\u001b[0m\u001b[0;34m.\u001b[0m\u001b[0m_num_envs\u001b[0m \u001b[0;34m==\u001b[0m \u001b[0;36m1\u001b[0m\u001b[0;34m:\u001b[0m\u001b[0;34m\u001b[0m\u001b[0;34m\u001b[0m\u001b[0m\n\u001b[1;32m    165\u001b[0m       \u001b[0mactions\u001b[0m \u001b[0;34m=\u001b[0m \u001b[0mnest_utils\u001b[0m\u001b[0;34m.\u001b[0m\u001b[0munbatch_nested_array\u001b[0m\u001b[0;34m(\u001b[0m\u001b[0mactions\u001b[0m\u001b[0;34m)\u001b[0m\u001b[0;34m\u001b[0m\u001b[0;34m\u001b[0m\u001b[0m\n\u001b[0;32m--> 166\u001b[0;31m       \u001b[0mtime_steps\u001b[0m \u001b[0;34m=\u001b[0m \u001b[0mself\u001b[0m\u001b[0;34m.\u001b[0m\u001b[0m_envs\u001b[0m\u001b[0;34m[\u001b[0m\u001b[0;36m0\u001b[0m\u001b[0;34m]\u001b[0m\u001b[0;34m.\u001b[0m\u001b[0mstep\u001b[0m\u001b[0;34m(\u001b[0m\u001b[0mactions\u001b[0m\u001b[0;34m)\u001b[0m\u001b[0;34m\u001b[0m\u001b[0;34m\u001b[0m\u001b[0m\n\u001b[0m\u001b[1;32m    167\u001b[0m       \u001b[0;32mreturn\u001b[0m \u001b[0mnest_utils\u001b[0m\u001b[0;34m.\u001b[0m\u001b[0mbatch_nested_array\u001b[0m\u001b[0;34m(\u001b[0m\u001b[0mtime_steps\u001b[0m\u001b[0;34m)\u001b[0m\u001b[0;34m\u001b[0m\u001b[0;34m\u001b[0m\u001b[0m\n\u001b[1;32m    168\u001b[0m     \u001b[0;32melse\u001b[0m\u001b[0;34m:\u001b[0m\u001b[0;34m\u001b[0m\u001b[0;34m\u001b[0m\u001b[0m\n",
      "\u001b[0;32m~/.local/lib/python3.8/site-packages/tf_agents/environments/py_environment.py\u001b[0m in \u001b[0;36mstep\u001b[0;34m(self, action)\u001b[0m\n\u001b[1;32m    201\u001b[0m       \u001b[0;32mreturn\u001b[0m \u001b[0mself\u001b[0m\u001b[0;34m.\u001b[0m\u001b[0mreset\u001b[0m\u001b[0;34m(\u001b[0m\u001b[0;34m)\u001b[0m\u001b[0;34m\u001b[0m\u001b[0;34m\u001b[0m\u001b[0m\n\u001b[1;32m    202\u001b[0m \u001b[0;34m\u001b[0m\u001b[0m\n\u001b[0;32m--> 203\u001b[0;31m     \u001b[0mself\u001b[0m\u001b[0;34m.\u001b[0m\u001b[0m_current_time_step\u001b[0m \u001b[0;34m=\u001b[0m \u001b[0mself\u001b[0m\u001b[0;34m.\u001b[0m\u001b[0m_step\u001b[0m\u001b[0;34m(\u001b[0m\u001b[0maction\u001b[0m\u001b[0;34m)\u001b[0m\u001b[0;34m\u001b[0m\u001b[0;34m\u001b[0m\u001b[0m\n\u001b[0m\u001b[1;32m    204\u001b[0m     \u001b[0;32mreturn\u001b[0m \u001b[0mself\u001b[0m\u001b[0;34m.\u001b[0m\u001b[0m_current_time_step\u001b[0m\u001b[0;34m\u001b[0m\u001b[0;34m\u001b[0m\u001b[0m\n\u001b[1;32m    205\u001b[0m \u001b[0;34m\u001b[0m\u001b[0m\n",
      "\u001b[0;32m~/.local/lib/python3.8/site-packages/tf_agents/environments/wrappers.py\u001b[0m in \u001b[0;36m_step\u001b[0;34m(self, action)\u001b[0m\n\u001b[1;32m    115\u001b[0m       \u001b[0;32mreturn\u001b[0m \u001b[0mself\u001b[0m\u001b[0;34m.\u001b[0m\u001b[0mreset\u001b[0m\u001b[0;34m(\u001b[0m\u001b[0;34m)\u001b[0m\u001b[0;34m\u001b[0m\u001b[0;34m\u001b[0m\u001b[0m\n\u001b[1;32m    116\u001b[0m \u001b[0;34m\u001b[0m\u001b[0m\n\u001b[0;32m--> 117\u001b[0;31m     \u001b[0mtime_step\u001b[0m \u001b[0;34m=\u001b[0m \u001b[0mself\u001b[0m\u001b[0;34m.\u001b[0m\u001b[0m_env\u001b[0m\u001b[0;34m.\u001b[0m\u001b[0mstep\u001b[0m\u001b[0;34m(\u001b[0m\u001b[0maction\u001b[0m\u001b[0;34m)\u001b[0m\u001b[0;34m\u001b[0m\u001b[0;34m\u001b[0m\u001b[0m\n\u001b[0m\u001b[1;32m    118\u001b[0m \u001b[0;34m\u001b[0m\u001b[0m\n\u001b[1;32m    119\u001b[0m     \u001b[0mself\u001b[0m\u001b[0;34m.\u001b[0m\u001b[0m_num_steps\u001b[0m \u001b[0;34m+=\u001b[0m \u001b[0;36m1\u001b[0m\u001b[0;34m\u001b[0m\u001b[0;34m\u001b[0m\u001b[0m\n",
      "\u001b[0;32m~/.local/lib/python3.8/site-packages/tf_agents/environments/py_environment.py\u001b[0m in \u001b[0;36mstep\u001b[0;34m(self, action)\u001b[0m\n\u001b[1;32m    201\u001b[0m       \u001b[0;32mreturn\u001b[0m \u001b[0mself\u001b[0m\u001b[0;34m.\u001b[0m\u001b[0mreset\u001b[0m\u001b[0;34m(\u001b[0m\u001b[0;34m)\u001b[0m\u001b[0;34m\u001b[0m\u001b[0;34m\u001b[0m\u001b[0m\n\u001b[1;32m    202\u001b[0m \u001b[0;34m\u001b[0m\u001b[0m\n\u001b[0;32m--> 203\u001b[0;31m     \u001b[0mself\u001b[0m\u001b[0;34m.\u001b[0m\u001b[0m_current_time_step\u001b[0m \u001b[0;34m=\u001b[0m \u001b[0mself\u001b[0m\u001b[0;34m.\u001b[0m\u001b[0m_step\u001b[0m\u001b[0;34m(\u001b[0m\u001b[0maction\u001b[0m\u001b[0;34m)\u001b[0m\u001b[0;34m\u001b[0m\u001b[0;34m\u001b[0m\u001b[0m\n\u001b[0m\u001b[1;32m    204\u001b[0m     \u001b[0;32mreturn\u001b[0m \u001b[0mself\u001b[0m\u001b[0;34m.\u001b[0m\u001b[0m_current_time_step\u001b[0m\u001b[0;34m\u001b[0m\u001b[0;34m\u001b[0m\u001b[0m\n\u001b[1;32m    205\u001b[0m \u001b[0;34m\u001b[0m\u001b[0m\n",
      "\u001b[0;32m~/.local/lib/python3.8/site-packages/tf_agents/environments/gym_wrapper.py\u001b[0m in \u001b[0;36m_step\u001b[0;34m(self, action)\u001b[0m\n\u001b[1;32m    215\u001b[0m     \u001b[0;31m# TODO(oars): Figure out how tuple or dict actions will be generated by the\u001b[0m\u001b[0;34m\u001b[0m\u001b[0;34m\u001b[0m\u001b[0;34m\u001b[0m\u001b[0m\n\u001b[1;32m    216\u001b[0m     \u001b[0;31m# agents and if we can pass them through directly to gym.\u001b[0m\u001b[0;34m\u001b[0m\u001b[0;34m\u001b[0m\u001b[0;34m\u001b[0m\u001b[0m\n\u001b[0;32m--> 217\u001b[0;31m     \u001b[0mobservation\u001b[0m\u001b[0;34m,\u001b[0m \u001b[0mreward\u001b[0m\u001b[0;34m,\u001b[0m \u001b[0mself\u001b[0m\u001b[0;34m.\u001b[0m\u001b[0m_done\u001b[0m\u001b[0;34m,\u001b[0m \u001b[0mself\u001b[0m\u001b[0;34m.\u001b[0m\u001b[0m_info\u001b[0m \u001b[0;34m=\u001b[0m \u001b[0mself\u001b[0m\u001b[0;34m.\u001b[0m\u001b[0m_gym_env\u001b[0m\u001b[0;34m.\u001b[0m\u001b[0mstep\u001b[0m\u001b[0;34m(\u001b[0m\u001b[0maction\u001b[0m\u001b[0;34m)\u001b[0m\u001b[0;34m\u001b[0m\u001b[0;34m\u001b[0m\u001b[0m\n\u001b[0m\u001b[1;32m    218\u001b[0m \u001b[0;34m\u001b[0m\u001b[0m\n\u001b[1;32m    219\u001b[0m     \u001b[0;32mif\u001b[0m \u001b[0mself\u001b[0m\u001b[0;34m.\u001b[0m\u001b[0m_match_obs_space_dtype\u001b[0m\u001b[0;34m:\u001b[0m\u001b[0;34m\u001b[0m\u001b[0;34m\u001b[0m\u001b[0m\n",
      "\u001b[0;32m~/Documents/Studium/Bachelorarbeit/praktischer_Teil/moveo_DRL/src/openai_ros/openai_ros/src/openai_ros/robot_gazebo_env_goal.py\u001b[0m in \u001b[0;36mstep\u001b[0;34m(self, action)\u001b[0m\n\u001b[1;32m     47\u001b[0m         \u001b[0;31m# print (\"Action:\")\u001b[0m\u001b[0;34m\u001b[0m\u001b[0;34m\u001b[0m\u001b[0;34m\u001b[0m\u001b[0m\n\u001b[1;32m     48\u001b[0m         \u001b[0;31m# print (action)\u001b[0m\u001b[0;34m\u001b[0m\u001b[0;34m\u001b[0m\u001b[0;34m\u001b[0m\u001b[0m\n\u001b[0;32m---> 49\u001b[0;31m         \u001b[0mself\u001b[0m\u001b[0;34m.\u001b[0m\u001b[0m_set_action\u001b[0m\u001b[0;34m(\u001b[0m\u001b[0maction\u001b[0m\u001b[0;34m)\u001b[0m\u001b[0;34m\u001b[0m\u001b[0;34m\u001b[0m\u001b[0m\n\u001b[0m\u001b[1;32m     50\u001b[0m         \u001b[0;31m# print (\"Get Obs\")\u001b[0m\u001b[0;34m\u001b[0m\u001b[0;34m\u001b[0m\u001b[0;34m\u001b[0m\u001b[0m\n\u001b[1;32m     51\u001b[0m         \u001b[0mobs\u001b[0m \u001b[0;34m=\u001b[0m \u001b[0mself\u001b[0m\u001b[0;34m.\u001b[0m\u001b[0m_get_obs\u001b[0m\u001b[0;34m(\u001b[0m\u001b[0;34m)\u001b[0m\u001b[0;34m\u001b[0m\u001b[0;34m\u001b[0m\u001b[0m\n",
      "\u001b[0;32m~/Documents/Studium/Bachelorarbeit/praktischer_Teil/moveo_DRL/src/moveo_training/src/moveo_training/moveo_inverse_kinematic_discrete_MultiActions.py\u001b[0m in \u001b[0;36m_set_action\u001b[0;34m(self, action)\u001b[0m\n\u001b[1;32m    140\u001b[0m \u001b[0;34m\u001b[0m\u001b[0m\n\u001b[1;32m    141\u001b[0m \u001b[0;34m\u001b[0m\u001b[0m\n\u001b[0;32m--> 142\u001b[0;31m         \u001b[0mself\u001b[0m\u001b[0;34m.\u001b[0m\u001b[0mmovement_result\u001b[0m \u001b[0;34m=\u001b[0m \u001b[0mself\u001b[0m\u001b[0;34m.\u001b[0m\u001b[0mset_trajectory_joints\u001b[0m\u001b[0;34m(\u001b[0m\u001b[0mself\u001b[0m\u001b[0;34m.\u001b[0m\u001b[0mnew_pos\u001b[0m\u001b[0;34m)\u001b[0m\u001b[0;34m\u001b[0m\u001b[0;34m\u001b[0m\u001b[0m\n\u001b[0m\u001b[1;32m    143\u001b[0m \u001b[0;34m\u001b[0m\u001b[0m\n\u001b[1;32m    144\u001b[0m \u001b[0;34m\u001b[0m\u001b[0m\n",
      "\u001b[0;32m~/Documents/Studium/Bachelorarbeit/praktischer_Teil/moveo_DRL/src/moveo_training/src/moveo_training/moveo_env.py\u001b[0m in \u001b[0;36mset_trajectory_joints\u001b[0;34m(self, initial_qpos)\u001b[0m\n\u001b[1;32m    136\u001b[0m         \u001b[0;31m#position = [ 0.0, 0.0, 0.0, 0.0, 0.0]\u001b[0m\u001b[0;34m\u001b[0m\u001b[0;34m\u001b[0m\u001b[0;34m\u001b[0m\u001b[0m\n\u001b[1;32m    137\u001b[0m         \u001b[0;32mtry\u001b[0m\u001b[0;34m:\u001b[0m\u001b[0;34m\u001b[0m\u001b[0;34m\u001b[0m\u001b[0m\n\u001b[0;32m--> 138\u001b[0;31m             \u001b[0mself\u001b[0m\u001b[0;34m.\u001b[0m\u001b[0mmoveo_commander_obj\u001b[0m\u001b[0;34m.\u001b[0m\u001b[0mmove_joints_traj\u001b[0m\u001b[0;34m(\u001b[0m\u001b[0mposition\u001b[0m\u001b[0;34m)\u001b[0m\u001b[0;34m\u001b[0m\u001b[0;34m\u001b[0m\u001b[0m\n\u001b[0m\u001b[1;32m    139\u001b[0m             \u001b[0mresult\u001b[0m \u001b[0;34m=\u001b[0m \u001b[0;32mTrue\u001b[0m\u001b[0;34m\u001b[0m\u001b[0;34m\u001b[0m\u001b[0m\n\u001b[1;32m    140\u001b[0m         \u001b[0;32mexcept\u001b[0m \u001b[0mException\u001b[0m \u001b[0;32mas\u001b[0m \u001b[0mex\u001b[0m\u001b[0;34m:\u001b[0m\u001b[0;34m\u001b[0m\u001b[0;34m\u001b[0m\u001b[0m\n",
      "\u001b[0;32m~/Documents/Studium/Bachelorarbeit/praktischer_Teil/moveo_DRL/src/moveo_training/src/moveo_training/moveo_commander.py\u001b[0m in \u001b[0;36mmove_joints_traj\u001b[0;34m(self, joint_positions)\u001b[0m\n\u001b[1;32m     42\u001b[0m         \u001b[0mself\u001b[0m\u001b[0;34m.\u001b[0m\u001b[0mgroup_variable_values\u001b[0m\u001b[0;34m[\u001b[0m\u001b[0;36m4\u001b[0m\u001b[0;34m]\u001b[0m \u001b[0;34m=\u001b[0m \u001b[0mjoint_positions\u001b[0m\u001b[0;34m[\u001b[0m\u001b[0;36m4\u001b[0m\u001b[0;34m]\u001b[0m\u001b[0;34m\u001b[0m\u001b[0;34m\u001b[0m\u001b[0m\n\u001b[1;32m     43\u001b[0m         \u001b[0mself\u001b[0m\u001b[0;34m.\u001b[0m\u001b[0mgroup\u001b[0m\u001b[0;34m.\u001b[0m\u001b[0mset_joint_value_target\u001b[0m\u001b[0;34m(\u001b[0m\u001b[0mself\u001b[0m\u001b[0;34m.\u001b[0m\u001b[0mgroup_variable_values\u001b[0m\u001b[0;34m)\u001b[0m\u001b[0;34m\u001b[0m\u001b[0;34m\u001b[0m\u001b[0m\n\u001b[0;32m---> 44\u001b[0;31m         \u001b[0mself\u001b[0m\u001b[0;34m.\u001b[0m\u001b[0mexecute_trajectory\u001b[0m\u001b[0;34m(\u001b[0m\u001b[0;34m)\u001b[0m\u001b[0;34m\u001b[0m\u001b[0;34m\u001b[0m\u001b[0m\n\u001b[0m\u001b[1;32m     45\u001b[0m \u001b[0;34m\u001b[0m\u001b[0m\n\u001b[1;32m     46\u001b[0m         \u001b[0;32mreturn\u001b[0m \u001b[0;32mTrue\u001b[0m\u001b[0;34m,\u001b[0m \u001b[0;34m\"Trajectory executed OK\"\u001b[0m\u001b[0;34m\u001b[0m\u001b[0;34m\u001b[0m\u001b[0m\n",
      "\u001b[0;32m~/Documents/Studium/Bachelorarbeit/praktischer_Teil/moveo_DRL/src/moveo_training/src/moveo_training/moveo_commander.py\u001b[0m in \u001b[0;36mexecute_trajectory\u001b[0;34m(self)\u001b[0m\n\u001b[1;32m     48\u001b[0m     \u001b[0;32mdef\u001b[0m \u001b[0mexecute_trajectory\u001b[0m\u001b[0;34m(\u001b[0m\u001b[0mself\u001b[0m\u001b[0;34m)\u001b[0m\u001b[0;34m:\u001b[0m\u001b[0;34m\u001b[0m\u001b[0;34m\u001b[0m\u001b[0m\n\u001b[1;32m     49\u001b[0m \u001b[0;34m\u001b[0m\u001b[0m\n\u001b[0;32m---> 50\u001b[0;31m         \u001b[0mself\u001b[0m\u001b[0;34m.\u001b[0m\u001b[0mplan\u001b[0m \u001b[0;34m=\u001b[0m \u001b[0mself\u001b[0m\u001b[0;34m.\u001b[0m\u001b[0mgroup\u001b[0m\u001b[0;34m.\u001b[0m\u001b[0mplan\u001b[0m\u001b[0;34m(\u001b[0m\u001b[0;34m)\u001b[0m\u001b[0;34m\u001b[0m\u001b[0;34m\u001b[0m\u001b[0m\n\u001b[0m\u001b[1;32m     51\u001b[0m         \u001b[0mself\u001b[0m\u001b[0;34m.\u001b[0m\u001b[0mgroup\u001b[0m\u001b[0;34m.\u001b[0m\u001b[0mgo\u001b[0m\u001b[0;34m(\u001b[0m\u001b[0mwait\u001b[0m\u001b[0;34m=\u001b[0m\u001b[0;32mTrue\u001b[0m\u001b[0;34m)\u001b[0m\u001b[0;34m\u001b[0m\u001b[0;34m\u001b[0m\u001b[0m\n\u001b[1;32m     52\u001b[0m \u001b[0;34m\u001b[0m\u001b[0m\n",
      "\u001b[0;32m/opt/ros/noetic/lib/python3/dist-packages/moveit_commander/move_group.py\u001b[0m in \u001b[0;36mplan\u001b[0;34m(self, joints)\u001b[0m\n\u001b[1;32m    627\u001b[0m                 \u001b[0mself\u001b[0m\u001b[0;34m.\u001b[0m\u001b[0mset_joint_value_target\u001b[0m\u001b[0;34m(\u001b[0m\u001b[0mjoints\u001b[0m\u001b[0;34m)\u001b[0m\u001b[0;34m\u001b[0m\u001b[0;34m\u001b[0m\u001b[0m\n\u001b[1;32m    628\u001b[0m \u001b[0;34m\u001b[0m\u001b[0m\n\u001b[0;32m--> 629\u001b[0;31m         \u001b[0;34m(\u001b[0m\u001b[0merror_code_msg\u001b[0m\u001b[0;34m,\u001b[0m \u001b[0mtrajectory_msg\u001b[0m\u001b[0;34m,\u001b[0m \u001b[0mplanning_time\u001b[0m\u001b[0;34m)\u001b[0m \u001b[0;34m=\u001b[0m \u001b[0mself\u001b[0m\u001b[0;34m.\u001b[0m\u001b[0m_g\u001b[0m\u001b[0;34m.\u001b[0m\u001b[0mplan\u001b[0m\u001b[0;34m(\u001b[0m\u001b[0;34m)\u001b[0m\u001b[0;34m\u001b[0m\u001b[0;34m\u001b[0m\u001b[0m\n\u001b[0m\u001b[1;32m    630\u001b[0m \u001b[0;34m\u001b[0m\u001b[0m\n\u001b[1;32m    631\u001b[0m         \u001b[0merror_code\u001b[0m \u001b[0;34m=\u001b[0m \u001b[0mMoveItErrorCodes\u001b[0m\u001b[0;34m(\u001b[0m\u001b[0;34m)\u001b[0m\u001b[0;34m\u001b[0m\u001b[0;34m\u001b[0m\u001b[0m\n",
      "\u001b[0;31mKeyboardInterrupt\u001b[0m: "
     ]
    }
   ],
   "metadata": {}
  },
  {
   "cell_type": "code",
   "execution_count": null,
   "source": [
    "steps = range(0, num_iterations + 1, eval_interval)\n",
    "plt.plot(steps, returns)\n",
    "plt.ylabel('Average Return')\n",
    "plt.xlabel('Step')\n",
    "plt.ylim(top=250)"
   ],
   "outputs": [
    {
     "output_type": "execute_result",
     "data": {
      "text/plain": [
       "(-1049.899664390087, 250.0)"
      ]
     },
     "metadata": {},
     "execution_count": 16
    },
    {
     "output_type": "display_data",
     "data": {
      "text/plain": [
       "<Figure size 432x288 with 1 Axes>"
      ],
      "image/png": "[encoded data removed]"
     },
     "metadata": {
      "needs_background": "light"
     }
    }
   ],
   "metadata": {}
  }
 ],
 "metadata": {
  "orig_nbformat": 4,
  "kernelspec": {
   "name": "python3",
   "display_name": "Python 3 (ipykernel)",
   "language": "python"
  },
  "language_info": {
   "name": "python",
   "version": "3.8.8",
   "mimetype": "text/x-python",
   "codemirror_mode": {
    "name": "ipython",
    "version": 3
   },
   "pygments_lexer": "ipython3",
   "nbconvert_exporter": "python",
   "file_extension": ".py"
  }
 },
 "nbformat": 4,
 "nbformat_minor": 2
}